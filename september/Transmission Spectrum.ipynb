{
 "cells": [
  {
   "cell_type": "markdown",
   "id": "b29b61e5-0579-45e4-bc3d-7dbcc1fae7cc",
   "metadata": {},
   "source": [
    "## Transmission Spectrum\n",
    "波導腔的傳輸和諧振模式\n",
    "\n",
    "為了計算透射光譜，測量波導一端從另一端源的通量光譜   \n",
    "先import"
   ]
  },
  {
   "cell_type": "code",
   "execution_count": 1,
   "id": "4be008db-c4e7-41d1-aaa5-e61010f746bf",
   "metadata": {},
   "outputs": [],
   "source": [
    "import meep as mp\n",
    "import numpy as np\n",
    "from matplotlib import pyplot as plt\n",
    "from IPython.display import Video\n",
    "import IPython\n",
    "#%matplotlib notebook"
   ]
  },
  {
   "cell_type": "markdown",
   "id": "cf9c49ab-13c8-4514-94fd-2735d6ebd6ad",
   "metadata": {},
   "source": [
    "## 定義參數\n",
    "都以mu為單位  \n",
    "photonic crystal的週期為1mu"
   ]
  },
  {
   "cell_type": "code",
   "execution_count": 29,
   "id": "252dbd17-a26e-4067-ba21-7fda4ca49c0b",
   "metadata": {},
   "outputs": [],
   "source": [
    "resolution = 20   # pixels/um 解析度\n",
    "\n",
    "eps = 13          # (epslion)dielectric constant of waveguide \n",
    "w = 1.2           # width of waveguide\n",
    "r = 0.36          # radius of holes\n",
    "d = 1.4           # defect spacing (ordinary spacing = 1)\n",
    "N = 3             # number of holes on either side of defect\n",
    "\n",
    "sy = 6            # size of cell in y direction (perpendicular to wvg.)\n",
    "pad = 2           # padding between last hole and PML edge\n",
    "dpml = 1          # PML thickness"
   ]
  },
  {
   "cell_type": "markdown",
   "id": "66be462b-b625-4255-994b-e0556ba25c1b",
   "metadata": {},
   "source": [
    "給定參數"
   ]
  },
  {
   "cell_type": "code",
   "execution_count": 30,
   "id": "ec98b7fe-c822-4204-b784-63eb14b41af3",
   "metadata": {},
   "outputs": [],
   "source": [
    "sx = 2*(pad+dpml+N)+d-1  # size of cell in x direction"
   ]
  },
  {
   "cell_type": "code",
   "execution_count": 31,
   "id": "530c3f31-7760-440c-bae2-9b605100da5e",
   "metadata": {},
   "outputs": [],
   "source": [
    "cell = mp.Vector3(sx,sy,0)"
   ]
  },
  {
   "cell_type": "code",
   "execution_count": 32,
   "id": "bc0c9355-62af-4daa-a756-49c427a91d30",
   "metadata": {},
   "outputs": [],
   "source": [
    "blk = mp.Block(size=mp.Vector3(mp.inf,w,mp.inf), material=mp.Medium(epsilon=eps))\n",
    "geometry = [blk]\n",
    "\n",
    "for i in range(N):\n",
    "        geometry.append(mp.Cylinder(r, center=mp.Vector3(d/2+i)))\n",
    "        geometry.append(mp.Cylinder(r, center=mp.Vector3(-(d/2+i))))"
   ]
  },
  {
   "cell_type": "markdown",
   "id": "fedb6aa7-661f-4638-a017-abed651b69c6",
   "metadata": {},
   "source": [
    "for 迴圈去放入孔洞\n",
    "\n",
    "吸收邊界"
   ]
  },
  {
   "cell_type": "code",
   "execution_count": 33,
   "id": "c72372aa-0fcd-4332-97dc-3514d65a2155",
   "metadata": {},
   "outputs": [],
   "source": [
    "pml_layers = [mp.PML(1.0)]"
   ]
  },
  {
   "cell_type": "markdown",
   "id": "77f6c0c1-a84a-4924-a158-e8d9c1f80b5f",
   "metadata": {},
   "source": [
    "從之前的計算 頻率參數 在 f0.2~0.3之間有𝐻𝑧 -polarized band gap 所以直接覆蓋整個區間"
   ]
  },
  {
   "cell_type": "code",
   "execution_count": 34,
   "id": "6043f97c-aede-43f2-a605-a489d2a87b62",
   "metadata": {},
   "outputs": [],
   "source": [
    "fcen = 0.25   # pulse center frequency 75THz\n",
    "df = 0.2       # pulse frequency width 60THz"
   ]
  },
  {
   "cell_type": "markdown",
   "id": "5596428c-6ebd-4f7f-83b8-004e4eb7be81",
   "metadata": {},
   "source": [
    "source是一個Gaussian pulse center 在fcen   \n",
    "位置在PML外的邊緣x = - 0.5 * sx + dpml  \n",
    "重點在p(平行)極化 所以要用𝐽𝑦  current source激發  \n",
    "指定𝐸𝑦"
   ]
  },
  {
   "cell_type": "code",
   "execution_count": 35,
   "id": "88ee88db-a80e-46c8-b8c0-f8a345cadece",
   "metadata": {},
   "outputs": [],
   "source": [
    "src = [mp.Source(mp.GaussianSource(fcen, fwidth=df),\n",
    "                 component=mp.Ey,\n",
    "                 center=mp.Vector3(-0.5*sx+dpml),\n",
    "                 size=mp.Vector3(0,w))]"
   ]
  },
  {
   "cell_type": "markdown",
   "id": "1647f275-eca9-49b1-b799-383ca97f3033",
   "metadata": {},
   "source": [
    "原結構為XY皆對稱  \n",
    "source打破了 Y方向的對稱  \n",
    "但Z方向依舊有奇對秤"
   ]
  },
  {
   "cell_type": "code",
   "execution_count": 36,
   "id": "fe0346b6-7ea3-4402-ae16-8b8dfb96111e",
   "metadata": {},
   "outputs": [],
   "source": [
    "sym = [mp.Mirror(mp.Y, phase=-1)]"
   ]
  },
  {
   "cell_type": "markdown",
   "id": "1c61229b-df69-4cf5-93af-f250bf66560f",
   "metadata": {},
   "source": [
    "用Y作法線來指定平面  \n",
    "sim放入物件"
   ]
  },
  {
   "cell_type": "code",
   "execution_count": 37,
   "id": "ccdde421-d1e6-442f-ae95-f797a6f6be98",
   "metadata": {},
   "outputs": [],
   "source": [
    "sim = mp.Simulation(cell_size=cell,\n",
    "                    geometry=geometry,\n",
    "                    boundary_layers=pml_layers,\n",
    "                    sources=src,\n",
    "                    symmetries=sym,\n",
    "                    resolution=resolution)"
   ]
  },
  {
   "cell_type": "markdown",
   "id": "a91a036d-0a0b-4d8e-91f5-2f8532a17695",
   "metadata": {},
   "source": [
    "再設立一個接收區 計算  \n",
    "在PML前但在孔洞後"
   ]
  },
  {
   "cell_type": "code",
   "execution_count": 38,
   "id": "2c15acd0-2472-4e67-8338-c95d41d3f16e",
   "metadata": {},
   "outputs": [],
   "source": [
    "freg = mp.FluxRegion(center=mp.Vector3(0.5*sx-dpml-0.5),\n",
    "                     size=mp.Vector3(0,2*w))\n",
    "\n",
    "nfreq = 500 # number of frequencies at which to compute flux 計算頻率數\n",
    "\n",
    "# transmitted flux\n",
    "trans = sim.add_flux(fcen, df, nfreq, freg)"
   ]
  },
  {
   "cell_type": "markdown",
   "id": "119d9315-8948-4579-a295-7dacb6aa2c48",
   "metadata": {},
   "source": [
    "最後 show 出圖可以確定是否打錯"
   ]
  },
  {
   "cell_type": "code",
   "execution_count": 39,
   "id": "d73d2081-8a92-44f2-b25e-a25923a09d07",
   "metadata": {},
   "outputs": [
    {
     "name": "stdout",
     "output_type": "stream",
     "text": [
      "     block, center = (0,0,0)\n",
      "          size (1e+20,1.2,1e+20)\n",
      "          axes (1,0,0), (0,1,0), (0,0,1)\n",
      "          dielectric constant epsilon diagonal = (13,13,13)\n",
      "     cylinder, center = (0.7,0,0)\n",
      "          radius 0.36, height 1e+20, axis (0, 0, 1)\n",
      "          dielectric constant epsilon diagonal = (1,1,1)\n",
      "     cylinder, center = (-0.7,0,0)\n",
      "          radius 0.36, height 1e+20, axis (0, 0, 1)\n",
      "          dielectric constant epsilon diagonal = (1,1,1)\n",
      "     cylinder, center = (1.7,0,0)\n",
      "          radius 0.36, height 1e+20, axis (0, 0, 1)\n",
      "          dielectric constant epsilon diagonal = (1,1,1)\n",
      "     cylinder, center = (-1.7,0,0)\n",
      "          radius 0.36, height 1e+20, axis (0, 0, 1)\n",
      "          dielectric constant epsilon diagonal = (1,1,1)\n",
      "     cylinder, center = (2.7,0,0)\n",
      "          radius 0.36, height 1e+20, axis (0, 0, 1)\n",
      "          dielectric constant epsilon diagonal = (1,1,1)\n",
      "     cylinder, center = (-2.7,0,0)\n",
      "          radius 0.36, height 1e+20, axis (0, 0, 1)\n",
      "          dielectric constant epsilon diagonal = (1,1,1)\n"
     ]
    },
    {
     "data": {
      "image/png": "[encoded data removed]",
      "text/plain": [
       "<Figure size 900x600 with 1 Axes>"
      ]
     },
     "metadata": {
      "needs_background": "light"
     },
     "output_type": "display_data"
    }
   ],
   "source": [
    "f = plt.figure(dpi=150)\n",
    "sim.plot2D(ax=f.gca())\n",
    "plt.show()"
   ]
  },
  {
   "cell_type": "markdown",
   "id": "5ec5001f-1dfa-4b50-84be-39e52cb7ea42",
   "metadata": {},
   "source": [
    "接下來 跑simulation  \n",
    "以及設定停止的時間stop_when_fields_decayed 50個時間為單位  \n",
    "直到|Ey|^2(方向)衰減至1/1000"
   ]
  },
  {
   "cell_type": "code",
   "execution_count": 13,
   "id": "1b04ec6f-91e7-4f04-a739-90deecadcd51",
   "metadata": {},
   "outputs": [
    {
     "name": "stdout",
     "output_type": "stream",
     "text": [
      "-----------\n",
      "Initializing structure...\n",
      "Halving computational cell along direction y\n",
      "time for choose_chunkdivision = 0.00176501 s\n",
      "Working in 2D dimensions.\n",
      "Computational cell is 12.4 x 6 x 0 with resolution 20\n",
      "     block, center = (0,0,0)\n",
      "          size (1e+20,1.2,1e+20)\n",
      "          axes (1,0,0), (0,1,0), (0,0,1)\n",
      "          dielectric constant epsilon diagonal = (13,13,13)\n",
      "     cylinder, center = (0.7,0,0)\n",
      "          radius 0.36, height 1e+20, axis (0, 0, 1)\n",
      "          dielectric constant epsilon diagonal = (1,1,1)\n",
      "     cylinder, center = (-0.7,0,0)\n",
      "          radius 0.36, height 1e+20, axis (0, 0, 1)\n",
      "          dielectric constant epsilon diagonal = (1,1,1)\n",
      "     cylinder, center = (1.7,0,0)\n",
      "          radius 0.36, height 1e+20, axis (0, 0, 1)\n",
      "          dielectric constant epsilon diagonal = (1,1,1)\n",
      "     cylinder, center = (-1.7,0,0)\n",
      "          radius 0.36, height 1e+20, axis (0, 0, 1)\n",
      "          dielectric constant epsilon diagonal = (1,1,1)\n",
      "     cylinder, center = (2.7,0,0)\n",
      "          radius 0.36, height 1e+20, axis (0, 0, 1)\n",
      "          dielectric constant epsilon diagonal = (1,1,1)\n",
      "     cylinder, center = (-2.7,0,0)\n",
      "          radius 0.36, height 1e+20, axis (0, 0, 1)\n",
      "          dielectric constant epsilon diagonal = (1,1,1)\n",
      "time for set_epsilon = 0.041065 s\n",
      "-----------\n",
      "     block, center = (0,0,0)\n",
      "          size (1e+20,1.2,1e+20)\n",
      "          axes (1,0,0), (0,1,0), (0,0,1)\n",
      "          dielectric constant epsilon diagonal = (13,13,13)\n",
      "     cylinder, center = (0.7,0,0)\n",
      "          radius 0.36, height 1e+20, axis (0, 0, 1)\n",
      "          dielectric constant epsilon diagonal = (1,1,1)\n",
      "     cylinder, center = (-0.7,0,0)\n",
      "          radius 0.36, height 1e+20, axis (0, 0, 1)\n",
      "          dielectric constant epsilon diagonal = (1,1,1)\n",
      "     cylinder, center = (1.7,0,0)\n",
      "          radius 0.36, height 1e+20, axis (0, 0, 1)\n",
      "          dielectric constant epsilon diagonal = (1,1,1)\n",
      "     cylinder, center = (-1.7,0,0)\n",
      "          radius 0.36, height 1e+20, axis (0, 0, 1)\n",
      "          dielectric constant epsilon diagonal = (1,1,1)\n",
      "     cylinder, center = (2.7,0,0)\n",
      "          radius 0.36, height 1e+20, axis (0, 0, 1)\n",
      "          dielectric constant epsilon diagonal = (1,1,1)\n",
      "     cylinder, center = (-2.7,0,0)\n",
      "          radius 0.36, height 1e+20, axis (0, 0, 1)\n",
      "          dielectric constant epsilon diagonal = (1,1,1)\n",
      "Normalizing field data...\n",
      "on time step 2000 (time=50), 0.00480196 s/step\n",
      "field decay(t = 50.025000000000006): 3.957908204719835e-05 / 3.957908204719835e-05 = 1.0\n",
      "field decay(t = 100.05000000000001): 6.062401894821033e-05 / 6.062401894821033e-05 = 1.0\n",
      "field decay(t = 150.07500000000002): 1.7734570553698596e-05 / 6.062401894821033e-05 = 0.29253373269180355\n",
      "field decay(t = 200.10000000000002): 7.468025297259101e-06 / 6.062401894821033e-05 = 0.12318591586016193\n",
      "field decay(t = 250.125): 5.439633091350776e-06 / 6.062401894821033e-05 = 0.08972735865627329\n",
      "field decay(t = 300.15000000000003): 4.232911651741338e-06 / 6.062401894821033e-05 = 0.06982235300759942\n",
      "field decay(t = 350.175): 3.476628845824427e-06 / 6.062401894821033e-05 = 0.057347383201275866\n",
      "field decay(t = 400.20000000000005): 2.8471346879220504e-06 / 6.062401894821033e-05 = 0.04696380638100371\n",
      "field decay(t = 450.225): 2.328975097970513e-06 / 6.062401894821033e-05 = 0.03841670576079922\n",
      "field decay(t = 500.25): 1.917758055162609e-06 / 6.062401894821033e-05 = 0.03163363446426909\n",
      "field decay(t = 550.275): 1.5662051283234225e-06 / 6.062401894821033e-05 = 0.025834729460305073\n",
      "field decay(t = 600.3000000000001): 1.29003833390348e-06 / 6.062401894821033e-05 = 0.021279327175678164\n",
      "field decay(t = 650.325): 1.053405819558145e-06 / 6.062401894821033e-05 = 0.017376047280171985\n",
      "field decay(t = 700.35): 8.676272594305436e-07 / 6.062401894821033e-05 = 0.014311609069859541\n",
      "on time step 28895 (time=722.375), 0.000148729 s/step\n",
      "field decay(t = 750.375): 7.087820739725181e-07 / 6.062401894821033e-05 = 0.011691439899060699\n",
      "field decay(t = 800.4000000000001): 5.837770400453595e-07 / 6.062401894821033e-05 = 0.009629467827661945\n",
      "field decay(t = 850.4250000000001): 4.808205960298565e-07 / 6.062401894821033e-05 = 0.007931189722684176\n",
      "field decay(t = 900.45): 3.9268122977186587e-07 / 6.062401894821033e-05 = 0.006477320979120902\n",
      "field decay(t = 950.475): 3.234259653563618e-07 / 6.062401894821033e-05 = 0.005334947615938445\n",
      "field decay(t = 1000.5): 2.640777431335384e-07 / 6.062401894821033e-05 = 0.004355992026182457\n",
      "field decay(t = 1050.525): 2.1750627194786583e-07 / 6.062401894821033e-05 = 0.0035877903794810486\n",
      "field decay(t = 1100.55): 1.7768960210318927e-07 / 6.062401894821033e-05 = 0.002931009939393581\n",
      "field decay(t = 1150.575): 1.463534696193121e-07 / 6.062401894821033e-05 = 0.0024141169153489876\n",
      "field decay(t = 1200.6000000000001): 1.1953143759707107e-07 / 6.062401894821033e-05 = 0.0019716844853057986\n",
      "field decay(t = 1250.625): 9.845036591681933e-08 / 6.062401894821033e-05 = 0.0016239498407540937\n",
      "field decay(t = 1300.65): 8.038713471789876e-08 / 6.062401894821033e-05 = 0.0013259948138141682\n",
      "field decay(t = 1350.6750000000002): 6.621009853390569e-08 / 6.062401894821033e-05 = 0.0010921430100249113\n",
      "on time step 55351 (time=1383.78), 0.000151197 s/step\n",
      "field decay(t = 1400.7): 5.408528044424204e-08 / 6.062401894821033e-05 = 0.0008921427741444496\n",
      "field decay(t = 1450.7250000000001): 4.4547452052299586e-08 / 6.062401894821033e-05 = 0.000734815223820041\n",
      "field decay(t = 1500.75): 3.669018806053499e-08 / 6.062401894821033e-05 = 0.000605208771986538\n",
      "field decay(t = 1550.775): 2.996766294839255e-08 / 6.062401894821033e-05 = 0.0004943199653918229\n",
      "field decay(t = 1600.8000000000002): 2.468278211694904e-08 / 6.062401894821033e-05 = 0.0004071452626397956\n",
      "field decay(t = 1650.825): 2.015489254776557e-08 / 6.062401894821033e-05 = 0.000332457215761024\n",
      "field decay(t = 1700.8500000000001): 1.6600113982620247e-08 / 6.062401894821033e-05 = 0.0002738207441641461\n",
      "field decay(t = 1750.875): 1.3559212253225071e-08 / 6.062401894821033e-05 = 0.00022366072867601182\n",
      "field decay(t = 1800.9): 1.1167827287900477e-08 / 6.062401894821033e-05 = 0.0001842145651452255\n",
      "field decay(t = 1850.9250000000002): 9.121732197827822e-09 / 6.062401894821033e-05 = 0.00015046399687919571\n",
      "field decay(t = 1900.95): 7.513290811346975e-09 / 6.062401894821033e-05 = 0.0001239325755978897\n",
      "field decay(t = 1950.9750000000001): 6.135247857200676e-09 / 6.062401894821033e-05 = 0.00010120160232929912\n",
      "field decay(t = 2001.0): 5.0533354683247365e-09 / 6.062401894821033e-05 = 8.33553359872377e-05\n",
      "run 0 finished at t = 2001.0 (80040 timesteps)\n"
     ]
    }
   ],
   "source": [
    "from matplotlib.colors import ListedColormap, LinearSegmentedColormap\n",
    "\n",
    "colors = [\"darkslateblue\",\"blue\", \"black\", \"red\",\"yellow\"]#相對應的顏色\n",
    "nodes = [0.0,0.2, 0.5, 0.7,1.0]# 波0~1(MAX)相對應的值轉換顏色\n",
    "mycmap = LinearSegmentedColormap.from_list(\"mycmap\", list(zip(nodes, colors)))#線性變化顏色\n",
    "def modu_f(fd):\n",
    "    output = np.sign(fd) * np.abs(fd) ** 0.7\n",
    "    return output\n",
    "f = plt.figure(dpi=150)\n",
    "animate = mp.Animate2D(sim, fields=mp.Hz, f=f, realtime=False, normalize=True\n",
    "                       ,field_parameters={'post_process':modu_f,'alpha':1, 'cmap':mycmap}\n",
    "                       ,source_parameters={'alpha':1,'color':'white','linewidth':0.5,'hatch':''})\n",
    "sim.run(mp.during_sources(mp.at_every(0.4, animate)),\n",
    "            until_after_sources=\n",
    "        mp.stop_when_fields_decayed(50, mp.Ey, mp.Vector3(0.5*sx-dpml-0.5), 1e-4))\n",
    "plt.close()"
   ]
  },
  {
   "cell_type": "code",
   "execution_count": 14,
   "id": "877ecb61-7977-4f7c-bca9-55c628beffff",
   "metadata": {},
   "outputs": [
    {
     "name": "stdout",
     "output_type": "stream",
     "text": [
      "Generating MP4...\n"
     ]
    },
    {
     "data": {
      "text/html": [
       "<video src=\"hole-wvg-cavity.mp4\" controls  >\n",
       "      Your browser does not support the <code>video</code> element.\n",
       "    </video>"
      ],
      "text/plain": [
       "<IPython.core.display.Video object>"
      ]
     },
     "execution_count": 14,
     "metadata": {},
     "output_type": "execute_result"
    }
   ],
   "source": [
    "filename = 'hole-wvg-cavity.mp4'\n",
    "animate.to_mp4(10,filename)\n",
    "Video(filename)"
   ]
  },
  {
   "cell_type": "markdown",
   "id": "7cc3a1d1-918c-4bdc-a2f9-13ad44c706ba",
   "metadata": {},
   "source": [
    "可以看到pulse向右傳遞 碰到孔洞反彈 在cavity中諧振 長時間在中心後向右洩漏出去  \n",
    "重點是要得到透射光譜 要simulation無孔洞的才可計算"
   ]
  },
  {
   "cell_type": "code",
   "execution_count": 15,
   "id": "475124f5-a35d-4851-ba4a-db0ef17b60a5",
   "metadata": {},
   "outputs": [],
   "source": [
    "def sim_cavity(N=3,sy=6):\n",
    "    sx = 2*(pad+dpml+N)+d-1  # size of cell in x direction\n",
    "    cell = mp.Vector3(sx,sy,0)\n",
    "    blk = mp.Block(size=mp.Vector3(mp.inf,w,mp.inf), \n",
    "                   material=mp.Medium(epsilon=eps))\n",
    "    geometry = [blk]\n",
    "\n",
    "    for i in range(N):\n",
    "            geometry.append(mp.Cylinder(r, center=mp.Vector3(d/2+i)))\n",
    "            geometry.append(mp.Cylinder(r, center=mp.Vector3(-(d/2+i))))\n",
    "    \n",
    "    src = [mp.Source(mp.GaussianSource(fcen, fwidth=df),\n",
    "                 component=mp.Ey,\n",
    "                 center=mp.Vector3(-0.5*sx+dpml),\n",
    "                 size=mp.Vector3(0,w))]\n",
    "    \n",
    "    sim = mp.Simulation(cell_size=cell,\n",
    "                    geometry=geometry,\n",
    "                    boundary_layers=pml_layers,\n",
    "                    sources=src,\n",
    "                    symmetries=sym,\n",
    "                    resolution=resolution)\n",
    "    \n",
    "    freg = mp.FluxRegion(center=mp.Vector3(0.5*sx-dpml-0.5),\n",
    "                     size=mp.Vector3(0,2*w))\n",
    "    nfreq = 500\n",
    "    trans = sim.add_flux(fcen, df, nfreq, freg)\n",
    "    \n",
    "    sim.run(until_after_sources=\n",
    "            mp.stop_when_fields_decayed(50, mp.Ey,\n",
    "                                        mp.Vector3(0.5*sx-dpml-0.5), 1e-3))\n",
    "    \n",
    "    freqs = mp.get_flux_freqs(trans)\n",
    "    psd = mp.get_fluxes(trans)\n",
    "\n",
    "    return freqs, psd"
   ]
  },
  {
   "cell_type": "markdown",
   "id": "571df342-499e-4795-8daf-8cad2a3da520",
   "metadata": {},
   "source": [
    "N=0無孔洞 N=3(對稱)孔洞"
   ]
  },
  {
   "cell_type": "code",
   "execution_count": 16,
   "id": "7027f036-808a-446a-a188-a4b61f5138fc",
   "metadata": {},
   "outputs": [
    {
     "name": "stdout",
     "output_type": "stream",
     "text": [
      "-----------\n",
      "Initializing structure...\n",
      "Halving computational cell along direction y\n",
      "time for choose_chunkdivision = 0.000799894 s\n",
      "Working in 2D dimensions.\n",
      "Computational cell is 6.4 x 6 x 0 with resolution 20\n",
      "     block, center = (0,0,0)\n",
      "          size (1e+20,1.2,1e+20)\n",
      "          axes (1,0,0), (0,1,0), (0,0,1)\n",
      "          dielectric constant epsilon diagonal = (13,13,13)\n",
      "time for set_epsilon = 0.0115888 s\n",
      "-----------\n",
      "field decay(t = 50.025000000000006): 0.024304124551377634 / 0.024304124551377634 = 1.0\n",
      "field decay(t = 100.05000000000001): 0.0002947877364436866 / 0.024304124551377634 = 0.012129123837417839\n",
      "field decay(t = 150.07500000000002): 8.914669648695207e-14 / 0.024304124551377634 = 3.667965752006441e-12\n",
      "run 0 finished at t = 150.07500000000002 (6003 timesteps)\n",
      "-----------\n",
      "Initializing structure...\n",
      "Halving computational cell along direction y\n",
      "time for choose_chunkdivision = 0.00119305 s\n",
      "Working in 2D dimensions.\n",
      "Computational cell is 12.4 x 6 x 0 with resolution 20\n",
      "     block, center = (0,0,0)\n",
      "          size (1e+20,1.2,1e+20)\n",
      "          axes (1,0,0), (0,1,0), (0,0,1)\n",
      "          dielectric constant epsilon diagonal = (13,13,13)\n",
      "     cylinder, center = (0.7,0,0)\n",
      "          radius 0.36, height 1e+20, axis (0, 0, 1)\n",
      "          dielectric constant epsilon diagonal = (1,1,1)\n",
      "     cylinder, center = (-0.7,0,0)\n",
      "          radius 0.36, height 1e+20, axis (0, 0, 1)\n",
      "          dielectric constant epsilon diagonal = (1,1,1)\n",
      "     cylinder, center = (1.7,0,0)\n",
      "          radius 0.36, height 1e+20, axis (0, 0, 1)\n",
      "          dielectric constant epsilon diagonal = (1,1,1)\n",
      "     cylinder, center = (-1.7,0,0)\n",
      "          radius 0.36, height 1e+20, axis (0, 0, 1)\n",
      "          dielectric constant epsilon diagonal = (1,1,1)\n",
      "     cylinder, center = (2.7,0,0)\n",
      "          radius 0.36, height 1e+20, axis (0, 0, 1)\n",
      "          dielectric constant epsilon diagonal = (1,1,1)\n",
      "     cylinder, center = (-2.7,0,0)\n",
      "          radius 0.36, height 1e+20, axis (0, 0, 1)\n",
      "          dielectric constant epsilon diagonal = (1,1,1)\n",
      "time for set_epsilon = 0.044802 s\n",
      "-----------\n",
      "field decay(t = 50.025000000000006): 3.957908204719835e-05 / 3.957908204719835e-05 = 1.0\n",
      "field decay(t = 100.05000000000001): 6.062401894821033e-05 / 6.062401894821033e-05 = 1.0\n",
      "field decay(t = 150.07500000000002): 1.7734570553698596e-05 / 6.062401894821033e-05 = 0.29253373269180355\n",
      "field decay(t = 200.10000000000002): 7.468025297259101e-06 / 6.062401894821033e-05 = 0.12318591586016193\n",
      "field decay(t = 250.125): 5.439633091350776e-06 / 6.062401894821033e-05 = 0.08972735865627329\n",
      "field decay(t = 300.15000000000003): 4.232911651741338e-06 / 6.062401894821033e-05 = 0.06982235300759942\n",
      "field decay(t = 350.175): 3.476628845824427e-06 / 6.062401894821033e-05 = 0.057347383201275866\n",
      "field decay(t = 400.20000000000005): 2.8471346879220504e-06 / 6.062401894821033e-05 = 0.04696380638100371\n",
      "field decay(t = 450.225): 2.328975097970513e-06 / 6.062401894821033e-05 = 0.03841670576079922\n",
      "field decay(t = 500.25): 1.917758055162609e-06 / 6.062401894821033e-05 = 0.03163363446426909\n",
      "field decay(t = 550.275): 1.5662051283234225e-06 / 6.062401894821033e-05 = 0.025834729460305073\n",
      "field decay(t = 600.3000000000001): 1.29003833390348e-06 / 6.062401894821033e-05 = 0.021279327175678164\n",
      "on time step 24559 (time=613.975), 0.000162877 s/step\n",
      "field decay(t = 650.325): 1.053405819558145e-06 / 6.062401894821033e-05 = 0.017376047280171985\n",
      "field decay(t = 700.35): 8.676272594305436e-07 / 6.062401894821033e-05 = 0.014311609069859541\n",
      "field decay(t = 750.375): 7.087820739725181e-07 / 6.062401894821033e-05 = 0.011691439899060699\n",
      "field decay(t = 800.4000000000001): 5.837770400453595e-07 / 6.062401894821033e-05 = 0.009629467827661945\n",
      "field decay(t = 850.4250000000001): 4.808205960298565e-07 / 6.062401894821033e-05 = 0.007931189722684176\n",
      "field decay(t = 900.45): 3.9268122977186587e-07 / 6.062401894821033e-05 = 0.006477320979120902\n",
      "field decay(t = 950.475): 3.234259653563618e-07 / 6.062401894821033e-05 = 0.005334947615938445\n",
      "field decay(t = 1000.5): 2.640777431335384e-07 / 6.062401894821033e-05 = 0.004355992026182457\n",
      "field decay(t = 1050.525): 2.1750627194786583e-07 / 6.062401894821033e-05 = 0.0035877903794810486\n",
      "field decay(t = 1100.55): 1.7768960210318927e-07 / 6.062401894821033e-05 = 0.002931009939393581\n",
      "field decay(t = 1150.575): 1.463534696193121e-07 / 6.062401894821033e-05 = 0.0024141169153489876\n",
      "field decay(t = 1200.6000000000001): 1.1953143759707107e-07 / 6.062401894821033e-05 = 0.0019716844853057986\n",
      "field decay(t = 1250.625): 9.845036591681933e-08 / 6.062401894821033e-05 = 0.0016239498407540937\n",
      "on time step 50784 (time=1269.6), 0.000152529 s/step\n",
      "field decay(t = 1300.65): 8.038713471789876e-08 / 6.062401894821033e-05 = 0.0013259948138141682\n",
      "field decay(t = 1350.6750000000002): 6.621009853390569e-08 / 6.062401894821033e-05 = 0.0010921430100249113\n",
      "field decay(t = 1400.7): 5.408528044424204e-08 / 6.062401894821033e-05 = 0.0008921427741444496\n",
      "run 0 finished at t = 1400.7 (56028 timesteps)\n"
     ]
    }
   ],
   "source": [
    "freqs_wg, psd_wg = sim_cavity(N=0) # simple waveguide\n",
    "freqs_cav, psd_cav = sim_cavity() # cavity"
   ]
  },
  {
   "cell_type": "code",
   "execution_count": 17,
   "id": "5760960c-eb64-457b-8612-3d971b32b71e",
   "metadata": {},
   "outputs": [
    {
     "data": {
      "image/png": "[encoded data removed]",
      "text/plain": [
       "<Figure size 1100x600 with 2 Axes>"
      ]
     },
     "metadata": {
      "needs_background": "light"
     },
     "output_type": "display_data"
    }
   ],
   "source": [
    "fig = plt.figure(figsize=(11,6),dpi=100)\n",
    "ax = fig.add_subplot(111)\n",
    "plt.plot(freqs_cav,np.array(psd_cav)/np.array(psd_wg),'o-')\n",
    "plt.grid(True)\n",
    "plt.xlabel('Frequency')\n",
    "plt.ylabel('Transmission')\n",
    "\n",
    "ax2 = fig.add_axes([0.52, 0.6, 0.2, 0.25])\n",
    "plt.plot(freqs_cav,np.array(psd_cav)/np.array(psd_wg),'o-')\n",
    "plt.xlim(0.23,0.24)\n",
    "plt.ylim(0,0.8)\n",
    "plt.grid(True)"
   ]
  },
  {
   "cell_type": "markdown",
   "id": "aec03d06-df17-498f-af9f-b527a95ab87b",
   "metadata": {},
   "source": [
    "band gap區域可以清楚看到 中間有一個peak 對應到困在 defect 裡的諧振  \n",
    "插圖放大peak 可以看出沒有足夠的點去描畫出整個形狀 但可以用Lorentzian去算出來  \n",
    "在band gap 邊緣 傳輸量上升 下方會研究  \n",
    "圖的左側還有一些高頻震盪 是一些數值偽影  \n",
    "因為在那段數值脈衝沒有達到足夠的強度  \n",
    "\n",
    "共振峰越窄Q值越高 直接的傳輸模擬就越難執行  \n",
    "因為傅立葉的不確定性原理 我們需要運行的時間取決於我們想要獲得的頻率精準度  \n",
    "幸運的是 有比較好的方式來研究高Q 如下 (以及Ring Resonator)"
   ]
  },
  {
   "cell_type": "markdown",
   "id": "ca471532-9b64-4359-9ee5-4136bae4b38d",
   "metadata": {},
   "source": [
    "## Resonant Modes\n",
    "要研究high-Q諧振 直接激發更有效率 將source置於cavity內 並分析獲得 場的lifetime和頻率  \n",
    "這裡是為上述結構續做(可以參考Ring Resonator)  \n",
    "\n",
    "結構基本相同 source和分析不同 新function來參數化模擬  \n",
    "\n",
    "一樣用Gaussian 但是是在原點用點Gaussian z 方向的磁流( 𝐻𝑧 )  \n",
    "𝐻𝑧 極化諧振模式的對稱性相匹配  \n",
    "若事先不知道是何種對稱 將source放在非對稱遠離原點的地方 激發所有模態  \n",
    "個問題中有兩個鏡像對稱平面的事實 從而為我們節省了四倍計算"
   ]
  },
  {
   "cell_type": "code",
   "execution_count": 18,
   "id": "b69402d0-2f64-42bf-ab98-7a02518f171b",
   "metadata": {},
   "outputs": [],
   "source": [
    "def sim_cavity(N=3,sy=6,fcen=0.25,df=0.2):\n",
    "    sx = 2*(pad+dpml+N)+d-1  # size of cell in x direction\n",
    "    cell = mp.Vector3(sx,sy,0)\n",
    "    blk = mp.Block(size=mp.Vector3(mp.inf,w,mp.inf), \n",
    "                   material=mp.Medium(epsilon=eps))\n",
    "    geometry = [blk]\n",
    "\n",
    "    for i in range(N):\n",
    "            geometry.append(mp.Cylinder(r, center=mp.Vector3(d/2+i)))\n",
    "            geometry.append(mp.Cylinder(r, center=mp.Vector3(-(d/2+i))))\n",
    "    \n",
    "    src = [mp.Source(mp.GaussianSource(fcen, fwidth=df), mp.Hz, mp.Vector3(0))]\n",
    "    \n",
    "    sym = [mp.Mirror(mp.Y, phase=-1), mp.Mirror(mp.X, phase=-1)]\n",
    "    \n",
    "    sim = mp.Simulation(cell_size=cell,\n",
    "                    geometry=geometry,\n",
    "                    boundary_layers=pml_layers,\n",
    "                    sources=src,\n",
    "                    symmetries=sym,\n",
    "                    resolution=resolution)\n",
    "    \n",
    "    return sim"
   ]
  },
  {
   "cell_type": "markdown",
   "id": "74432382-6d9c-44b5-9fa1-c778c1713fd1",
   "metadata": {},
   "source": [
    "上方的X和Y都乘上了-1 微妙之處在於 磁場是一個贗向量 所以不會跟鏡像一起旋轉  \n",
    "所以要在乘上一個-1 才可以使其回歸正常"
   ]
  },
  {
   "cell_type": "code",
   "execution_count": 19,
   "id": "62885d73-b0d0-4ee9-8baf-a77f07715258",
   "metadata": {},
   "outputs": [
    {
     "name": "stdout",
     "output_type": "stream",
     "text": [
      "     block, center = (0,0,0)\n",
      "          size (1e+20,1.2,1e+20)\n",
      "          axes (1,0,0), (0,1,0), (0,0,1)\n",
      "          dielectric constant epsilon diagonal = (13,13,13)\n",
      "     cylinder, center = (0.7,0,0)\n",
      "          radius 0.36, height 1e+20, axis (0, 0, 1)\n",
      "          dielectric constant epsilon diagonal = (1,1,1)\n",
      "     cylinder, center = (-0.7,0,0)\n",
      "          radius 0.36, height 1e+20, axis (0, 0, 1)\n",
      "          dielectric constant epsilon diagonal = (1,1,1)\n",
      "     cylinder, center = (1.7,0,0)\n",
      "          radius 0.36, height 1e+20, axis (0, 0, 1)\n",
      "          dielectric constant epsilon diagonal = (1,1,1)\n",
      "     cylinder, center = (-1.7,0,0)\n",
      "          radius 0.36, height 1e+20, axis (0, 0, 1)\n",
      "          dielectric constant epsilon diagonal = (1,1,1)\n",
      "     cylinder, center = (2.7,0,0)\n",
      "          radius 0.36, height 1e+20, axis (0, 0, 1)\n",
      "          dielectric constant epsilon diagonal = (1,1,1)\n",
      "     cylinder, center = (-2.7,0,0)\n",
      "          radius 0.36, height 1e+20, axis (0, 0, 1)\n",
      "          dielectric constant epsilon diagonal = (1,1,1)\n"
     ]
    },
    {
     "data": {
      "image/png": "[encoded data removed]",
      "text/plain": [
       "<Figure size 600x400 with 1 Axes>"
      ]
     },
     "metadata": {
      "needs_background": "light"
     },
     "output_type": "display_data"
    }
   ],
   "source": [
    "sim = sim_cavity()\n",
    "f = plt.figure(dpi=100)\n",
    "sim.plot2D(ax=f.gca())\n",
    "plt.show()"
   ]
  },
  {
   "cell_type": "markdown",
   "id": "c4b0cdd7-4355-4dc8-a37b-165dba1a7f28",
   "metadata": {},
   "source": [
    "跑動畫  \n",
    "在Tutorial/Basics/Modes of a Ring Resonator 使用 harminv 命令  \n",
    "來分析源關閉後一段時間內某個點的響應(這裡是Hz在原點的磁場)  \n",
    "\n",
    "Harminv 是一個解決 harmonic inversion 問題的程序  \n",
    "給定一個離散的、有限長度的信號 該信號由有限多個正弦曲線的總和組成  \n",
    "它決定了這些正弦曲線的頻率、衰減常數、幅度和相位  \n",
    "提供比直接基於 FFT 的方法更好的精度，主要是因為它為信號採用了特定的形式  \n",
    "\"filter diagonalization method\" (FDM)來尋找給定頻率間隔附近的正弦波\n",
    "\n",
    "\n",
    "從物理上知道您的系統由感興趣的bandwidth內的少量衰減和振盪模式以及有限數量的噪聲組成，並且不適合分析完全任意波形時，這很有用"
   ]
  },
  {
   "cell_type": "code",
   "execution_count": 20,
   "id": "753a94d9-f03f-4728-820c-1e48a562e16b",
   "metadata": {},
   "outputs": [
    {
     "name": "stdout",
     "output_type": "stream",
     "text": [
      "-----------\n",
      "Initializing structure...\n",
      "Halving computational cell along direction x\n",
      "Halving computational cell along direction y\n",
      "time for choose_chunkdivision = 0.00325799 s\n",
      "Working in 2D dimensions.\n",
      "Computational cell is 12.4 x 6 x 0 with resolution 20\n",
      "     block, center = (0,0,0)\n",
      "          size (1e+20,1.2,1e+20)\n",
      "          axes (1,0,0), (0,1,0), (0,0,1)\n",
      "          dielectric constant epsilon diagonal = (13,13,13)\n",
      "     cylinder, center = (0.7,0,0)\n",
      "          radius 0.36, height 1e+20, axis (0, 0, 1)\n",
      "          dielectric constant epsilon diagonal = (1,1,1)\n",
      "     cylinder, center = (-0.7,0,0)\n",
      "          radius 0.36, height 1e+20, axis (0, 0, 1)\n",
      "          dielectric constant epsilon diagonal = (1,1,1)\n",
      "     cylinder, center = (1.7,0,0)\n",
      "          radius 0.36, height 1e+20, axis (0, 0, 1)\n",
      "          dielectric constant epsilon diagonal = (1,1,1)\n",
      "     cylinder, center = (-1.7,0,0)\n",
      "          radius 0.36, height 1e+20, axis (0, 0, 1)\n",
      "          dielectric constant epsilon diagonal = (1,1,1)\n",
      "     cylinder, center = (2.7,0,0)\n",
      "          radius 0.36, height 1e+20, axis (0, 0, 1)\n",
      "          dielectric constant epsilon diagonal = (1,1,1)\n",
      "     cylinder, center = (-2.7,0,0)\n",
      "          radius 0.36, height 1e+20, axis (0, 0, 1)\n",
      "          dielectric constant epsilon diagonal = (1,1,1)\n",
      "time for set_epsilon = 0.0219989 s\n",
      "-----------\n"
     ]
    },
    {
     "data": {
      "application/vnd.jupyter.widget-view+json": {
       "model_id": "ef58000adb714a80b0fffef60207a39e",
       "version_major": 2,
       "version_minor": 0
      },
      "text/plain": [
       "FloatProgress(value=0.0, description='0% done ', max=450.0)"
      ]
     },
     "metadata": {},
     "output_type": "display_data"
    },
    {
     "name": "stdout",
     "output_type": "stream",
     "text": [
      "harminv0:, frequency, imag. freq., Q, |amp|, amplitude, error\n",
      "harminv0:, 0.23445415346007015, -0.0003147812367402145, 372.4080823368176, 5.8121430334745385, -3.7631074858799107-4.429450156766772i, 4.306877278522053e-09+0.0i\n",
      "run 0 finished at t = 450.0 (18000 timesteps)\n"
     ]
    },
    {
     "data": {
      "application/vnd.jupyter.widget-view+json": {
       "model_id": "a26198ae214c4f2ebc29018062bca2df",
       "version_major": 2,
       "version_minor": 0
      },
      "text/plain": [
       "FloatProgress(value=450.0, description='0% done ', max=454.0, min=450.0)"
      ]
     },
     "metadata": {},
     "output_type": "display_data"
    },
    {
     "name": "stdout",
     "output_type": "stream",
     "text": [
      "     block, center = (0,0,0)\n",
      "          size (1e+20,1.2,1e+20)\n",
      "          axes (1,0,0), (0,1,0), (0,0,1)\n",
      "          dielectric constant epsilon diagonal = (13,13,13)\n",
      "     cylinder, center = (0.7,0,0)\n",
      "          radius 0.36, height 1e+20, axis (0, 0, 1)\n",
      "          dielectric constant epsilon diagonal = (1,1,1)\n",
      "     cylinder, center = (-0.7,0,0)\n",
      "          radius 0.36, height 1e+20, axis (0, 0, 1)\n",
      "          dielectric constant epsilon diagonal = (1,1,1)\n",
      "     cylinder, center = (1.7,0,0)\n",
      "          radius 0.36, height 1e+20, axis (0, 0, 1)\n",
      "          dielectric constant epsilon diagonal = (1,1,1)\n",
      "     cylinder, center = (-1.7,0,0)\n",
      "          radius 0.36, height 1e+20, axis (0, 0, 1)\n",
      "          dielectric constant epsilon diagonal = (1,1,1)\n",
      "     cylinder, center = (2.7,0,0)\n",
      "          radius 0.36, height 1e+20, axis (0, 0, 1)\n",
      "          dielectric constant epsilon diagonal = (1,1,1)\n",
      "     cylinder, center = (-2.7,0,0)\n",
      "          radius 0.36, height 1e+20, axis (0, 0, 1)\n",
      "          dielectric constant epsilon diagonal = (1,1,1)\n",
      "Normalizing field data...\n",
      "run 1 finished at t = 454.0 (18160 timesteps)\n"
     ]
    }
   ],
   "source": [
    "h = mp.Harminv(mp.Hz, mp.Vector3(), fcen, df)\n",
    "sim.run(mp.after_sources(h),\n",
    "        until_after_sources=400)\n",
    "\n",
    "f = plt.figure(dpi=150)\n",
    "animate = mp.Animate2D(sim,f=f,fields=mp.Hz,realtime=False,normalize=True)\n",
    "\n",
    "sim.run(mp.at_every(1/fcen/20, animate), until=1/fcen)\n",
    "plt.close()"
   ]
  },
  {
   "cell_type": "code",
   "execution_count": 21,
   "id": "8c497049-b285-47fa-919d-7774b8011944",
   "metadata": {},
   "outputs": [
    {
     "name": "stdout",
     "output_type": "stream",
     "text": [
      "Generating MP4...\n"
     ]
    },
    {
     "data": {
      "text/html": [
       "<video src=\"hole-wvg-cavity-res.mp4\" controls  >\n",
       "      Your browser does not support the <code>video</code> element.\n",
       "    </video>"
      ],
      "text/plain": [
       "<IPython.core.display.Video object>"
      ]
     },
     "execution_count": 21,
     "metadata": {},
     "output_type": "execute_result"
    }
   ],
   "source": [
    "filename = 'hole-wvg-cavity-res.mp4'\n",
    "animate.to_mp4(10,filename)\n",
    "Video(filename)"
   ]
  },
  {
   "cell_type": "markdown",
   "id": "2ab9b03b-02af-46b4-9050-e6d970772454",
   "metadata": {},
   "source": [
    "檢查動畫，我們在間隙中看到一個單一的共振模式  \n",
    "我們可以通過拉取 Harminv 結果來驗證這一點："
   ]
  },
  {
   "cell_type": "code",
   "execution_count": 22,
   "id": "bdd2727f-5fb7-4b60-b54b-621001bbac08",
   "metadata": {},
   "outputs": [
    {
     "name": "stdout",
     "output_type": "stream",
     "text": [
      "Resonant frequency: 0.23445415346007015, Q: 372.4080823368176\n"
     ]
    }
   ],
   "source": [
    "f = [m.freq for m in h.modes]\n",
    "Q = [m.Q for m in h.modes]\n",
    "\n",
    "for fiter, qiter in zip(f, Q):\n",
    "    print(f'Resonant frequency: {fiter}, Q: {qiter}') "
   ]
  },
  {
   "cell_type": "markdown",
   "id": "5af012ad-aa39-4f7d-8e3c-98b59cd26c2e",
   "metadata": {},
   "source": [
    "該模式的頻率為 0.234(70.5) 也可以通過擬合透射光譜找到 372 的 𝑄  \n",
    "𝑄 包括兩個獨立的衰減通道  \n",
    "光可以從腔體衰減到波導中 為 𝑄𝑤  \n",
    "或者它可以從腔體輻射到周圍空氣中 為 𝑄𝑟\n",
    "$$\\frac{1}{Q} = \\frac{1}{Q_w} + \\frac{1}{Q_r}$$\n",
    "\n",
    "有多種方法可以分離出兩個衰減通道  \n",
    "例如我們可以查看不同方向的輻射功率  \n",
    "只增加孔的數量 N 隨著 N 的增加，𝑄𝑤 應該呈指數增長，而 𝑄𝑟 保持大致固定，因此 𝑄 最終在 𝑄𝑟 處飽和"
   ]
  },
  {
   "cell_type": "code",
   "execution_count": 23,
   "id": "925cf6a2-d99f-4d7e-b59d-c005cfa79129",
   "metadata": {},
   "outputs": [
    {
     "name": "stdout",
     "output_type": "stream",
     "text": [
      "-----------\n",
      "Initializing structure...\n",
      "Halving computational cell along direction x\n",
      "Halving computational cell along direction y\n",
      "time for choose_chunkdivision = 0.00127387 s\n",
      "Working in 2D dimensions.\n",
      "Computational cell is 10.4 x 6 x 0 with resolution 20\n",
      "     block, center = (0,0,0)\n",
      "          size (1e+20,1.2,1e+20)\n",
      "          axes (1,0,0), (0,1,0), (0,0,1)\n",
      "          dielectric constant epsilon diagonal = (13,13,13)\n",
      "     cylinder, center = (0.7,0,0)\n",
      "          radius 0.36, height 1e+20, axis (0, 0, 1)\n",
      "          dielectric constant epsilon diagonal = (1,1,1)\n",
      "     cylinder, center = (-0.7,0,0)\n",
      "          radius 0.36, height 1e+20, axis (0, 0, 1)\n",
      "          dielectric constant epsilon diagonal = (1,1,1)\n",
      "     cylinder, center = (1.7,0,0)\n",
      "          radius 0.36, height 1e+20, axis (0, 0, 1)\n",
      "          dielectric constant epsilon diagonal = (1,1,1)\n",
      "     cylinder, center = (-1.7,0,0)\n",
      "          radius 0.36, height 1e+20, axis (0, 0, 1)\n",
      "          dielectric constant epsilon diagonal = (1,1,1)\n",
      "time for set_epsilon = 0.0171151 s\n",
      "-----------\n"
     ]
    },
    {
     "data": {
      "application/vnd.jupyter.widget-view+json": {
       "model_id": "3bb18442bb1b413098c623a829f025f4",
       "version_major": 2,
       "version_minor": 0
      },
      "text/plain": [
       "FloatProgress(value=0.0, description='0% done ', max=450.0)"
      ]
     },
     "metadata": {},
     "output_type": "display_data"
    },
    {
     "name": "stdout",
     "output_type": "stream",
     "text": [
      "harminv0:, frequency, imag. freq., Q, |amp|, amplitude, error\n",
      "harminv0:, 0.23402785591610212, -0.001873414126328194, 62.46025708549183, 4.626071403165609, -2.820598381018651-3.6667098876488162i, 4.878941781906018e-09+0.0i\n",
      "run 0 finished at t = 450.0 (18000 timesteps)\n",
      "-----------\n",
      "Initializing structure...\n",
      "Halving computational cell along direction x\n",
      "Halving computational cell along direction y\n",
      "time for choose_chunkdivision = 0.00794601 s\n",
      "Working in 2D dimensions.\n",
      "Computational cell is 14.4 x 6 x 0 with resolution 20\n",
      "     block, center = (0,0,0)\n",
      "          size (1e+20,1.2,1e+20)\n",
      "          axes (1,0,0), (0,1,0), (0,0,1)\n",
      "          dielectric constant epsilon diagonal = (13,13,13)\n",
      "     cylinder, center = (0.7,0,0)\n",
      "          radius 0.36, height 1e+20, axis (0, 0, 1)\n",
      "          dielectric constant epsilon diagonal = (1,1,1)\n",
      "     cylinder, center = (-0.7,0,0)\n",
      "          radius 0.36, height 1e+20, axis (0, 0, 1)\n",
      "          dielectric constant epsilon diagonal = (1,1,1)\n",
      "     cylinder, center = (1.7,0,0)\n",
      "          radius 0.36, height 1e+20, axis (0, 0, 1)\n",
      "          dielectric constant epsilon diagonal = (1,1,1)\n",
      "     cylinder, center = (-1.7,0,0)\n",
      "          radius 0.36, height 1e+20, axis (0, 0, 1)\n",
      "          dielectric constant epsilon diagonal = (1,1,1)\n",
      "     cylinder, center = (2.7,0,0)\n",
      "          radius 0.36, height 1e+20, axis (0, 0, 1)\n",
      "          dielectric constant epsilon diagonal = (1,1,1)\n",
      "     cylinder, center = (-2.7,0,0)\n",
      "          radius 0.36, height 1e+20, axis (0, 0, 1)\n",
      "          dielectric constant epsilon diagonal = (1,1,1)\n",
      "     cylinder, center = (3.7,0,0)\n",
      "          radius 0.36, height 1e+20, axis (0, 0, 1)\n",
      "          dielectric constant epsilon diagonal = (1,1,1)\n",
      "     cylinder, center = (-3.7,0,0)\n",
      "          radius 0.36, height 1e+20, axis (0, 0, 1)\n",
      "          dielectric constant epsilon diagonal = (1,1,1)\n",
      "time for set_epsilon = 0.0423291 s\n",
      "-----------\n"
     ]
    },
    {
     "data": {
      "application/vnd.jupyter.widget-view+json": {
       "model_id": "5c1a255f2cdb4a13ae52bf42c29c6f36",
       "version_major": 2,
       "version_minor": 0
      },
      "text/plain": [
       "FloatProgress(value=0.0, description='0% done ', max=450.0)"
      ]
     },
     "metadata": {},
     "output_type": "display_data"
    },
    {
     "name": "stdout",
     "output_type": "stream",
     "text": [
      "harminv0:, frequency, imag. freq., Q, |amp|, amplitude, error\n",
      "harminv0:, 0.2345322295143831, -7.309230658391923e-05, 1604.3564670182516, 6.010010946010917, -3.965258358393284-4.516299117902094i, 2.5765138229404268e-09+0.0i\n",
      "harminv0:, 0.32033807635583805, -0.0028107768528791537, 56.98390393881806, 0.08939755323241685, -0.07611078213139669+0.04689425729542876i, 1.5025110534065942e-06+0.0i\n",
      "run 0 finished at t = 450.0 (18000 timesteps)\n",
      "-----------\n",
      "Initializing structure...\n",
      "Halving computational cell along direction x\n",
      "Halving computational cell along direction y\n",
      "time for choose_chunkdivision = 0.00196004 s\n",
      "Working in 2D dimensions.\n",
      "Computational cell is 18.4 x 6 x 0 with resolution 20\n",
      "     block, center = (0,0,0)\n",
      "          size (1e+20,1.2,1e+20)\n",
      "          axes (1,0,0), (0,1,0), (0,0,1)\n",
      "          dielectric constant epsilon diagonal = (13,13,13)\n",
      "     cylinder, center = (0.7,0,0)\n",
      "          radius 0.36, height 1e+20, axis (0, 0, 1)\n",
      "          dielectric constant epsilon diagonal = (1,1,1)\n",
      "     cylinder, center = (-0.7,0,0)\n",
      "          radius 0.36, height 1e+20, axis (0, 0, 1)\n",
      "          dielectric constant epsilon diagonal = (1,1,1)\n",
      "     cylinder, center = (1.7,0,0)\n",
      "          radius 0.36, height 1e+20, axis (0, 0, 1)\n",
      "          dielectric constant epsilon diagonal = (1,1,1)\n",
      "     cylinder, center = (-1.7,0,0)\n",
      "          radius 0.36, height 1e+20, axis (0, 0, 1)\n",
      "          dielectric constant epsilon diagonal = (1,1,1)\n",
      "     cylinder, center = (2.7,0,0)\n",
      "          radius 0.36, height 1e+20, axis (0, 0, 1)\n",
      "          dielectric constant epsilon diagonal = (1,1,1)\n",
      "     cylinder, center = (-2.7,0,0)\n",
      "          radius 0.36, height 1e+20, axis (0, 0, 1)\n",
      "          dielectric constant epsilon diagonal = (1,1,1)\n",
      "     cylinder, center = (3.7,0,0)\n",
      "          radius 0.36, height 1e+20, axis (0, 0, 1)\n",
      "          dielectric constant epsilon diagonal = (1,1,1)\n",
      "     cylinder, center = (-3.7,0,0)\n",
      "          radius 0.36, height 1e+20, axis (0, 0, 1)\n",
      "          dielectric constant epsilon diagonal = (1,1,1)\n",
      "     cylinder, center = (4.7,0,0)\n",
      "          radius 0.36, height 1e+20, axis (0, 0, 1)\n",
      "          dielectric constant epsilon diagonal = (1,1,1)\n",
      "     ...(+ 3 objects not shown)...\n",
      "time for set_epsilon = 0.037148 s\n",
      "-----------\n"
     ]
    },
    {
     "data": {
      "application/vnd.jupyter.widget-view+json": {
       "model_id": "b7247b1f61f5452db943c987577f7e2c",
       "version_major": 2,
       "version_minor": 0
      },
      "text/plain": [
       "FloatProgress(value=0.0, description='0% done ', max=450.0)"
      ]
     },
     "metadata": {},
     "output_type": "display_data"
    },
    {
     "name": "stdout",
     "output_type": "stream",
     "text": [
      "harminv0:, frequency, imag. freq., Q, |amp|, amplitude, error\n",
      "harminv0:, 0.23454147744888382, -2.0401860579687156e-05, 5748.041374285293, 6.04237359425669, -3.9957219820012515+4.532602397643378i, 2.950324735890032e-09+0.0i\n",
      "harminv0:, 0.3258852596864213, -0.0018520872049350326, 87.97783895328317, 0.08796908971744367, -0.05534388454641727+0.06837847021562042i, 1.0591296027716398e-06+0.0i\n",
      "run 0 finished at t = 450.0 (18000 timesteps)\n",
      "-----------\n",
      "Initializing structure...\n",
      "Halving computational cell along direction x\n",
      "Halving computational cell along direction y\n",
      "time for choose_chunkdivision = 0.00819898 s\n",
      "Working in 2D dimensions.\n",
      "Computational cell is 22.4 x 6 x 0 with resolution 20\n",
      "     block, center = (0,0,0)\n",
      "          size (1e+20,1.2,1e+20)\n",
      "          axes (1,0,0), (0,1,0), (0,0,1)\n",
      "          dielectric constant epsilon diagonal = (13,13,13)\n",
      "     cylinder, center = (0.7,0,0)\n",
      "          radius 0.36, height 1e+20, axis (0, 0, 1)\n",
      "          dielectric constant epsilon diagonal = (1,1,1)\n",
      "     cylinder, center = (-0.7,0,0)\n",
      "          radius 0.36, height 1e+20, axis (0, 0, 1)\n",
      "          dielectric constant epsilon diagonal = (1,1,1)\n",
      "     cylinder, center = (1.7,0,0)\n",
      "          radius 0.36, height 1e+20, axis (0, 0, 1)\n",
      "          dielectric constant epsilon diagonal = (1,1,1)\n",
      "     cylinder, center = (-1.7,0,0)\n",
      "          radius 0.36, height 1e+20, axis (0, 0, 1)\n",
      "          dielectric constant epsilon diagonal = (1,1,1)\n",
      "     cylinder, center = (2.7,0,0)\n",
      "          radius 0.36, height 1e+20, axis (0, 0, 1)\n",
      "          dielectric constant epsilon diagonal = (1,1,1)\n",
      "     cylinder, center = (-2.7,0,0)\n",
      "          radius 0.36, height 1e+20, axis (0, 0, 1)\n",
      "          dielectric constant epsilon diagonal = (1,1,1)\n",
      "     cylinder, center = (3.7,0,0)\n",
      "          radius 0.36, height 1e+20, axis (0, 0, 1)\n",
      "          dielectric constant epsilon diagonal = (1,1,1)\n",
      "     cylinder, center = (-3.7,0,0)\n",
      "          radius 0.36, height 1e+20, axis (0, 0, 1)\n",
      "          dielectric constant epsilon diagonal = (1,1,1)\n",
      "     cylinder, center = (4.7,0,0)\n",
      "          radius 0.36, height 1e+20, axis (0, 0, 1)\n",
      "          dielectric constant epsilon diagonal = (1,1,1)\n",
      "     ...(+ 7 objects not shown)...\n",
      "time for set_epsilon = 0.0582509 s\n",
      "-----------\n"
     ]
    },
    {
     "data": {
      "application/vnd.jupyter.widget-view+json": {
       "model_id": "47806b980ce54a18add0389d7ca6af7b",
       "version_major": 2,
       "version_minor": 0
      },
      "text/plain": [
       "FloatProgress(value=0.0, description='0% done ', max=450.0)"
      ]
     },
     "metadata": {},
     "output_type": "display_data"
    },
    {
     "name": "stdout",
     "output_type": "stream",
     "text": [
      "harminv0:, frequency, imag. freq., Q, |amp|, amplitude, error\n",
      "harminv0:, 0.19490450913816063, -0.0007112999870553212, 137.00584330462104, 0.021922028530898665, -0.012914842783969102-0.017713897673151898i, 2.611098318929518e-06+0.0i\n",
      "harminv0:, 0.2345425174922896, -1.9496547153931766e-05, 6014.975770850549, 6.045190116578577, -3.9989028655426586-4.533552626531871i, 3.1891200536925287e-09+0.0i\n",
      "harminv0:, 0.3253923464249969, -0.0028754773510546155, 56.580578926426845, 0.10344522870699542, -0.06987104514536471+0.07628205812992328i, 1.7175175403880639e-06+0.0i\n",
      "run 0 finished at t = 450.0 (18000 timesteps)\n",
      "-----------\n",
      "Initializing structure...\n",
      "Halving computational cell along direction x\n",
      "Halving computational cell along direction y\n",
      "time for choose_chunkdivision = 0.00306892 s\n",
      "Working in 2D dimensions.\n",
      "Computational cell is 26.4 x 6 x 0 with resolution 20\n",
      "     block, center = (0,0,0)\n",
      "          size (1e+20,1.2,1e+20)\n",
      "          axes (1,0,0), (0,1,0), (0,0,1)\n",
      "          dielectric constant epsilon diagonal = (13,13,13)\n",
      "     cylinder, center = (0.7,0,0)\n",
      "          radius 0.36, height 1e+20, axis (0, 0, 1)\n",
      "          dielectric constant epsilon diagonal = (1,1,1)\n",
      "     cylinder, center = (-0.7,0,0)\n",
      "          radius 0.36, height 1e+20, axis (0, 0, 1)\n",
      "          dielectric constant epsilon diagonal = (1,1,1)\n",
      "     cylinder, center = (1.7,0,0)\n",
      "          radius 0.36, height 1e+20, axis (0, 0, 1)\n",
      "          dielectric constant epsilon diagonal = (1,1,1)\n",
      "     cylinder, center = (-1.7,0,0)\n",
      "          radius 0.36, height 1e+20, axis (0, 0, 1)\n",
      "          dielectric constant epsilon diagonal = (1,1,1)\n",
      "     cylinder, center = (2.7,0,0)\n",
      "          radius 0.36, height 1e+20, axis (0, 0, 1)\n",
      "          dielectric constant epsilon diagonal = (1,1,1)\n",
      "     cylinder, center = (-2.7,0,0)\n",
      "          radius 0.36, height 1e+20, axis (0, 0, 1)\n",
      "          dielectric constant epsilon diagonal = (1,1,1)\n",
      "     cylinder, center = (3.7,0,0)\n",
      "          radius 0.36, height 1e+20, axis (0, 0, 1)\n",
      "          dielectric constant epsilon diagonal = (1,1,1)\n",
      "     cylinder, center = (-3.7,0,0)\n",
      "          radius 0.36, height 1e+20, axis (0, 0, 1)\n",
      "          dielectric constant epsilon diagonal = (1,1,1)\n",
      "     cylinder, center = (4.7,0,0)\n",
      "          radius 0.36, height 1e+20, axis (0, 0, 1)\n",
      "          dielectric constant epsilon diagonal = (1,1,1)\n",
      "     ...(+ 11 objects not shown)...\n",
      "time for set_epsilon = 0.0611539 s\n",
      "-----------\n"
     ]
    },
    {
     "data": {
      "application/vnd.jupyter.widget-view+json": {
       "model_id": "e799efea56e543c0bc80afa755851fd5",
       "version_major": 2,
       "version_minor": 0
      },
      "text/plain": [
       "FloatProgress(value=0.0, description='0% done ', max=450.0)"
      ]
     },
     "metadata": {},
     "output_type": "display_data"
    },
    {
     "name": "stdout",
     "output_type": "stream",
     "text": [
      "harminv0:, frequency, imag. freq., Q, |amp|, amplitude, error\n",
      "harminv0:, 0.19649267206871937, -0.00013596574676350074, 722.5815205152345, 0.010159872286326524, -0.009356352559601802-0.00396000904732534i, 3.0721289549226666e-06+0.0i\n",
      "harminv0:, 0.23454237542598788, -1.928123887871315e-05, 6082.139661806874, 6.04472985001316, -3.9985473848873507-4.5332524494506865i, 2.1322374532263585e-09+0.0i\n",
      "harminv0:, 0.3247700017171515, -0.0009459462393201221, 171.66409052515115, 0.10284224875476289, -0.053670752584032956+0.08772672595053374i, 2.332308397634975e-07+0.0i\n",
      "run 0 finished at t = 450.0 (18000 timesteps)\n",
      "-----------\n",
      "Initializing structure...\n",
      "Halving computational cell along direction x\n",
      "Halving computational cell along direction y\n",
      "time for choose_chunkdivision = 0.0062499 s\n",
      "Working in 2D dimensions.\n",
      "Computational cell is 30.4 x 6 x 0 with resolution 20\n",
      "     block, center = (0,0,0)\n",
      "          size (1e+20,1.2,1e+20)\n",
      "          axes (1,0,0), (0,1,0), (0,0,1)\n",
      "          dielectric constant epsilon diagonal = (13,13,13)\n",
      "     cylinder, center = (0.7,0,0)\n",
      "          radius 0.36, height 1e+20, axis (0, 0, 1)\n",
      "          dielectric constant epsilon diagonal = (1,1,1)\n",
      "     cylinder, center = (-0.7,0,0)\n",
      "          radius 0.36, height 1e+20, axis (0, 0, 1)\n",
      "          dielectric constant epsilon diagonal = (1,1,1)\n",
      "     cylinder, center = (1.7,0,0)\n",
      "          radius 0.36, height 1e+20, axis (0, 0, 1)\n",
      "          dielectric constant epsilon diagonal = (1,1,1)\n",
      "     cylinder, center = (-1.7,0,0)\n",
      "          radius 0.36, height 1e+20, axis (0, 0, 1)\n",
      "          dielectric constant epsilon diagonal = (1,1,1)\n",
      "     cylinder, center = (2.7,0,0)\n",
      "          radius 0.36, height 1e+20, axis (0, 0, 1)\n",
      "          dielectric constant epsilon diagonal = (1,1,1)\n",
      "     cylinder, center = (-2.7,0,0)\n",
      "          radius 0.36, height 1e+20, axis (0, 0, 1)\n",
      "          dielectric constant epsilon diagonal = (1,1,1)\n",
      "     cylinder, center = (3.7,0,0)\n",
      "          radius 0.36, height 1e+20, axis (0, 0, 1)\n",
      "          dielectric constant epsilon diagonal = (1,1,1)\n",
      "     cylinder, center = (-3.7,0,0)\n",
      "          radius 0.36, height 1e+20, axis (0, 0, 1)\n",
      "          dielectric constant epsilon diagonal = (1,1,1)\n",
      "     cylinder, center = (4.7,0,0)\n",
      "          radius 0.36, height 1e+20, axis (0, 0, 1)\n",
      "          dielectric constant epsilon diagonal = (1,1,1)\n",
      "     ...(+ 15 objects not shown)...\n",
      "time for set_epsilon = 0.110296 s\n",
      "-----------\n"
     ]
    },
    {
     "data": {
      "application/vnd.jupyter.widget-view+json": {
       "model_id": "6790730a75c04d23910c79b154ad6550",
       "version_major": 2,
       "version_minor": 0
      },
      "text/plain": [
       "FloatProgress(value=0.0, description='0% done ', max=450.0)"
      ]
     },
     "metadata": {},
     "output_type": "display_data"
    },
    {
     "name": "stdout",
     "output_type": "stream",
     "text": [
      "harminv0:, frequency, imag. freq., Q, |amp|, amplitude, error\n",
      "harminv0:, 0.1685496833330174, -0.00034157106755950485, 246.72710797388376, 0.0002345553539270267, 3.598793466008076e-05-0.00023177808916015878i, 0.00012066682530242147+0.0i\n",
      "harminv0:, 0.2345423206672576, -1.9226043020219093e-05, 6099.599392880815, 6.044410933302123, -3.998470758846272+4.532894783830037i, 2.1890231509628743e-09+0.0i\n",
      "harminv0:, 0.32530025612594693, -0.0007389178382649835, 220.1193686768805, 0.10232373375620221, -0.0556604432719458+0.08586071013321901i, 1.3126217558617475e-07+0.0i\n",
      "run 0 finished at t = 450.0 (18000 timesteps)\n",
      "-----------\n",
      "Initializing structure...\n",
      "Halving computational cell along direction x\n",
      "Halving computational cell along direction y\n",
      "time for choose_chunkdivision = 0.00139403 s\n",
      "Working in 2D dimensions.\n",
      "Computational cell is 34.4 x 6 x 0 with resolution 20\n",
      "     block, center = (0,0,0)\n",
      "          size (1e+20,1.2,1e+20)\n",
      "          axes (1,0,0), (0,1,0), (0,0,1)\n",
      "          dielectric constant epsilon diagonal = (13,13,13)\n",
      "     cylinder, center = (0.7,0,0)\n",
      "          radius 0.36, height 1e+20, axis (0, 0, 1)\n",
      "          dielectric constant epsilon diagonal = (1,1,1)\n",
      "     cylinder, center = (-0.7,0,0)\n",
      "          radius 0.36, height 1e+20, axis (0, 0, 1)\n",
      "          dielectric constant epsilon diagonal = (1,1,1)\n",
      "     cylinder, center = (1.7,0,0)\n",
      "          radius 0.36, height 1e+20, axis (0, 0, 1)\n",
      "          dielectric constant epsilon diagonal = (1,1,1)\n",
      "     cylinder, center = (-1.7,0,0)\n",
      "          radius 0.36, height 1e+20, axis (0, 0, 1)\n",
      "          dielectric constant epsilon diagonal = (1,1,1)\n",
      "     cylinder, center = (2.7,0,0)\n",
      "          radius 0.36, height 1e+20, axis (0, 0, 1)\n",
      "          dielectric constant epsilon diagonal = (1,1,1)\n",
      "     cylinder, center = (-2.7,0,0)\n",
      "          radius 0.36, height 1e+20, axis (0, 0, 1)\n",
      "          dielectric constant epsilon diagonal = (1,1,1)\n",
      "     cylinder, center = (3.7,0,0)\n",
      "          radius 0.36, height 1e+20, axis (0, 0, 1)\n",
      "          dielectric constant epsilon diagonal = (1,1,1)\n",
      "     cylinder, center = (-3.7,0,0)\n",
      "          radius 0.36, height 1e+20, axis (0, 0, 1)\n",
      "          dielectric constant epsilon diagonal = (1,1,1)\n",
      "     cylinder, center = (4.7,0,0)\n",
      "          radius 0.36, height 1e+20, axis (0, 0, 1)\n",
      "          dielectric constant epsilon diagonal = (1,1,1)\n",
      "     ...(+ 19 objects not shown)...\n",
      "time for set_epsilon = 0.119573 s\n",
      "-----------\n"
     ]
    },
    {
     "data": {
      "application/vnd.jupyter.widget-view+json": {
       "model_id": "1867cd15b1f541dfb3e91a2d10e41e01",
       "version_major": 2,
       "version_minor": 0
      },
      "text/plain": [
       "FloatProgress(value=0.0, description='0% done ', max=450.0)"
      ]
     },
     "metadata": {},
     "output_type": "display_data"
    },
    {
     "name": "stdout",
     "output_type": "stream",
     "text": [
      "harminv0:, frequency, imag. freq., Q, |amp|, amplitude, error\n",
      "harminv0:, 0.17869712296005816, -0.000411724936026431, 217.01032330549268, 0.0033950945753472195, 0.003188538424476464+0.0011661431692503563i, 1.6635208740283612e-05+0.0i\n",
      "harminv0:, 0.23454235715908744, -1.9283161053463634e-05, 6081.532911248466, 6.045124066460335, -3.9986341306276496-4.533701585710908i, 2.0479053308966467e-09+0.0i\n",
      "harminv0:, 0.3093311683107106, 0.0002731912113569691, -566.1440695222782, 0.0031358311685458985, -0.0031349683344386544+7.355718653444635e-05i, 5.283992010691664e-06+0.0i\n",
      "harminv0:, 0.3251510137674166, -0.0007662589000919484, 212.16785457787157, 0.10953605671855672, -0.0597542075786796+0.09180186489442872i, 1.459458285144817e-07+0.0i\n",
      "run 0 finished at t = 450.0 (18000 timesteps)\n"
     ]
    }
   ],
   "source": [
    "N_vec = np.arange(2,16,2)\n",
    "f = []\n",
    "Q = []\n",
    "for N in N_vec:\n",
    "    sim = sim_cavity(N=N)\n",
    "    h = mp.Harminv(mp.Hz, mp.Vector3(), fcen, df)\n",
    "    sim.run(mp.after_sources(h),\n",
    "        until_after_sources=400)\n",
    "    f.append([m.freq for m in h.modes])\n",
    "    Q.append([m.Q for m in h.modes])"
   ]
  },
  {
   "cell_type": "code",
   "execution_count": 24,
   "id": "de586c9f-6509-4e95-94ef-221dbda6588c",
   "metadata": {},
   "outputs": [
    {
     "name": "stdout",
     "output_type": "stream",
     "text": [
      "Resonant frequency: [0.23402785591610212], Q: [62.46025708549183]\n",
      "Resonant frequency: [0.2345322295143831, 0.32033807635583805], Q: [1604.3564670182516, 56.98390393881806]\n",
      "Resonant frequency: [0.23454147744888382, 0.3258852596864213], Q: [5748.041374285293, 87.97783895328317]\n",
      "Resonant frequency: [0.19490450913816063, 0.2345425174922896, 0.3253923464249969], Q: [137.00584330462104, 6014.975770850549, 56.580578926426845]\n",
      "Resonant frequency: [0.19649267206871937, 0.23454237542598788, 0.3247700017171515], Q: [722.5815205152345, 6082.139661806874, 171.66409052515115]\n",
      "Resonant frequency: [0.1685496833330174, 0.2345423206672576, 0.32530025612594693], Q: [246.72710797388376, 6099.599392880815, 220.1193686768805]\n",
      "Resonant frequency: [0.17869712296005816, 0.23454235715908744, 0.3093311683107106, 0.3251510137674166], Q: [217.01032330549268, 6081.532911248466, -566.1440695222782, 212.16785457787157]\n"
     ]
    }
   ],
   "source": [
    "for fiter, qiter in zip(f, Q):\n",
    "    print(f'Resonant frequency: {fiter}, Q: {qiter}') "
   ]
  },
  {
   "cell_type": "markdown",
   "id": "974d4dd3-8442-4dcd-a4cb-786038b884cd",
   "metadata": {},
   "source": [
    "當我們查看較大 N 的 Harminv 輸出時  會發生一些奇怪的事情 他開始找到更多的模式  \n",
    "可視化我們最初檢測到的基本模式周圍的 Q (𝜔=0.234)"
   ]
  },
  {
   "cell_type": "code",
   "execution_count": 25,
   "id": "148e1dd8-7fdd-421e-86ff-f4bbe03fa7a0",
   "metadata": {},
   "outputs": [
    {
     "data": {
      "image/png": "[encoded data removed]",
      "text/plain": [
       "<Figure size 900x600 with 1 Axes>"
      ]
     },
     "metadata": {
      "needs_background": "light"
     },
     "output_type": "display_data"
    }
   ],
   "source": [
    "idx = np.zeros(N_vec.shape)\n",
    "Q_fund = np.zeros(N_vec.shape)\n",
    "for i in range(N_vec.size):\n",
    "    idx[i] = np.abs(np.array(f[i]) - 0.234).argmin()\n",
    "    Q_fund[i] = Q[i][int(idx[i])]\n",
    "\n",
    "plt.figure(dpi=150)\n",
    "plt.semilogy(N_vec,Q_fund,'o-')\n",
    "plt.grid(True)\n",
    "plt.xlabel('N (# of periods)')\n",
    "plt.ylabel('Q')\n",
    "plt.show()"
   ]
  },
  {
   "cell_type": "markdown",
   "id": "038ba461-25f6-4e41-903e-ea0c24b9bf01",
   "metadata": {},
   "source": [
    "上面顯示的結果正是我們所期望的：首先，𝑄 隨 N 呈指數增長，然後在 𝑄𝑟≈8750 處達到飽和  \n",
    "現在，𝜔 =0.32823 時的額外模式是什麼?  \n",
    "這正好在band gap的邊緣附近 有兩種可能性。 首先，它可能是band edge state：當週期性波導中的傳播狀態接近the edge of the gap，它們的群速度變為零，對應於長而有限的晶體中的長壽命共振。   \n",
    "  \n",
    "其次，它可能是一種高階諧振模式，對於稍大的defect將被拉入間隙的更遠，但非常delocalized。 在這種情況下，事實證明是後者。   \n",
    "  \n",
    "要查看模式，我們將簡單地使用narrow-band source源再次運行模擬，並且我們還將增加 y 單元大小 sy 因為事實證明模式在該方向上相當分散："
   ]
  },
  {
   "cell_type": "code",
   "execution_count": 26,
   "id": "5616f7ac-775f-4aeb-90ea-95568e455376",
   "metadata": {},
   "outputs": [
    {
     "name": "stdout",
     "output_type": "stream",
     "text": [
      "-----------\n",
      "Initializing structure...\n",
      "Halving computational cell along direction x\n",
      "Halving computational cell along direction y\n",
      "time for choose_chunkdivision = 0.00265384 s\n",
      "Working in 2D dimensions.\n",
      "Computational cell is 38.4 x 12 x 0 with resolution 20\n",
      "     block, center = (0,0,0)\n",
      "          size (1e+20,1.2,1e+20)\n",
      "          axes (1,0,0), (0,1,0), (0,0,1)\n",
      "          dielectric constant epsilon diagonal = (13,13,13)\n",
      "     cylinder, center = (0.7,0,0)\n",
      "          radius 0.36, height 1e+20, axis (0, 0, 1)\n",
      "          dielectric constant epsilon diagonal = (1,1,1)\n",
      "     cylinder, center = (-0.7,0,0)\n",
      "          radius 0.36, height 1e+20, axis (0, 0, 1)\n",
      "          dielectric constant epsilon diagonal = (1,1,1)\n",
      "     cylinder, center = (1.7,0,0)\n",
      "          radius 0.36, height 1e+20, axis (0, 0, 1)\n",
      "          dielectric constant epsilon diagonal = (1,1,1)\n",
      "     cylinder, center = (-1.7,0,0)\n",
      "          radius 0.36, height 1e+20, axis (0, 0, 1)\n",
      "          dielectric constant epsilon diagonal = (1,1,1)\n",
      "     cylinder, center = (2.7,0,0)\n",
      "          radius 0.36, height 1e+20, axis (0, 0, 1)\n",
      "          dielectric constant epsilon diagonal = (1,1,1)\n",
      "     cylinder, center = (-2.7,0,0)\n",
      "          radius 0.36, height 1e+20, axis (0, 0, 1)\n",
      "          dielectric constant epsilon diagonal = (1,1,1)\n",
      "     cylinder, center = (3.7,0,0)\n",
      "          radius 0.36, height 1e+20, axis (0, 0, 1)\n",
      "          dielectric constant epsilon diagonal = (1,1,1)\n",
      "     cylinder, center = (-3.7,0,0)\n",
      "          radius 0.36, height 1e+20, axis (0, 0, 1)\n",
      "          dielectric constant epsilon diagonal = (1,1,1)\n",
      "     cylinder, center = (4.7,0,0)\n",
      "          radius 0.36, height 1e+20, axis (0, 0, 1)\n",
      "          dielectric constant epsilon diagonal = (1,1,1)\n",
      "     ...(+ 23 objects not shown)...\n",
      "time for set_epsilon = 0.123261 s\n",
      "-----------\n"
     ]
    },
    {
     "data": {
      "application/vnd.jupyter.widget-view+json": {
       "model_id": "3aa7189639b146e98fd2968f6f1bca98",
       "version_major": 2,
       "version_minor": 0
      },
      "text/plain": [
       "FloatProgress(value=0.0, description='0% done ', max=700.0)"
      ]
     },
     "metadata": {},
     "output_type": "display_data"
    },
    {
     "name": "stdout",
     "output_type": "stream",
     "text": [
      "Meep progress: 263.95/700.0 = 37.7% done in 4.0s, 6.6s to go\n",
      "on time step 10563 (time=264.075), 0.00037868 s/step\n",
      "Meep progress: 535.4250000000001/700.0 = 76.5% done in 8.0s, 2.5s to go\n",
      "on time step 21426 (time=535.65), 0.000368251 s/step\n",
      "run 0 finished at t = 700.0 (28000 timesteps)\n"
     ]
    }
   ],
   "source": [
    "sim = sim_cavity(N=16,sy=12,fcen=0.328227374843021,df=0.1)\n",
    "sim.run(until_after_sources=600)"
   ]
  },
  {
   "cell_type": "code",
   "execution_count": 27,
   "id": "acd0a7c0-ac20-4c27-babc-414011a6cf1f",
   "metadata": {},
   "outputs": [
    {
     "name": "stdout",
     "output_type": "stream",
     "text": [
      "     block, center = (0,0,0)\n",
      "          size (1e+20,1.2,1e+20)\n",
      "          axes (1,0,0), (0,1,0), (0,0,1)\n",
      "          dielectric constant epsilon diagonal = (13,13,13)\n",
      "     cylinder, center = (0.7,0,0)\n",
      "          radius 0.36, height 1e+20, axis (0, 0, 1)\n",
      "          dielectric constant epsilon diagonal = (1,1,1)\n",
      "     cylinder, center = (-0.7,0,0)\n",
      "          radius 0.36, height 1e+20, axis (0, 0, 1)\n",
      "          dielectric constant epsilon diagonal = (1,1,1)\n",
      "     cylinder, center = (1.7,0,0)\n",
      "          radius 0.36, height 1e+20, axis (0, 0, 1)\n",
      "          dielectric constant epsilon diagonal = (1,1,1)\n",
      "     cylinder, center = (-1.7,0,0)\n",
      "          radius 0.36, height 1e+20, axis (0, 0, 1)\n",
      "          dielectric constant epsilon diagonal = (1,1,1)\n",
      "     cylinder, center = (2.7,0,0)\n",
      "          radius 0.36, height 1e+20, axis (0, 0, 1)\n",
      "          dielectric constant epsilon diagonal = (1,1,1)\n",
      "     cylinder, center = (-2.7,0,0)\n",
      "          radius 0.36, height 1e+20, axis (0, 0, 1)\n",
      "          dielectric constant epsilon diagonal = (1,1,1)\n",
      "     cylinder, center = (3.7,0,0)\n",
      "          radius 0.36, height 1e+20, axis (0, 0, 1)\n",
      "          dielectric constant epsilon diagonal = (1,1,1)\n",
      "     cylinder, center = (-3.7,0,0)\n",
      "          radius 0.36, height 1e+20, axis (0, 0, 1)\n",
      "          dielectric constant epsilon diagonal = (1,1,1)\n",
      "     cylinder, center = (4.7,0,0)\n",
      "          radius 0.36, height 1e+20, axis (0, 0, 1)\n",
      "          dielectric constant epsilon diagonal = (1,1,1)\n",
      "     ...(+ 23 objects not shown)...\n"
     ]
    },
    {
     "data": {
      "image/png": "[encoded data removed]",
      "text/plain": [
       "<Figure size 900x600 with 1 Axes>"
      ]
     },
     "metadata": {
      "needs_background": "light"
     },
     "output_type": "display_data"
    }
   ],
   "source": [
    "f = plt.figure(dpi=150)\n",
    "sim.plot2D(ax=f.gca(),fields=mp.Hz)\n",
    "plt.show()"
   ]
  },
  {
   "cell_type": "markdown",
   "id": "889c5a9d-725c-4e91-89f1-4cd555e4a53b",
   "metadata": {},
   "source": [
    "從圖像中可以看出，該場明顯位於中心defect周圍，而不是像band-edge state那樣均勻地分佈在晶體中。 在defect中，模式比之前的模式更高階。 它在 y 方向上有一對額外的節點。"
   ]
  }
 ],
 "metadata": {
  "kernelspec": {
   "display_name": "Python 3 (ipykernel)",
   "language": "python",
   "name": "python3"
  },
  "language_info": {
   "codemirror_mode": {
    "name": "ipython",
    "version": 3
   },
   "file_extension": ".py",
   "mimetype": "text/x-python",
   "name": "python",
   "nbconvert_exporter": "python",
   "pygments_lexer": "ipython3",
   "version": "3.10.5"
  }
 },
 "nbformat": 4,
 "nbformat_minor": 5
}

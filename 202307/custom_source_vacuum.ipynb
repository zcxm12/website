{
 "cells": [
  {
   "cell_type": "code",
   "execution_count": 4,
   "id": "4e58b0d3-7ee2-41e6-b4ed-4152bcef3d88",
   "metadata": {
    "tags": []
   },
   "outputs": [
    {
     "name": "stdout",
     "output_type": "stream",
     "text": [
      "[                    ] 0%-----------\n",
      "Initializing structure...\n",
      "time for choose_chunkdivision = 2.7895e-05 s\n",
      "Working in 1D dimensions.\n",
      "Computational cell is 0 x 0 x 16 with resolution 10\n",
      "time for set_epsilon = 4.69685e-05 s\n",
      "-----------\n"
     ]
    },
    {
     "data": {
      "application/vnd.jupyter.widget-view+json": {
       "model_id": "d89f3fec224a42afa51b28b3f22f6c67",
       "version_major": 2,
       "version_minor": 0
      },
      "text/plain": [
       "FloatProgress(value=0.0, description='0% done ', max=2100.0)"
      ]
     },
     "metadata": {},
     "output_type": "display_data"
    },
    {
     "name": "stdout",
     "output_type": "stream",
     "text": [
      "run 0 finished at t = 2100.0 (21000 timesteps)\n",
      "[m                   ] 1%-----------\n",
      "Initializing structure...\n",
      "time for choose_chunkdivision = 2.47955e-05 s\n",
      "Working in 1D dimensions.\n",
      "Computational cell is 0 x 0 x 16 with resolution 10\n",
      "time for set_epsilon = 5.00679e-05 s\n",
      "-----------\n"
     ]
    },
    {
     "data": {
      "application/vnd.jupyter.widget-view+json": {
       "model_id": "5a518875ddda470eb41b61b57e57bb5d",
       "version_major": 2,
       "version_minor": 0
      },
      "text/plain": [
       "FloatProgress(value=0.0, description='0% done ', max=2100.0)"
      ]
     },
     "metadata": {},
     "output_type": "display_data"
    },
    {
     "name": "stdout",
     "output_type": "stream",
     "text": [
      "run 0 finished at t = 2100.0 (21000 timesteps)\n",
      "[mm                  ] 2%-----------\n",
      "Initializing structure...\n",
      "time for choose_chunkdivision = 2.28882e-05 s\n",
      "Working in 1D dimensions.\n",
      "Computational cell is 0 x 0 x 16 with resolution 10\n",
      "time for set_epsilon = 4.3869e-05 s\n",
      "-----------\n"
     ]
    },
    {
     "data": {
      "application/vnd.jupyter.widget-view+json": {
       "model_id": "8f5ed8ae619a493aaca3e5df4ae09329",
       "version_major": 2,
       "version_minor": 0
      },
      "text/plain": [
       "FloatProgress(value=0.0, description='0% done ', max=2100.0)"
      ]
     },
     "metadata": {},
     "output_type": "display_data"
    },
    {
     "name": "stdout",
     "output_type": "stream",
     "text": [
      "run 0 finished at t = 2100.0 (21000 timesteps)\n",
      "[mmm                 ] 3%-----------\n",
      "Initializing structure...\n",
      "time for choose_chunkdivision = 2.5034e-05 s\n",
      "Working in 1D dimensions.\n",
      "Computational cell is 0 x 0 x 16 with resolution 10\n",
      "time for set_epsilon = 4.69685e-05 s\n",
      "-----------\n"
     ]
    },
    {
     "data": {
      "application/vnd.jupyter.widget-view+json": {
       "model_id": "27b838753dc04e339d8fc617ef25cb3f",
       "version_major": 2,
       "version_minor": 0
      },
      "text/plain": [
       "FloatProgress(value=0.0, description='0% done ', max=2100.0)"
      ]
     },
     "metadata": {},
     "output_type": "display_data"
    },
    {
     "name": "stdout",
     "output_type": "stream",
     "text": [
      "run 0 finished at t = 2100.0 (21000 timesteps)\n",
      "[mmmm                ] 4%-----------\n",
      "Initializing structure...\n",
      "time for choose_chunkdivision = 2.59876e-05 s\n",
      "Working in 1D dimensions.\n",
      "Computational cell is 0 x 0 x 16 with resolution 10\n",
      "time for set_epsilon = 4.69685e-05 s\n",
      "-----------\n"
     ]
    },
    {
     "data": {
      "application/vnd.jupyter.widget-view+json": {
       "model_id": "c77d3eb4e788493793ae2d197fe9178b",
       "version_major": 2,
       "version_minor": 0
      },
      "text/plain": [
       "FloatProgress(value=0.0, description='0% done ', max=2100.0)"
      ]
     },
     "metadata": {},
     "output_type": "display_data"
    },
    {
     "name": "stdout",
     "output_type": "stream",
     "text": [
      "run 0 finished at t = 2100.0 (21000 timesteps)\n",
      "[mmmmm               ] 5%-----------\n",
      "Initializing structure...\n",
      "time for choose_chunkdivision = 2.59876e-05 s\n",
      "Working in 1D dimensions.\n",
      "Computational cell is 0 x 0 x 16 with resolution 10\n",
      "time for set_epsilon = 4.41074e-05 s\n",
      "-----------\n"
     ]
    },
    {
     "data": {
      "application/vnd.jupyter.widget-view+json": {
       "model_id": "36391a6f0b8943cea5502a573319f72f",
       "version_major": 2,
       "version_minor": 0
      },
      "text/plain": [
       "FloatProgress(value=0.0, description='0% done ', max=2100.0)"
      ]
     },
     "metadata": {},
     "output_type": "display_data"
    },
    {
     "name": "stdout",
     "output_type": "stream",
     "text": [
      "run 0 finished at t = 2100.0 (21000 timesteps)\n",
      "[mmmmmm              ] 6%-----------\n",
      "Initializing structure...\n",
      "time for choose_chunkdivision = 2.5034e-05 s\n",
      "Working in 1D dimensions.\n",
      "Computational cell is 0 x 0 x 16 with resolution 10\n",
      "time for set_epsilon = 4.88758e-05 s\n",
      "-----------\n"
     ]
    },
    {
     "data": {
      "application/vnd.jupyter.widget-view+json": {
       "model_id": "1fc5276541124988bd87a0e074f45f9f",
       "version_major": 2,
       "version_minor": 0
      },
      "text/plain": [
       "FloatProgress(value=0.0, description='0% done ', max=2100.0)"
      ]
     },
     "metadata": {},
     "output_type": "display_data"
    },
    {
     "name": "stdout",
     "output_type": "stream",
     "text": [
      "run 0 finished at t = 2100.0 (21000 timesteps)\n",
      "[mmmmmmm             ] 7%-----------\n",
      "Initializing structure...\n",
      "time for choose_chunkdivision = 2.59876e-05 s\n",
      "Working in 1D dimensions.\n",
      "Computational cell is 0 x 0 x 16 with resolution 10\n",
      "time for set_epsilon = 5.00679e-05 s\n",
      "-----------\n"
     ]
    },
    {
     "data": {
      "application/vnd.jupyter.widget-view+json": {
       "model_id": "b488848d283749af9164426cb9b523d3",
       "version_major": 2,
       "version_minor": 0
      },
      "text/plain": [
       "FloatProgress(value=0.0, description='0% done ', max=2100.0)"
      ]
     },
     "metadata": {},
     "output_type": "display_data"
    },
    {
     "name": "stdout",
     "output_type": "stream",
     "text": [
      "run 0 finished at t = 2100.0 (21000 timesteps)\n",
      "[mmmmmmmm            ] 8%-----------\n",
      "Initializing structure...\n",
      "time for choose_chunkdivision = 2.5034e-05 s\n",
      "Working in 1D dimensions.\n",
      "Computational cell is 0 x 0 x 16 with resolution 10\n",
      "time for set_epsilon = 5.50747e-05 s\n",
      "-----------\n"
     ]
    },
    {
     "data": {
      "application/vnd.jupyter.widget-view+json": {
       "model_id": "6ccdc52c61dd4978949e93f005d09840",
       "version_major": 2,
       "version_minor": 0
      },
      "text/plain": [
       "FloatProgress(value=0.0, description='0% done ', max=2100.0)"
      ]
     },
     "metadata": {},
     "output_type": "display_data"
    },
    {
     "name": "stdout",
     "output_type": "stream",
     "text": [
      "run 0 finished at t = 2100.0 (21000 timesteps)\n",
      "[mmmmmmmmm           ] 9%-----------\n",
      "Initializing structure...\n",
      "time for choose_chunkdivision = 2.38419e-05 s\n",
      "Working in 1D dimensions.\n",
      "Computational cell is 0 x 0 x 16 with resolution 10\n",
      "time for set_epsilon = 4.81606e-05 s\n",
      "-----------\n"
     ]
    },
    {
     "data": {
      "application/vnd.jupyter.widget-view+json": {
       "model_id": "f23fa5b255f44e838f0153213de0178b",
       "version_major": 2,
       "version_minor": 0
      },
      "text/plain": [
       "FloatProgress(value=0.0, description='0% done ', max=2100.0)"
      ]
     },
     "metadata": {},
     "output_type": "display_data"
    },
    {
     "name": "stdout",
     "output_type": "stream",
     "text": [
      "run 0 finished at t = 2100.0 (21000 timesteps)\n",
      "[mmmmmmmmmm          ] 10%-----------\n",
      "Initializing structure...\n",
      "time for choose_chunkdivision = 2.59876e-05 s\n",
      "Working in 1D dimensions.\n",
      "Computational cell is 0 x 0 x 16 with resolution 10\n",
      "time for set_epsilon = 4.72069e-05 s\n",
      "-----------\n"
     ]
    },
    {
     "data": {
      "application/vnd.jupyter.widget-view+json": {
       "model_id": "491787a22a64454ea2214dcb4fdf954d",
       "version_major": 2,
       "version_minor": 0
      },
      "text/plain": [
       "FloatProgress(value=0.0, description='0% done ', max=2100.0)"
      ]
     },
     "metadata": {},
     "output_type": "display_data"
    },
    {
     "name": "stdout",
     "output_type": "stream",
     "text": [
      "run 0 finished at t = 2100.0 (21000 timesteps)\n",
      "[mmmmmmmmmmm         ] 11%-----------\n",
      "Initializing structure...\n",
      "time for choose_chunkdivision = 2.5034e-05 s\n",
      "Working in 1D dimensions.\n",
      "Computational cell is 0 x 0 x 16 with resolution 10\n",
      "time for set_epsilon = 4.50611e-05 s\n",
      "-----------\n"
     ]
    },
    {
     "data": {
      "application/vnd.jupyter.widget-view+json": {
       "model_id": "a854a5b374d1443eae3f3230dd8403b6",
       "version_major": 2,
       "version_minor": 0
      },
      "text/plain": [
       "FloatProgress(value=0.0, description='0% done ', max=2100.0)"
      ]
     },
     "metadata": {},
     "output_type": "display_data"
    },
    {
     "name": "stdout",
     "output_type": "stream",
     "text": [
      "run 0 finished at t = 2100.0 (21000 timesteps)\n",
      "[mmmmmmmmmmmm        ] 12%-----------\n",
      "Initializing structure...\n",
      "time for choose_chunkdivision = 2.59876e-05 s\n",
      "Working in 1D dimensions.\n",
      "Computational cell is 0 x 0 x 16 with resolution 10\n",
      "time for set_epsilon = 4.81606e-05 s\n",
      "-----------\n"
     ]
    },
    {
     "data": {
      "application/vnd.jupyter.widget-view+json": {
       "model_id": "2dc5869700bf42e98c578476a1f25b44",
       "version_major": 2,
       "version_minor": 0
      },
      "text/plain": [
       "FloatProgress(value=0.0, description='0% done ', max=2100.0)"
      ]
     },
     "metadata": {},
     "output_type": "display_data"
    },
    {
     "name": "stdout",
     "output_type": "stream",
     "text": [
      "run 0 finished at t = 2100.0 (21000 timesteps)\n",
      "[mmmmmmmmmmmmm       ] 13%-----------\n",
      "Initializing structure...\n",
      "time for choose_chunkdivision = 2.6226e-05 s\n",
      "Working in 1D dimensions.\n",
      "Computational cell is 0 x 0 x 16 with resolution 10\n",
      "time for set_epsilon = 4.3869e-05 s\n",
      "-----------\n"
     ]
    },
    {
     "data": {
      "application/vnd.jupyter.widget-view+json": {
       "model_id": "a395250105c4468584e02c9d4d1b9d5e",
       "version_major": 2,
       "version_minor": 0
      },
      "text/plain": [
       "FloatProgress(value=0.0, description='0% done ', max=2100.0)"
      ]
     },
     "metadata": {},
     "output_type": "display_data"
    },
    {
     "name": "stdout",
     "output_type": "stream",
     "text": [
      "run 0 finished at t = 2100.0 (21000 timesteps)\n",
      "[mmmmmmmmmmmmmm      ] 14%-----------\n",
      "Initializing structure...\n",
      "time for choose_chunkdivision = 2.31266e-05 s\n",
      "Working in 1D dimensions.\n",
      "Computational cell is 0 x 0 x 16 with resolution 10\n",
      "time for set_epsilon = 4.48227e-05 s\n",
      "-----------\n"
     ]
    },
    {
     "data": {
      "application/vnd.jupyter.widget-view+json": {
       "model_id": "00716e7906234ff485f1b81962ad9d78",
       "version_major": 2,
       "version_minor": 0
      },
      "text/plain": [
       "FloatProgress(value=0.0, description='0% done ', max=2100.0)"
      ]
     },
     "metadata": {},
     "output_type": "display_data"
    },
    {
     "name": "stdout",
     "output_type": "stream",
     "text": [
      "run 0 finished at t = 2100.0 (21000 timesteps)\n",
      "[mmmmmmmmmmmmmmm     ] 15%-----------\n",
      "Initializing structure...\n",
      "time for choose_chunkdivision = 2.28882e-05 s\n",
      "Working in 1D dimensions.\n",
      "Computational cell is 0 x 0 x 16 with resolution 10\n",
      "time for set_epsilon = 7.82013e-05 s\n",
      "-----------\n"
     ]
    },
    {
     "data": {
      "application/vnd.jupyter.widget-view+json": {
       "model_id": "a79b6bf6a7614e64b7ba510f8594d49d",
       "version_major": 2,
       "version_minor": 0
      },
      "text/plain": [
       "FloatProgress(value=0.0, description='0% done ', max=2100.0)"
      ]
     },
     "metadata": {},
     "output_type": "display_data"
    },
    {
     "name": "stdout",
     "output_type": "stream",
     "text": [
      "run 0 finished at t = 2100.0 (21000 timesteps)\n",
      "[mmmmmmmmmmmmmmmm    ] 16%-----------\n",
      "Initializing structure...\n",
      "time for choose_chunkdivision = 6.41346e-05 s\n",
      "Working in 1D dimensions.\n",
      "Computational cell is 0 x 0 x 16 with resolution 10\n",
      "time for set_epsilon = 5.00679e-05 s\n",
      "-----------\n"
     ]
    },
    {
     "data": {
      "application/vnd.jupyter.widget-view+json": {
       "model_id": "8d1c6f5d96d2468a9983698fa4b39778",
       "version_major": 2,
       "version_minor": 0
      },
      "text/plain": [
       "FloatProgress(value=0.0, description='0% done ', max=2100.0)"
      ]
     },
     "metadata": {},
     "output_type": "display_data"
    },
    {
     "name": "stdout",
     "output_type": "stream",
     "text": [
      "run 0 finished at t = 2100.0 (21000 timesteps)\n",
      "[mmmmmmmmmmmmmmmmm   ] 17%-----------\n",
      "Initializing structure...\n",
      "time for choose_chunkdivision = 2.38419e-05 s\n",
      "Working in 1D dimensions.\n",
      "Computational cell is 0 x 0 x 16 with resolution 10\n",
      "time for set_epsilon = 7.00951e-05 s\n",
      "-----------\n"
     ]
    },
    {
     "data": {
      "application/vnd.jupyter.widget-view+json": {
       "model_id": "4623dd308c8549ec868333d7350f5c97",
       "version_major": 2,
       "version_minor": 0
      },
      "text/plain": [
       "FloatProgress(value=0.0, description='0% done ', max=2100.0)"
      ]
     },
     "metadata": {},
     "output_type": "display_data"
    },
    {
     "name": "stdout",
     "output_type": "stream",
     "text": [
      "run 0 finished at t = 2100.0 (21000 timesteps)\n",
      "[mmmmmmmmmmmmmmmmmm  ] 18%-----------\n",
      "Initializing structure...\n",
      "time for choose_chunkdivision = 2.28882e-05 s\n",
      "Working in 1D dimensions.\n",
      "Computational cell is 0 x 0 x 16 with resolution 10\n",
      "time for set_epsilon = 4.60148e-05 s\n",
      "-----------\n"
     ]
    },
    {
     "data": {
      "application/vnd.jupyter.widget-view+json": {
       "model_id": "c540eaa611154600ba38cf07d00dcdbf",
       "version_major": 2,
       "version_minor": 0
      },
      "text/plain": [
       "FloatProgress(value=0.0, description='0% done ', max=2100.0)"
      ]
     },
     "metadata": {},
     "output_type": "display_data"
    },
    {
     "name": "stdout",
     "output_type": "stream",
     "text": [
      "run 0 finished at t = 2100.0 (21000 timesteps)\n",
      "[mmmmmmmmmmmmmmmmmmm ] 19%-----------\n",
      "Initializing structure...\n",
      "time for choose_chunkdivision = 2.71797e-05 s\n",
      "Working in 1D dimensions.\n",
      "Computational cell is 0 x 0 x 16 with resolution 10\n",
      "time for set_epsilon = 4.69685e-05 s\n",
      "-----------\n"
     ]
    },
    {
     "data": {
      "application/vnd.jupyter.widget-view+json": {
       "model_id": "980729cd7d1e4283b2ed77eed0bd248d",
       "version_major": 2,
       "version_minor": 0
      },
      "text/plain": [
       "FloatProgress(value=0.0, description='0% done ', max=2100.0)"
      ]
     },
     "metadata": {},
     "output_type": "display_data"
    },
    {
     "name": "stdout",
     "output_type": "stream",
     "text": [
      "run 0 finished at t = 2100.0 (21000 timesteps)\n",
      "[mmmmmmmmmmmmmmmmmmmm] 20%-----------\n",
      "Initializing structure...\n",
      "time for choose_chunkdivision = 2.5034e-05 s\n",
      "Working in 1D dimensions.\n",
      "Computational cell is 0 x 0 x 16 with resolution 10\n",
      "time for set_epsilon = 4.3869e-05 s\n",
      "-----------\n"
     ]
    },
    {
     "data": {
      "application/vnd.jupyter.widget-view+json": {
       "model_id": "0488724225ef46f8b8ad34a32e827efd",
       "version_major": 2,
       "version_minor": 0
      },
      "text/plain": [
       "FloatProgress(value=0.0, description='0% done ', max=2100.0)"
      ]
     },
     "metadata": {},
     "output_type": "display_data"
    },
    {
     "name": "stdout",
     "output_type": "stream",
     "text": [
      "run 0 finished at t = 2100.0 (21000 timesteps)\n",
      "[mmmmmmmmmmmmmmmmmmmmm] 21%-----------\n",
      "Initializing structure...\n",
      "time for choose_chunkdivision = 2.90871e-05 s\n",
      "Working in 1D dimensions.\n",
      "Computational cell is 0 x 0 x 16 with resolution 10\n",
      "time for set_epsilon = 6.00815e-05 s\n",
      "-----------\n"
     ]
    },
    {
     "data": {
      "application/vnd.jupyter.widget-view+json": {
       "model_id": "291157caa5714892a97f0de2604b001b",
       "version_major": 2,
       "version_minor": 0
      },
      "text/plain": [
       "FloatProgress(value=0.0, description='0% done ', max=2100.0)"
      ]
     },
     "metadata": {},
     "output_type": "display_data"
    },
    {
     "name": "stdout",
     "output_type": "stream",
     "text": [
      "run 0 finished at t = 2100.0 (21000 timesteps)\n",
      "[mmmmmmmmmmmmmmmmmmmmmm] 22%-----------\n",
      "Initializing structure...\n",
      "time for choose_chunkdivision = 2.81334e-05 s\n",
      "Working in 1D dimensions.\n",
      "Computational cell is 0 x 0 x 16 with resolution 10\n",
      "time for set_epsilon = 4.81606e-05 s\n",
      "-----------\n"
     ]
    },
    {
     "data": {
      "application/vnd.jupyter.widget-view+json": {
       "model_id": "78dd62e9a391428b84e9e93be03e876e",
       "version_major": 2,
       "version_minor": 0
      },
      "text/plain": [
       "FloatProgress(value=0.0, description='0% done ', max=2100.0)"
      ]
     },
     "metadata": {},
     "output_type": "display_data"
    },
    {
     "name": "stdout",
     "output_type": "stream",
     "text": [
      "run 0 finished at t = 2100.0 (21000 timesteps)\n",
      "[mmmmmmmmmmmmmmmmmmmmmmm] 23%-----------\n",
      "Initializing structure...\n",
      "time for choose_chunkdivision = 2.69413e-05 s\n",
      "Working in 1D dimensions.\n",
      "Computational cell is 0 x 0 x 16 with resolution 10\n",
      "time for set_epsilon = 4.69685e-05 s\n",
      "-----------\n"
     ]
    },
    {
     "data": {
      "application/vnd.jupyter.widget-view+json": {
       "model_id": "431bd27af44f4998b0b2ae2ffb91e38f",
       "version_major": 2,
       "version_minor": 0
      },
      "text/plain": [
       "FloatProgress(value=0.0, description='0% done ', max=2100.0)"
      ]
     },
     "metadata": {},
     "output_type": "display_data"
    },
    {
     "name": "stdout",
     "output_type": "stream",
     "text": [
      "run 0 finished at t = 2100.0 (21000 timesteps)\n",
      "[mmmmmmmmmmmmmmmmmmmmmmmm] 24%-----------\n",
      "Initializing structure...\n",
      "time for choose_chunkdivision = 2.38419e-05 s\n",
      "Working in 1D dimensions.\n",
      "Computational cell is 0 x 0 x 16 with resolution 10\n",
      "time for set_epsilon = 4.60148e-05 s\n",
      "-----------\n"
     ]
    },
    {
     "data": {
      "application/vnd.jupyter.widget-view+json": {
       "model_id": "2bd6e56998104a2cba0aa60066a2c3fe",
       "version_major": 2,
       "version_minor": 0
      },
      "text/plain": [
       "FloatProgress(value=0.0, description='0% done ', max=2100.0)"
      ]
     },
     "metadata": {},
     "output_type": "display_data"
    },
    {
     "name": "stdout",
     "output_type": "stream",
     "text": [
      "run 0 finished at t = 2100.0 (21000 timesteps)\n",
      "[mmmmmmmmmmmmmmmmmmmmmmmmm] 25%-----------\n",
      "Initializing structure...\n",
      "time for choose_chunkdivision = 2.28882e-05 s\n",
      "Working in 1D dimensions.\n",
      "Computational cell is 0 x 0 x 16 with resolution 10\n",
      "time for set_epsilon = 4.41074e-05 s\n",
      "-----------\n"
     ]
    },
    {
     "data": {
      "application/vnd.jupyter.widget-view+json": {
       "model_id": "a2664b6394404a08b5e6460c3cd19e2f",
       "version_major": 2,
       "version_minor": 0
      },
      "text/plain": [
       "FloatProgress(value=0.0, description='0% done ', max=2100.0)"
      ]
     },
     "metadata": {},
     "output_type": "display_data"
    },
    {
     "name": "stdout",
     "output_type": "stream",
     "text": [
      "run 0 finished at t = 2100.0 (21000 timesteps)\n",
      "[mmmmmmmmmmmmmmmmmmmmmmmmmm] 26%-----------\n",
      "Initializing structure...\n",
      "time for choose_chunkdivision = 2.31266e-05 s\n",
      "Working in 1D dimensions.\n",
      "Computational cell is 0 x 0 x 16 with resolution 10\n",
      "time for set_epsilon = 5.4121e-05 s\n",
      "-----------\n"
     ]
    },
    {
     "data": {
      "application/vnd.jupyter.widget-view+json": {
       "model_id": "9946148f3567422bb155d4f5188ea1e3",
       "version_major": 2,
       "version_minor": 0
      },
      "text/plain": [
       "FloatProgress(value=0.0, description='0% done ', max=2100.0)"
      ]
     },
     "metadata": {},
     "output_type": "display_data"
    },
    {
     "name": "stdout",
     "output_type": "stream",
     "text": [
      "run 0 finished at t = 2100.0 (21000 timesteps)\n",
      "[mmmmmmmmmmmmmmmmmmmmmmmmmmm] 27%-----------\n",
      "Initializing structure...\n",
      "time for choose_chunkdivision = 2.5034e-05 s\n",
      "Working in 1D dimensions.\n",
      "Computational cell is 0 x 0 x 16 with resolution 10\n",
      "time for set_epsilon = 4.72069e-05 s\n",
      "-----------\n"
     ]
    },
    {
     "data": {
      "application/vnd.jupyter.widget-view+json": {
       "model_id": "04b9e09dc94640bd908c16a579f25e8c",
       "version_major": 2,
       "version_minor": 0
      },
      "text/plain": [
       "FloatProgress(value=0.0, description='0% done ', max=2100.0)"
      ]
     },
     "metadata": {},
     "output_type": "display_data"
    },
    {
     "name": "stdout",
     "output_type": "stream",
     "text": [
      "run 0 finished at t = 2100.0 (21000 timesteps)\n",
      "[mmmmmmmmmmmmmmmmmmmmmmmmmmmm] 28%-----------\n",
      "Initializing structure...\n",
      "time for choose_chunkdivision = 2.59876e-05 s\n",
      "Working in 1D dimensions.\n",
      "Computational cell is 0 x 0 x 16 with resolution 10\n",
      "time for set_epsilon = 4.50611e-05 s\n",
      "-----------\n"
     ]
    },
    {
     "data": {
      "application/vnd.jupyter.widget-view+json": {
       "model_id": "3017ccc26f284a2c940d4bb8727f25b8",
       "version_major": 2,
       "version_minor": 0
      },
      "text/plain": [
       "FloatProgress(value=0.0, description='0% done ', max=2100.0)"
      ]
     },
     "metadata": {},
     "output_type": "display_data"
    },
    {
     "name": "stdout",
     "output_type": "stream",
     "text": [
      "run 0 finished at t = 2100.0 (21000 timesteps)\n",
      "[mmmmmmmmmmmmmmmmmmmmmmmmmmmm] 28%-----------\n",
      "Initializing structure...\n",
      "time for choose_chunkdivision = 2.69413e-05 s\n",
      "Working in 1D dimensions.\n",
      "Computational cell is 0 x 0 x 16 with resolution 10\n",
      "time for set_epsilon = 0.000108004 s\n",
      "-----------\n"
     ]
    },
    {
     "data": {
      "application/vnd.jupyter.widget-view+json": {
       "model_id": "5b06e9f1f6d84edeb2505284a65aa482",
       "version_major": 2,
       "version_minor": 0
      },
      "text/plain": [
       "FloatProgress(value=0.0, description='0% done ', max=2100.0)"
      ]
     },
     "metadata": {},
     "output_type": "display_data"
    },
    {
     "name": "stdout",
     "output_type": "stream",
     "text": [
      "run 0 finished at t = 2100.0 (21000 timesteps)\n",
      "[mmmmmmmmmmmmmmmmmmmmmmmmmmmmmm] 30%-----------\n",
      "Initializing structure...\n",
      "time for choose_chunkdivision = 2.71797e-05 s\n",
      "Working in 1D dimensions.\n",
      "Computational cell is 0 x 0 x 16 with resolution 10\n",
      "time for set_epsilon = 4.50611e-05 s\n",
      "-----------\n"
     ]
    },
    {
     "data": {
      "application/vnd.jupyter.widget-view+json": {
       "model_id": "5b7680955e5f4d1d9b9157edd84aa8fc",
       "version_major": 2,
       "version_minor": 0
      },
      "text/plain": [
       "FloatProgress(value=0.0, description='0% done ', max=2100.0)"
      ]
     },
     "metadata": {},
     "output_type": "display_data"
    },
    {
     "name": "stdout",
     "output_type": "stream",
     "text": [
      "run 0 finished at t = 2100.0 (21000 timesteps)\n",
      "[mmmmmmmmmmmmmmmmmmmmmmmmmmmmmmm] 31%-----------\n",
      "Initializing structure...\n",
      "time for choose_chunkdivision = 4.79221e-05 s\n",
      "Working in 1D dimensions.\n",
      "Computational cell is 0 x 0 x 16 with resolution 10\n",
      "time for set_epsilon = 5.10216e-05 s\n",
      "-----------\n"
     ]
    },
    {
     "data": {
      "application/vnd.jupyter.widget-view+json": {
       "model_id": "de480188caf843828bf6bfdd86198bde",
       "version_major": 2,
       "version_minor": 0
      },
      "text/plain": [
       "FloatProgress(value=0.0, description='0% done ', max=2100.0)"
      ]
     },
     "metadata": {},
     "output_type": "display_data"
    },
    {
     "name": "stdout",
     "output_type": "stream",
     "text": [
      "run 0 finished at t = 2100.0 (21000 timesteps)\n",
      "[mmmmmmmmmmmmmmmmmmmmmmmmmmmmmmmm] 32%-----------\n",
      "Initializing structure...\n",
      "time for choose_chunkdivision = 2.59876e-05 s\n",
      "Working in 1D dimensions.\n",
      "Computational cell is 0 x 0 x 16 with resolution 10\n",
      "time for set_epsilon = 4.41074e-05 s\n",
      "-----------\n"
     ]
    },
    {
     "data": {
      "application/vnd.jupyter.widget-view+json": {
       "model_id": "ff7f7e084a164e73bb75af8e1e799972",
       "version_major": 2,
       "version_minor": 0
      },
      "text/plain": [
       "FloatProgress(value=0.0, description='0% done ', max=2100.0)"
      ]
     },
     "metadata": {},
     "output_type": "display_data"
    },
    {
     "name": "stdout",
     "output_type": "stream",
     "text": [
      "run 0 finished at t = 2100.0 (21000 timesteps)\n",
      "[mmmmmmmmmmmmmmmmmmmmmmmmmmmmmmmmm] 33%-----------\n",
      "Initializing structure...\n",
      "time for choose_chunkdivision = 2.31266e-05 s\n",
      "Working in 1D dimensions.\n",
      "Computational cell is 0 x 0 x 16 with resolution 10\n",
      "time for set_epsilon = 5.29289e-05 s\n",
      "-----------\n"
     ]
    },
    {
     "data": {
      "application/vnd.jupyter.widget-view+json": {
       "model_id": "dd73250d64aa4799a29fa6a5501b531e",
       "version_major": 2,
       "version_minor": 0
      },
      "text/plain": [
       "FloatProgress(value=0.0, description='0% done ', max=2100.0)"
      ]
     },
     "metadata": {},
     "output_type": "display_data"
    },
    {
     "name": "stdout",
     "output_type": "stream",
     "text": [
      "run 0 finished at t = 2100.0 (21000 timesteps)\n",
      "[mmmmmmmmmmmmmmmmmmmmmmmmmmmmmmmmmm] 34%-----------\n",
      "Initializing structure...\n",
      "time for choose_chunkdivision = 2.69413e-05 s\n",
      "Working in 1D dimensions.\n",
      "Computational cell is 0 x 0 x 16 with resolution 10\n",
      "time for set_epsilon = 4.69685e-05 s\n",
      "-----------\n"
     ]
    },
    {
     "data": {
      "application/vnd.jupyter.widget-view+json": {
       "model_id": "d1b93333bcad4d0082abb3529f179d7f",
       "version_major": 2,
       "version_minor": 0
      },
      "text/plain": [
       "FloatProgress(value=0.0, description='0% done ', max=2100.0)"
      ]
     },
     "metadata": {},
     "output_type": "display_data"
    },
    {
     "name": "stdout",
     "output_type": "stream",
     "text": [
      "run 0 finished at t = 2100.0 (21000 timesteps)\n",
      "[mmmmmmmmmmmmmmmmmmmmmmmmmmmmmmmmmmm] 35%-----------\n",
      "Initializing structure...\n",
      "time for choose_chunkdivision = 2.69413e-05 s\n",
      "Working in 1D dimensions.\n",
      "Computational cell is 0 x 0 x 16 with resolution 10\n",
      "time for set_epsilon = 4.50611e-05 s\n",
      "-----------\n"
     ]
    },
    {
     "data": {
      "application/vnd.jupyter.widget-view+json": {
       "model_id": "cfd1ab1484cd478da448ad9f7c0207a2",
       "version_major": 2,
       "version_minor": 0
      },
      "text/plain": [
       "FloatProgress(value=0.0, description='0% done ', max=2100.0)"
      ]
     },
     "metadata": {},
     "output_type": "display_data"
    },
    {
     "name": "stdout",
     "output_type": "stream",
     "text": [
      "run 0 finished at t = 2100.0 (21000 timesteps)\n",
      "[mmmmmmmmmmmmmmmmmmmmmmmmmmmmmmmmmmmm] 36%-----------\n",
      "Initializing structure...\n",
      "time for choose_chunkdivision = 3.00407e-05 s\n",
      "Working in 1D dimensions.\n",
      "Computational cell is 0 x 0 x 16 with resolution 10\n",
      "time for set_epsilon = 8.4877e-05 s\n",
      "-----------\n"
     ]
    },
    {
     "data": {
      "application/vnd.jupyter.widget-view+json": {
       "model_id": "48917329c869458f8714fa0a76f6907c",
       "version_major": 2,
       "version_minor": 0
      },
      "text/plain": [
       "FloatProgress(value=0.0, description='0% done ', max=2100.0)"
      ]
     },
     "metadata": {},
     "output_type": "display_data"
    },
    {
     "name": "stdout",
     "output_type": "stream",
     "text": [
      "run 0 finished at t = 2100.0 (21000 timesteps)\n",
      "[mmmmmmmmmmmmmmmmmmmmmmmmmmmmmmmmmmmmm] 37%-----------\n",
      "Initializing structure...\n",
      "time for choose_chunkdivision = 2.5034e-05 s\n",
      "Working in 1D dimensions.\n",
      "Computational cell is 0 x 0 x 16 with resolution 10\n",
      "time for set_epsilon = 4.69685e-05 s\n",
      "-----------\n"
     ]
    },
    {
     "data": {
      "application/vnd.jupyter.widget-view+json": {
       "model_id": "e195232001c14efe994f1d768d1869f4",
       "version_major": 2,
       "version_minor": 0
      },
      "text/plain": [
       "FloatProgress(value=0.0, description='0% done ', max=2100.0)"
      ]
     },
     "metadata": {},
     "output_type": "display_data"
    },
    {
     "name": "stdout",
     "output_type": "stream",
     "text": [
      "run 0 finished at t = 2100.0 (21000 timesteps)\n",
      "[mmmmmmmmmmmmmmmmmmmmmmmmmmmmmmmmmmmmmm] 38%-----------\n",
      "Initializing structure...\n",
      "time for choose_chunkdivision = 2.28882e-05 s\n",
      "Working in 1D dimensions.\n",
      "Computational cell is 0 x 0 x 16 with resolution 10\n",
      "time for set_epsilon = 4.60148e-05 s\n",
      "-----------\n"
     ]
    },
    {
     "data": {
      "application/vnd.jupyter.widget-view+json": {
       "model_id": "972543ed6c434147b8487a4b18db2972",
       "version_major": 2,
       "version_minor": 0
      },
      "text/plain": [
       "FloatProgress(value=0.0, description='0% done ', max=2100.0)"
      ]
     },
     "metadata": {},
     "output_type": "display_data"
    },
    {
     "name": "stdout",
     "output_type": "stream",
     "text": [
      "run 0 finished at t = 2100.0 (21000 timesteps)\n",
      "[mmmmmmmmmmmmmmmmmmmmmmmmmmmmmmmmmmmmmmm] 39%-----------\n",
      "Initializing structure...\n",
      "time for choose_chunkdivision = 2.69413e-05 s\n",
      "Working in 1D dimensions.\n",
      "Computational cell is 0 x 0 x 16 with resolution 10\n",
      "time for set_epsilon = 4.69685e-05 s\n",
      "-----------\n"
     ]
    },
    {
     "data": {
      "application/vnd.jupyter.widget-view+json": {
       "model_id": "2273af4fcd174cd3a2878e7ddd47b093",
       "version_major": 2,
       "version_minor": 0
      },
      "text/plain": [
       "FloatProgress(value=0.0, description='0% done ', max=2100.0)"
      ]
     },
     "metadata": {},
     "output_type": "display_data"
    },
    {
     "name": "stdout",
     "output_type": "stream",
     "text": [
      "run 0 finished at t = 2100.0 (21000 timesteps)\n",
      "[mmmmmmmmmmmmmmmmmmmmmmmmmmmmmmmmmmmmmmmm] 40%-----------\n",
      "Initializing structure...\n",
      "time for choose_chunkdivision = 2.7895e-05 s\n",
      "Working in 1D dimensions.\n",
      "Computational cell is 0 x 0 x 16 with resolution 10\n",
      "time for set_epsilon = 4.79221e-05 s\n",
      "-----------\n"
     ]
    },
    {
     "data": {
      "application/vnd.jupyter.widget-view+json": {
       "model_id": "10eaa60cf50c472d9cd9f1ffd132f505",
       "version_major": 2,
       "version_minor": 0
      },
      "text/plain": [
       "FloatProgress(value=0.0, description='0% done ', max=2100.0)"
      ]
     },
     "metadata": {},
     "output_type": "display_data"
    },
    {
     "name": "stdout",
     "output_type": "stream",
     "text": [
      "run 0 finished at t = 2100.0 (21000 timesteps)\n",
      "[mmmmmmmmmmmmmmmmmmmmmmmmmmmmmmmmmmmmmmmmm] 41%-----------\n",
      "Initializing structure...\n",
      "time for choose_chunkdivision = 2.59876e-05 s\n",
      "Working in 1D dimensions.\n",
      "Computational cell is 0 x 0 x 16 with resolution 10\n",
      "time for set_epsilon = 4.69685e-05 s\n",
      "-----------\n"
     ]
    },
    {
     "data": {
      "application/vnd.jupyter.widget-view+json": {
       "model_id": "b87cb11fccf14e9995f755b75f3e2eaf",
       "version_major": 2,
       "version_minor": 0
      },
      "text/plain": [
       "FloatProgress(value=0.0, description='0% done ', max=2100.0)"
      ]
     },
     "metadata": {},
     "output_type": "display_data"
    },
    {
     "name": "stdout",
     "output_type": "stream",
     "text": [
      "run 0 finished at t = 2100.0 (21000 timesteps)\n",
      "[mmmmmmmmmmmmmmmmmmmmmmmmmmmmmmmmmmmmmmmmmm] 42%-----------\n",
      "Initializing structure...\n",
      "time for choose_chunkdivision = 5.00679e-05 s\n",
      "Working in 1D dimensions.\n",
      "Computational cell is 0 x 0 x 16 with resolution 10\n",
      "time for set_epsilon = 4.60148e-05 s\n",
      "-----------\n"
     ]
    },
    {
     "data": {
      "application/vnd.jupyter.widget-view+json": {
       "model_id": "996d4112bcfd430f871085ed0fad1c72",
       "version_major": 2,
       "version_minor": 0
      },
      "text/plain": [
       "FloatProgress(value=0.0, description='0% done ', max=2100.0)"
      ]
     },
     "metadata": {},
     "output_type": "display_data"
    },
    {
     "name": "stdout",
     "output_type": "stream",
     "text": [
      "run 0 finished at t = 2100.0 (21000 timesteps)\n",
      "[mmmmmmmmmmmmmmmmmmmmmmmmmmmmmmmmmmmmmmmmmmm] 43%-----------\n",
      "Initializing structure...\n",
      "time for choose_chunkdivision = 2.69413e-05 s\n",
      "Working in 1D dimensions.\n",
      "Computational cell is 0 x 0 x 16 with resolution 10\n",
      "time for set_epsilon = 5.6982e-05 s\n",
      "-----------\n"
     ]
    },
    {
     "data": {
      "application/vnd.jupyter.widget-view+json": {
       "model_id": "dbf4a4f2872d462ea835d5ad6cdce87f",
       "version_major": 2,
       "version_minor": 0
      },
      "text/plain": [
       "FloatProgress(value=0.0, description='0% done ', max=2100.0)"
      ]
     },
     "metadata": {},
     "output_type": "display_data"
    },
    {
     "name": "stdout",
     "output_type": "stream",
     "text": [
      "run 0 finished at t = 2100.0 (21000 timesteps)\n",
      "[mmmmmmmmmmmmmmmmmmmmmmmmmmmmmmmmmmmmmmmmmmmm] 44%-----------\n",
      "Initializing structure...\n",
      "time for choose_chunkdivision = 2.38419e-05 s\n",
      "Working in 1D dimensions.\n",
      "Computational cell is 0 x 0 x 16 with resolution 10\n",
      "time for set_epsilon = 4.29153e-05 s\n",
      "-----------\n"
     ]
    },
    {
     "data": {
      "application/vnd.jupyter.widget-view+json": {
       "model_id": "add50ad7cc344a03b8c1c6e8a9fd7cc7",
       "version_major": 2,
       "version_minor": 0
      },
      "text/plain": [
       "FloatProgress(value=0.0, description='0% done ', max=2100.0)"
      ]
     },
     "metadata": {},
     "output_type": "display_data"
    },
    {
     "name": "stdout",
     "output_type": "stream",
     "text": [
      "run 0 finished at t = 2100.0 (21000 timesteps)\n",
      "[mmmmmmmmmmmmmmmmmmmmmmmmmmmmmmmmmmmmmmmmmmmmm] 45%-----------\n",
      "Initializing structure...\n",
      "time for choose_chunkdivision = 2.5034e-05 s\n",
      "Working in 1D dimensions.\n",
      "Computational cell is 0 x 0 x 16 with resolution 10\n",
      "time for set_epsilon = 4.72069e-05 s\n",
      "-----------\n"
     ]
    },
    {
     "data": {
      "application/vnd.jupyter.widget-view+json": {
       "model_id": "17d371578166450ab1caa72e42320a19",
       "version_major": 2,
       "version_minor": 0
      },
      "text/plain": [
       "FloatProgress(value=0.0, description='0% done ', max=2100.0)"
      ]
     },
     "metadata": {},
     "output_type": "display_data"
    },
    {
     "name": "stdout",
     "output_type": "stream",
     "text": [
      "run 0 finished at t = 2100.0 (21000 timesteps)\n",
      "[mmmmmmmmmmmmmmmmmmmmmmmmmmmmmmmmmmmmmmmmmmmmmm] 46%-----------\n",
      "Initializing structure...\n",
      "time for choose_chunkdivision = 2.6226e-05 s\n",
      "Working in 1D dimensions.\n",
      "Computational cell is 0 x 0 x 16 with resolution 10\n",
      "time for set_epsilon = 4.60148e-05 s\n",
      "-----------\n"
     ]
    },
    {
     "data": {
      "application/vnd.jupyter.widget-view+json": {
       "model_id": "ef18f06e09c141d6a6d6a5480c98651a",
       "version_major": 2,
       "version_minor": 0
      },
      "text/plain": [
       "FloatProgress(value=0.0, description='0% done ', max=2100.0)"
      ]
     },
     "metadata": {},
     "output_type": "display_data"
    },
    {
     "name": "stdout",
     "output_type": "stream",
     "text": [
      "run 0 finished at t = 2100.0 (21000 timesteps)\n",
      "[mmmmmmmmmmmmmmmmmmmmmmmmmmmmmmmmmmmmmmmmmmmmmmm] 47%-----------\n",
      "Initializing structure...\n",
      "time for choose_chunkdivision = 2.6226e-05 s\n",
      "Working in 1D dimensions.\n",
      "Computational cell is 0 x 0 x 16 with resolution 10\n",
      "time for set_epsilon = 6.69956e-05 s\n",
      "-----------\n"
     ]
    },
    {
     "data": {
      "application/vnd.jupyter.widget-view+json": {
       "model_id": "be3332b0efc04de7b24a2da21c2d26f9",
       "version_major": 2,
       "version_minor": 0
      },
      "text/plain": [
       "FloatProgress(value=0.0, description='0% done ', max=2100.0)"
      ]
     },
     "metadata": {},
     "output_type": "display_data"
    },
    {
     "name": "stdout",
     "output_type": "stream",
     "text": [
      "run 0 finished at t = 2100.0 (21000 timesteps)\n",
      "[mmmmmmmmmmmmmmmmmmmmmmmmmmmmmmmmmmmmmmmmmmmmmmmm] 48%-----------\n",
      "Initializing structure...\n",
      "time for choose_chunkdivision = 2.59876e-05 s\n",
      "Working in 1D dimensions.\n",
      "Computational cell is 0 x 0 x 16 with resolution 10\n",
      "time for set_epsilon = 4.50611e-05 s\n",
      "-----------\n"
     ]
    },
    {
     "data": {
      "application/vnd.jupyter.widget-view+json": {
       "model_id": "af0d02d42f664399ba56db967054e3bd",
       "version_major": 2,
       "version_minor": 0
      },
      "text/plain": [
       "FloatProgress(value=0.0, description='0% done ', max=2100.0)"
      ]
     },
     "metadata": {},
     "output_type": "display_data"
    },
    {
     "name": "stdout",
     "output_type": "stream",
     "text": [
      "run 0 finished at t = 2100.0 (21000 timesteps)\n",
      "[mmmmmmmmmmmmmmmmmmmmmmmmmmmmmmmmmmmmmmmmmmmmmmmmm] 49%-----------\n",
      "Initializing structure...\n",
      "time for choose_chunkdivision = 2.59876e-05 s\n",
      "Working in 1D dimensions.\n",
      "Computational cell is 0 x 0 x 16 with resolution 10\n",
      "time for set_epsilon = 4.48227e-05 s\n",
      "-----------\n"
     ]
    },
    {
     "data": {
      "application/vnd.jupyter.widget-view+json": {
       "model_id": "8981d37467ce41b098dd09cb531b7c06",
       "version_major": 2,
       "version_minor": 0
      },
      "text/plain": [
       "FloatProgress(value=0.0, description='0% done ', max=2100.0)"
      ]
     },
     "metadata": {},
     "output_type": "display_data"
    },
    {
     "name": "stdout",
     "output_type": "stream",
     "text": [
      "run 0 finished at t = 2100.0 (21000 timesteps)\n",
      "[mmmmmmmmmmmmmmmmmmmmmmmmmmmmmmmmmmmmmmmmmmmmmmmmmm] 50%-----------\n",
      "Initializing structure...\n",
      "time for choose_chunkdivision = 2.5034e-05 s\n",
      "Working in 1D dimensions.\n",
      "Computational cell is 0 x 0 x 16 with resolution 10\n",
      "time for set_epsilon = 4.60148e-05 s\n",
      "-----------\n"
     ]
    },
    {
     "data": {
      "application/vnd.jupyter.widget-view+json": {
       "model_id": "f78750e7531147eabb1d3402e8f0a6e7",
       "version_major": 2,
       "version_minor": 0
      },
      "text/plain": [
       "FloatProgress(value=0.0, description='0% done ', max=2100.0)"
      ]
     },
     "metadata": {},
     "output_type": "display_data"
    },
    {
     "name": "stdout",
     "output_type": "stream",
     "text": [
      "run 0 finished at t = 2100.0 (21000 timesteps)\n",
      "[mmmmmmmmmmmmmmmmmmmmmmmmmmmmmmmmmmmmmmmmmmmmmmmmmmm] 51%-----------\n",
      "Initializing structure...\n",
      "time for choose_chunkdivision = 2.69413e-05 s\n",
      "Working in 1D dimensions.\n",
      "Computational cell is 0 x 0 x 16 with resolution 10\n",
      "time for set_epsilon = 4.31538e-05 s\n",
      "-----------\n"
     ]
    },
    {
     "data": {
      "application/vnd.jupyter.widget-view+json": {
       "model_id": "af9a63b18eaf4903a2747196873d9d79",
       "version_major": 2,
       "version_minor": 0
      },
      "text/plain": [
       "FloatProgress(value=0.0, description='0% done ', max=2100.0)"
      ]
     },
     "metadata": {},
     "output_type": "display_data"
    },
    {
     "name": "stdout",
     "output_type": "stream",
     "text": [
      "run 0 finished at t = 2100.0 (21000 timesteps)\n",
      "[mmmmmmmmmmmmmmmmmmmmmmmmmmmmmmmmmmmmmmmmmmmmmmmmmmmm] 52%-----------\n",
      "Initializing structure...\n",
      "time for choose_chunkdivision = 2.59876e-05 s\n",
      "Working in 1D dimensions.\n",
      "Computational cell is 0 x 0 x 16 with resolution 10\n",
      "time for set_epsilon = 4.60148e-05 s\n",
      "-----------\n"
     ]
    },
    {
     "data": {
      "application/vnd.jupyter.widget-view+json": {
       "model_id": "3ae0741528ec4b75ace92b4c7469d51e",
       "version_major": 2,
       "version_minor": 0
      },
      "text/plain": [
       "FloatProgress(value=0.0, description='0% done ', max=2100.0)"
      ]
     },
     "metadata": {},
     "output_type": "display_data"
    },
    {
     "name": "stdout",
     "output_type": "stream",
     "text": [
      "run 0 finished at t = 2100.0 (21000 timesteps)\n",
      "[mmmmmmmmmmmmmmmmmmmmmmmmmmmmmmmmmmmmmmmmmmmmmmmmmmmmm] 53%-----------\n",
      "Initializing structure...\n",
      "time for choose_chunkdivision = 2.59876e-05 s\n",
      "Working in 1D dimensions.\n",
      "Computational cell is 0 x 0 x 16 with resolution 10\n",
      "time for set_epsilon = 4.29153e-05 s\n",
      "-----------\n"
     ]
    },
    {
     "data": {
      "application/vnd.jupyter.widget-view+json": {
       "model_id": "de2f3cc4d0ac4960b7b9aebe2c2f3d3c",
       "version_major": 2,
       "version_minor": 0
      },
      "text/plain": [
       "FloatProgress(value=0.0, description='0% done ', max=2100.0)"
      ]
     },
     "metadata": {},
     "output_type": "display_data"
    },
    {
     "name": "stdout",
     "output_type": "stream",
     "text": [
      "run 0 finished at t = 2100.0 (21000 timesteps)\n",
      "[mmmmmmmmmmmmmmmmmmmmmmmmmmmmmmmmmmmmmmmmmmmmmmmmmmmmmm] 54%-----------\n",
      "Initializing structure...\n",
      "time for choose_chunkdivision = 2.5034e-05 s\n",
      "Working in 1D dimensions.\n",
      "Computational cell is 0 x 0 x 16 with resolution 10\n",
      "time for set_epsilon = 4.50611e-05 s\n",
      "-----------\n"
     ]
    },
    {
     "data": {
      "application/vnd.jupyter.widget-view+json": {
       "model_id": "04a0c14004b0405eb560dfafcffcf050",
       "version_major": 2,
       "version_minor": 0
      },
      "text/plain": [
       "FloatProgress(value=0.0, description='0% done ', max=2100.0)"
      ]
     },
     "metadata": {},
     "output_type": "display_data"
    },
    {
     "name": "stdout",
     "output_type": "stream",
     "text": [
      "run 0 finished at t = 2100.0 (21000 timesteps)\n",
      "[mmmmmmmmmmmmmmmmmmmmmmmmmmmmmmmmmmmmmmmmmmmmmmmmmmmmmmm] 55%-----------\n",
      "Initializing structure...\n",
      "time for choose_chunkdivision = 2.5034e-05 s\n",
      "Working in 1D dimensions.\n",
      "Computational cell is 0 x 0 x 16 with resolution 10\n",
      "time for set_epsilon = 4.50611e-05 s\n",
      "-----------\n"
     ]
    },
    {
     "data": {
      "application/vnd.jupyter.widget-view+json": {
       "model_id": "03d6ddeb32ae4cab8488bcc91ac64b0f",
       "version_major": 2,
       "version_minor": 0
      },
      "text/plain": [
       "FloatProgress(value=0.0, description='0% done ', max=2100.0)"
      ]
     },
     "metadata": {},
     "output_type": "display_data"
    },
    {
     "name": "stdout",
     "output_type": "stream",
     "text": [
      "run 0 finished at t = 2100.0 (21000 timesteps)\n",
      "[mmmmmmmmmmmmmmmmmmmmmmmmmmmmmmmmmmmmmmmmmmmmmmmmmmmmmmmm] 56%-----------\n",
      "Initializing structure...\n",
      "time for choose_chunkdivision = 2.69413e-05 s\n",
      "Working in 1D dimensions.\n",
      "Computational cell is 0 x 0 x 16 with resolution 10\n",
      "time for set_epsilon = 4.50611e-05 s\n",
      "-----------\n"
     ]
    },
    {
     "data": {
      "application/vnd.jupyter.widget-view+json": {
       "model_id": "121165119d34457fafa304f5fd533629",
       "version_major": 2,
       "version_minor": 0
      },
      "text/plain": [
       "FloatProgress(value=0.0, description='0% done ', max=2100.0)"
      ]
     },
     "metadata": {},
     "output_type": "display_data"
    },
    {
     "name": "stdout",
     "output_type": "stream",
     "text": [
      "run 0 finished at t = 2100.0 (21000 timesteps)\n",
      "[mmmmmmmmmmmmmmmmmmmmmmmmmmmmmmmmmmmmmmmmmmmmmmmmmmmmmmmm] 56%-----------\n",
      "Initializing structure...\n",
      "time for choose_chunkdivision = 4.1008e-05 s\n",
      "Working in 1D dimensions.\n",
      "Computational cell is 0 x 0 x 16 with resolution 10\n",
      "time for set_epsilon = 4.50611e-05 s\n",
      "-----------\n"
     ]
    },
    {
     "data": {
      "application/vnd.jupyter.widget-view+json": {
       "model_id": "9ec3994d52814241a3f6faf26520abe7",
       "version_major": 2,
       "version_minor": 0
      },
      "text/plain": [
       "FloatProgress(value=0.0, description='0% done ', max=2100.0)"
      ]
     },
     "metadata": {},
     "output_type": "display_data"
    },
    {
     "name": "stdout",
     "output_type": "stream",
     "text": [
      "run 0 finished at t = 2100.0 (21000 timesteps)\n",
      "[mmmmmmmmmmmmmmmmmmmmmmmmmmmmmmmmmmmmmmmmmmmmmmmmmmmmmmmmm] 57%-----------\n",
      "Initializing structure...\n",
      "time for choose_chunkdivision = 2.90871e-05 s\n",
      "Working in 1D dimensions.\n",
      "Computational cell is 0 x 0 x 16 with resolution 10\n",
      "time for set_epsilon = 5.00679e-05 s\n",
      "-----------\n"
     ]
    },
    {
     "data": {
      "application/vnd.jupyter.widget-view+json": {
       "model_id": "e4a8a49d819c4629bfe077977c537862",
       "version_major": 2,
       "version_minor": 0
      },
      "text/plain": [
       "FloatProgress(value=0.0, description='0% done ', max=2100.0)"
      ]
     },
     "metadata": {},
     "output_type": "display_data"
    },
    {
     "name": "stdout",
     "output_type": "stream",
     "text": [
      "run 0 finished at t = 2100.0 (21000 timesteps)\n",
      "[mmmmmmmmmmmmmmmmmmmmmmmmmmmmmmmmmmmmmmmmmmmmmmmmmmmmmmmmmmm] 59%-----------\n",
      "Initializing structure...\n",
      "time for choose_chunkdivision = 2.59876e-05 s\n",
      "Working in 1D dimensions.\n",
      "Computational cell is 0 x 0 x 16 with resolution 10\n",
      "time for set_epsilon = 4.81606e-05 s\n",
      "-----------\n"
     ]
    },
    {
     "data": {
      "application/vnd.jupyter.widget-view+json": {
       "model_id": "b896d3bd1ee644bf95fb7417630e397a",
       "version_major": 2,
       "version_minor": 0
      },
      "text/plain": [
       "FloatProgress(value=0.0, description='0% done ', max=2100.0)"
      ]
     },
     "metadata": {},
     "output_type": "display_data"
    },
    {
     "name": "stdout",
     "output_type": "stream",
     "text": [
      "run 0 finished at t = 2100.0 (21000 timesteps)\n",
      "[mmmmmmmmmmmmmmmmmmmmmmmmmmmmmmmmmmmmmmmmmmmmmmmmmmmmmmmmmmmm] 60%-----------\n",
      "Initializing structure...\n",
      "time for choose_chunkdivision = 5.10216e-05 s\n",
      "Working in 1D dimensions.\n",
      "Computational cell is 0 x 0 x 16 with resolution 10\n",
      "time for set_epsilon = 4.81606e-05 s\n",
      "-----------\n"
     ]
    },
    {
     "data": {
      "application/vnd.jupyter.widget-view+json": {
       "model_id": "e352bb7b553e44d08d68ac1135593c2a",
       "version_major": 2,
       "version_minor": 0
      },
      "text/plain": [
       "FloatProgress(value=0.0, description='0% done ', max=2100.0)"
      ]
     },
     "metadata": {},
     "output_type": "display_data"
    },
    {
     "name": "stdout",
     "output_type": "stream",
     "text": [
      "run 0 finished at t = 2100.0 (21000 timesteps)\n",
      "[mmmmmmmmmmmmmmmmmmmmmmmmmmmmmmmmmmmmmmmmmmmmmmmmmmmmmmmmmmmmm] 61%-----------\n",
      "Initializing structure...\n",
      "time for choose_chunkdivision = 2.59876e-05 s\n",
      "Working in 1D dimensions.\n",
      "Computational cell is 0 x 0 x 16 with resolution 10\n",
      "time for set_epsilon = 5.79357e-05 s\n",
      "-----------\n"
     ]
    },
    {
     "data": {
      "application/vnd.jupyter.widget-view+json": {
       "model_id": "5fdbd562876f4d61a18f9309aa6d6ea4",
       "version_major": 2,
       "version_minor": 0
      },
      "text/plain": [
       "FloatProgress(value=0.0, description='0% done ', max=2100.0)"
      ]
     },
     "metadata": {},
     "output_type": "display_data"
    },
    {
     "name": "stdout",
     "output_type": "stream",
     "text": [
      "run 0 finished at t = 2100.0 (21000 timesteps)\n",
      "[mmmmmmmmmmmmmmmmmmmmmmmmmmmmmmmmmmmmmmmmmmmmmmmmmmmmmmmmmmmmmm] 62%-----------\n",
      "Initializing structure...\n",
      "time for choose_chunkdivision = 2.7895e-05 s\n",
      "Working in 1D dimensions.\n",
      "Computational cell is 0 x 0 x 16 with resolution 10\n",
      "time for set_epsilon = 5.10216e-05 s\n",
      "-----------\n"
     ]
    },
    {
     "data": {
      "application/vnd.jupyter.widget-view+json": {
       "model_id": "83633073037d4db4bb828a790d2f450c",
       "version_major": 2,
       "version_minor": 0
      },
      "text/plain": [
       "FloatProgress(value=0.0, description='0% done ', max=2100.0)"
      ]
     },
     "metadata": {},
     "output_type": "display_data"
    },
    {
     "name": "stdout",
     "output_type": "stream",
     "text": [
      "run 0 finished at t = 2100.0 (21000 timesteps)\n",
      "[mmmmmmmmmmmmmmmmmmmmmmmmmmmmmmmmmmmmmmmmmmmmmmmmmmmmmmmmmmmmmmm] 63%-----------\n",
      "Initializing structure...\n",
      "time for choose_chunkdivision = 2.59876e-05 s\n",
      "Working in 1D dimensions.\n",
      "Computational cell is 0 x 0 x 16 with resolution 10\n",
      "time for set_epsilon = 4.60148e-05 s\n",
      "-----------\n"
     ]
    },
    {
     "data": {
      "application/vnd.jupyter.widget-view+json": {
       "model_id": "cca4d1d5341e44e182715acd38a0fcef",
       "version_major": 2,
       "version_minor": 0
      },
      "text/plain": [
       "FloatProgress(value=0.0, description='0% done ', max=2100.0)"
      ]
     },
     "metadata": {},
     "output_type": "display_data"
    },
    {
     "name": "stdout",
     "output_type": "stream",
     "text": [
      "run 0 finished at t = 2100.0 (21000 timesteps)\n",
      "[mmmmmmmmmmmmmmmmmmmmmmmmmmmmmmmmmmmmmmmmmmmmmmmmmmmmmmmmmmmmmmmm] 64%-----------\n",
      "Initializing structure...\n",
      "time for choose_chunkdivision = 2.5034e-05 s\n",
      "Working in 1D dimensions.\n",
      "Computational cell is 0 x 0 x 16 with resolution 10\n",
      "time for set_epsilon = 4.41074e-05 s\n",
      "-----------\n"
     ]
    },
    {
     "data": {
      "application/vnd.jupyter.widget-view+json": {
       "model_id": "38f1e7653667407aab7fae43e123398a",
       "version_major": 2,
       "version_minor": 0
      },
      "text/plain": [
       "FloatProgress(value=0.0, description='0% done ', max=2100.0)"
      ]
     },
     "metadata": {},
     "output_type": "display_data"
    },
    {
     "name": "stdout",
     "output_type": "stream",
     "text": [
      "run 0 finished at t = 2100.0 (21000 timesteps)\n",
      "[mmmmmmmmmmmmmmmmmmmmmmmmmmmmmmmmmmmmmmmmmmmmmmmmmmmmmmmmmmmmmmmmm] 65%-----------\n",
      "Initializing structure...\n",
      "time for choose_chunkdivision = 2.90871e-05 s\n",
      "Working in 1D dimensions.\n",
      "Computational cell is 0 x 0 x 16 with resolution 10\n",
      "time for set_epsilon = 4.81606e-05 s\n",
      "-----------\n"
     ]
    },
    {
     "data": {
      "application/vnd.jupyter.widget-view+json": {
       "model_id": "869c1000b6724072b3a0e9d545bc3ca2",
       "version_major": 2,
       "version_minor": 0
      },
      "text/plain": [
       "FloatProgress(value=0.0, description='0% done ', max=2100.0)"
      ]
     },
     "metadata": {},
     "output_type": "display_data"
    },
    {
     "name": "stdout",
     "output_type": "stream",
     "text": [
      "run 0 finished at t = 2100.0 (21000 timesteps)\n",
      "[mmmmmmmmmmmmmmmmmmmmmmmmmmmmmmmmmmmmmmmmmmmmmmmmmmmmmmmmmmmmmmmmmm] 66%-----------\n",
      "Initializing structure...\n",
      "time for choose_chunkdivision = 2.5034e-05 s\n",
      "Working in 1D dimensions.\n",
      "Computational cell is 0 x 0 x 16 with resolution 10\n",
      "time for set_epsilon = 4.31538e-05 s\n",
      "-----------\n"
     ]
    },
    {
     "data": {
      "application/vnd.jupyter.widget-view+json": {
       "model_id": "a09f32a4994845b8a90da3b75d6109e8",
       "version_major": 2,
       "version_minor": 0
      },
      "text/plain": [
       "FloatProgress(value=0.0, description='0% done ', max=2100.0)"
      ]
     },
     "metadata": {},
     "output_type": "display_data"
    },
    {
     "name": "stdout",
     "output_type": "stream",
     "text": [
      "run 0 finished at t = 2100.0 (21000 timesteps)\n",
      "[mmmmmmmmmmmmmmmmmmmmmmmmmmmmmmmmmmmmmmmmmmmmmmmmmmmmmmmmmmmmmmmmmmm] 67%-----------\n",
      "Initializing structure...\n",
      "time for choose_chunkdivision = 2.59876e-05 s\n",
      "Working in 1D dimensions.\n",
      "Computational cell is 0 x 0 x 16 with resolution 10\n",
      "time for set_epsilon = 4.48227e-05 s\n",
      "-----------\n"
     ]
    },
    {
     "data": {
      "application/vnd.jupyter.widget-view+json": {
       "model_id": "cff272afe08b4daa83eb8f2e793ce9e0",
       "version_major": 2,
       "version_minor": 0
      },
      "text/plain": [
       "FloatProgress(value=0.0, description='0% done ', max=2100.0)"
      ]
     },
     "metadata": {},
     "output_type": "display_data"
    },
    {
     "name": "stdout",
     "output_type": "stream",
     "text": [
      "run 0 finished at t = 2100.0 (21000 timesteps)\n",
      "[mmmmmmmmmmmmmmmmmmmmmmmmmmmmmmmmmmmmmmmmmmmmmmmmmmmmmmmmmmmmmmmmmmmm] 68%-----------\n",
      "Initializing structure...\n",
      "time for choose_chunkdivision = 2.69413e-05 s\n",
      "Working in 1D dimensions.\n",
      "Computational cell is 0 x 0 x 16 with resolution 10\n",
      "time for set_epsilon = 4.88758e-05 s\n",
      "-----------\n"
     ]
    },
    {
     "data": {
      "application/vnd.jupyter.widget-view+json": {
       "model_id": "5036be4ec8334adc99591b97fe45bb11",
       "version_major": 2,
       "version_minor": 0
      },
      "text/plain": [
       "FloatProgress(value=0.0, description='0% done ', max=2100.0)"
      ]
     },
     "metadata": {},
     "output_type": "display_data"
    },
    {
     "name": "stdout",
     "output_type": "stream",
     "text": [
      "run 0 finished at t = 2100.0 (21000 timesteps)\n",
      "[mmmmmmmmmmmmmmmmmmmmmmmmmmmmmmmmmmmmmmmmmmmmmmmmmmmmmmmmmmmmmmmmmmmmm] 69%-----------\n",
      "Initializing structure...\n",
      "time for choose_chunkdivision = 2.59876e-05 s\n",
      "Working in 1D dimensions.\n",
      "Computational cell is 0 x 0 x 16 with resolution 10\n",
      "time for set_epsilon = 4.50611e-05 s\n",
      "-----------\n"
     ]
    },
    {
     "data": {
      "application/vnd.jupyter.widget-view+json": {
       "model_id": "ba367c198ce044d4a399c9cd99ed3ecc",
       "version_major": 2,
       "version_minor": 0
      },
      "text/plain": [
       "FloatProgress(value=0.0, description='0% done ', max=2100.0)"
      ]
     },
     "metadata": {},
     "output_type": "display_data"
    },
    {
     "name": "stdout",
     "output_type": "stream",
     "text": [
      "run 0 finished at t = 2100.0 (21000 timesteps)\n",
      "[mmmmmmmmmmmmmmmmmmmmmmmmmmmmmmmmmmmmmmmmmmmmmmmmmmmmmmmmmmmmmmmmmmmmmm] 70%-----------\n",
      "Initializing structure...\n",
      "time for choose_chunkdivision = 2.69413e-05 s\n",
      "Working in 1D dimensions.\n",
      "Computational cell is 0 x 0 x 16 with resolution 10\n",
      "time for set_epsilon = 4.81606e-05 s\n",
      "-----------\n"
     ]
    },
    {
     "data": {
      "application/vnd.jupyter.widget-view+json": {
       "model_id": "5199f84f8b284e778aaffcb542a54065",
       "version_major": 2,
       "version_minor": 0
      },
      "text/plain": [
       "FloatProgress(value=0.0, description='0% done ', max=2100.0)"
      ]
     },
     "metadata": {},
     "output_type": "display_data"
    },
    {
     "name": "stdout",
     "output_type": "stream",
     "text": [
      "run 0 finished at t = 2100.0 (21000 timesteps)\n",
      "[mmmmmmmmmmmmmmmmmmmmmmmmmmmmmmmmmmmmmmmmmmmmmmmmmmmmmmmmmmmmmmmmmmmmmmm] 71%-----------\n",
      "Initializing structure...\n",
      "time for choose_chunkdivision = 2.5034e-05 s\n",
      "Working in 1D dimensions.\n",
      "Computational cell is 0 x 0 x 16 with resolution 10\n",
      "time for set_epsilon = 4.88758e-05 s\n",
      "-----------\n"
     ]
    },
    {
     "data": {
      "application/vnd.jupyter.widget-view+json": {
       "model_id": "16859738f9844ea39ddabd38b7485c0b",
       "version_major": 2,
       "version_minor": 0
      },
      "text/plain": [
       "FloatProgress(value=0.0, description='0% done ', max=2100.0)"
      ]
     },
     "metadata": {},
     "output_type": "display_data"
    },
    {
     "name": "stdout",
     "output_type": "stream",
     "text": [
      "run 0 finished at t = 2100.0 (21000 timesteps)\n",
      "[mmmmmmmmmmmmmmmmmmmmmmmmmmmmmmmmmmmmmmmmmmmmmmmmmmmmmmmmmmmmmmmmmmmmmmmm] 72%-----------\n",
      "Initializing structure...\n",
      "time for choose_chunkdivision = 2.40803e-05 s\n",
      "Working in 1D dimensions.\n",
      "Computational cell is 0 x 0 x 16 with resolution 10\n",
      "time for set_epsilon = 4.50611e-05 s\n",
      "-----------\n"
     ]
    },
    {
     "data": {
      "application/vnd.jupyter.widget-view+json": {
       "model_id": "8629b12a4aa84a45962f3be333be0355",
       "version_major": 2,
       "version_minor": 0
      },
      "text/plain": [
       "FloatProgress(value=0.0, description='0% done ', max=2100.0)"
      ]
     },
     "metadata": {},
     "output_type": "display_data"
    },
    {
     "name": "stdout",
     "output_type": "stream",
     "text": [
      "run 0 finished at t = 2100.0 (21000 timesteps)\n",
      "[mmmmmmmmmmmmmmmmmmmmmmmmmmmmmmmmmmmmmmmmmmmmmmmmmmmmmmmmmmmmmmmmmmmmmmmmm] 73%-----------\n",
      "Initializing structure...\n",
      "time for choose_chunkdivision = 2.59876e-05 s\n",
      "Working in 1D dimensions.\n",
      "Computational cell is 0 x 0 x 16 with resolution 10\n",
      "time for set_epsilon = 4.57764e-05 s\n",
      "-----------\n"
     ]
    },
    {
     "data": {
      "application/vnd.jupyter.widget-view+json": {
       "model_id": "91598a6efcc54a0e85aa6852fbf93cb2",
       "version_major": 2,
       "version_minor": 0
      },
      "text/plain": [
       "FloatProgress(value=0.0, description='0% done ', max=2100.0)"
      ]
     },
     "metadata": {},
     "output_type": "display_data"
    },
    {
     "name": "stdout",
     "output_type": "stream",
     "text": [
      "run 0 finished at t = 2100.0 (21000 timesteps)\n",
      "[mmmmmmmmmmmmmmmmmmmmmmmmmmmmmmmmmmmmmmmmmmmmmmmmmmmmmmmmmmmmmmmmmmmmmmmmmm] 74%-----------\n",
      "Initializing structure...\n",
      "time for choose_chunkdivision = 2.59876e-05 s\n",
      "Working in 1D dimensions.\n",
      "Computational cell is 0 x 0 x 16 with resolution 10\n",
      "time for set_epsilon = 5.79357e-05 s\n",
      "-----------\n"
     ]
    },
    {
     "data": {
      "application/vnd.jupyter.widget-view+json": {
       "model_id": "364769c996254926aff3052278d9f939",
       "version_major": 2,
       "version_minor": 0
      },
      "text/plain": [
       "FloatProgress(value=0.0, description='0% done ', max=2100.0)"
      ]
     },
     "metadata": {},
     "output_type": "display_data"
    },
    {
     "name": "stdout",
     "output_type": "stream",
     "text": [
      "run 0 finished at t = 2100.0 (21000 timesteps)\n",
      "[mmmmmmmmmmmmmmmmmmmmmmmmmmmmmmmmmmmmmmmmmmmmmmmmmmmmmmmmmmmmmmmmmmmmmmmmmmm] 75%-----------\n",
      "Initializing structure...\n",
      "time for choose_chunkdivision = 2.5034e-05 s\n",
      "Working in 1D dimensions.\n",
      "Computational cell is 0 x 0 x 16 with resolution 10\n",
      "time for set_epsilon = 7.70092e-05 s\n",
      "-----------\n"
     ]
    },
    {
     "data": {
      "application/vnd.jupyter.widget-view+json": {
       "model_id": "782ce5ced6ef41029fe9fc4ca20b340b",
       "version_major": 2,
       "version_minor": 0
      },
      "text/plain": [
       "FloatProgress(value=0.0, description='0% done ', max=2100.0)"
      ]
     },
     "metadata": {},
     "output_type": "display_data"
    },
    {
     "name": "stdout",
     "output_type": "stream",
     "text": [
      "run 0 finished at t = 2100.0 (21000 timesteps)\n",
      "[mmmmmmmmmmmmmmmmmmmmmmmmmmmmmmmmmmmmmmmmmmmmmmmmmmmmmmmmmmmmmmmmmmmmmmmmmmmm] 76%-----------\n",
      "Initializing structure...\n",
      "time for choose_chunkdivision = 2.5034e-05 s\n",
      "Working in 1D dimensions.\n",
      "Computational cell is 0 x 0 x 16 with resolution 10\n",
      "time for set_epsilon = 4.60148e-05 s\n",
      "-----------\n"
     ]
    },
    {
     "data": {
      "application/vnd.jupyter.widget-view+json": {
       "model_id": "24a705be557e44638a9ae8b9b32cd927",
       "version_major": 2,
       "version_minor": 0
      },
      "text/plain": [
       "FloatProgress(value=0.0, description='0% done ', max=2100.0)"
      ]
     },
     "metadata": {},
     "output_type": "display_data"
    },
    {
     "name": "stdout",
     "output_type": "stream",
     "text": [
      "run 0 finished at t = 2100.0 (21000 timesteps)\n",
      "[mmmmmmmmmmmmmmmmmmmmmmmmmmmmmmmmmmmmmmmmmmmmmmmmmmmmmmmmmmmmmmmmmmmmmmmmmmmmm] 77%-----------\n",
      "Initializing structure...\n",
      "time for choose_chunkdivision = 2.59876e-05 s\n",
      "Working in 1D dimensions.\n",
      "Computational cell is 0 x 0 x 16 with resolution 10\n",
      "time for set_epsilon = 4.41074e-05 s\n",
      "-----------\n"
     ]
    },
    {
     "data": {
      "application/vnd.jupyter.widget-view+json": {
       "model_id": "3a69c0ea820244adba4feb7d94c55326",
       "version_major": 2,
       "version_minor": 0
      },
      "text/plain": [
       "FloatProgress(value=0.0, description='0% done ', max=2100.0)"
      ]
     },
     "metadata": {},
     "output_type": "display_data"
    },
    {
     "name": "stdout",
     "output_type": "stream",
     "text": [
      "run 0 finished at t = 2100.0 (21000 timesteps)\n",
      "[mmmmmmmmmmmmmmmmmmmmmmmmmmmmmmmmmmmmmmmmmmmmmmmmmmmmmmmmmmmmmmmmmmmmmmmmmmmmmm] 78%-----------\n",
      "Initializing structure...\n",
      "time for choose_chunkdivision = 2.59876e-05 s\n",
      "Working in 1D dimensions.\n",
      "Computational cell is 0 x 0 x 16 with resolution 10\n",
      "time for set_epsilon = 4.60148e-05 s\n",
      "-----------\n"
     ]
    },
    {
     "data": {
      "application/vnd.jupyter.widget-view+json": {
       "model_id": "6f649f0bb3f24187a43d2b8d3f295f8f",
       "version_major": 2,
       "version_minor": 0
      },
      "text/plain": [
       "FloatProgress(value=0.0, description='0% done ', max=2100.0)"
      ]
     },
     "metadata": {},
     "output_type": "display_data"
    },
    {
     "name": "stdout",
     "output_type": "stream",
     "text": [
      "run 0 finished at t = 2100.0 (21000 timesteps)\n",
      "[mmmmmmmmmmmmmmmmmmmmmmmmmmmmmmmmmmmmmmmmmmmmmmmmmmmmmmmmmmmmmmmmmmmmmmmmmmmmmmm] 79%-----------\n",
      "Initializing structure...\n",
      "time for choose_chunkdivision = 2.69413e-05 s\n",
      "Working in 1D dimensions.\n",
      "Computational cell is 0 x 0 x 16 with resolution 10\n",
      "time for set_epsilon = 4.50611e-05 s\n",
      "-----------\n"
     ]
    },
    {
     "data": {
      "application/vnd.jupyter.widget-view+json": {
       "model_id": "ade4372a240f4e1dab480acb6390a4cf",
       "version_major": 2,
       "version_minor": 0
      },
      "text/plain": [
       "FloatProgress(value=0.0, description='0% done ', max=2100.0)"
      ]
     },
     "metadata": {},
     "output_type": "display_data"
    },
    {
     "name": "stdout",
     "output_type": "stream",
     "text": [
      "run 0 finished at t = 2100.0 (21000 timesteps)\n",
      "[mmmmmmmmmmmmmmmmmmmmmmmmmmmmmmmmmmmmmmmmmmmmmmmmmmmmmmmmmmmmmmmmmmmmmmmmmmmmmmmm] 80%-----------\n",
      "Initializing structure...\n",
      "time for choose_chunkdivision = 2.28882e-05 s\n",
      "Working in 1D dimensions.\n",
      "Computational cell is 0 x 0 x 16 with resolution 10\n",
      "time for set_epsilon = 4.50611e-05 s\n",
      "-----------\n"
     ]
    },
    {
     "data": {
      "application/vnd.jupyter.widget-view+json": {
       "model_id": "9b498e6b7d7d42f6b4e9f945a5f402f3",
       "version_major": 2,
       "version_minor": 0
      },
      "text/plain": [
       "FloatProgress(value=0.0, description='0% done ', max=2100.0)"
      ]
     },
     "metadata": {},
     "output_type": "display_data"
    },
    {
     "name": "stdout",
     "output_type": "stream",
     "text": [
      "run 0 finished at t = 2100.0 (21000 timesteps)\n",
      "[mmmmmmmmmmmmmmmmmmmmmmmmmmmmmmmmmmmmmmmmmmmmmmmmmmmmmmmmmmmmmmmmmmmmmmmmmmmmmmmmm] 81%-----------\n",
      "Initializing structure...\n",
      "time for choose_chunkdivision = 2.40803e-05 s\n",
      "Working in 1D dimensions.\n",
      "Computational cell is 0 x 0 x 16 with resolution 10\n",
      "time for set_epsilon = 4.3869e-05 s\n",
      "-----------\n"
     ]
    },
    {
     "data": {
      "application/vnd.jupyter.widget-view+json": {
       "model_id": "75025b4a7c9849ba9d91c29feb0f25e7",
       "version_major": 2,
       "version_minor": 0
      },
      "text/plain": [
       "FloatProgress(value=0.0, description='0% done ', max=2100.0)"
      ]
     },
     "metadata": {},
     "output_type": "display_data"
    },
    {
     "name": "stdout",
     "output_type": "stream",
     "text": [
      "run 0 finished at t = 2100.0 (21000 timesteps)\n",
      "[mmmmmmmmmmmmmmmmmmmmmmmmmmmmmmmmmmmmmmmmmmmmmmmmmmmmmmmmmmmmmmmmmmmmmmmmmmmmmmmmmm] 82%-----------\n",
      "Initializing structure...\n",
      "time for choose_chunkdivision = 2.59876e-05 s\n",
      "Working in 1D dimensions.\n",
      "Computational cell is 0 x 0 x 16 with resolution 10\n",
      "time for set_epsilon = 5.72205e-05 s\n",
      "-----------\n"
     ]
    },
    {
     "data": {
      "application/vnd.jupyter.widget-view+json": {
       "model_id": "5917d182aa4d486c819694f2b0ee115e",
       "version_major": 2,
       "version_minor": 0
      },
      "text/plain": [
       "FloatProgress(value=0.0, description='0% done ', max=2100.0)"
      ]
     },
     "metadata": {},
     "output_type": "display_data"
    },
    {
     "name": "stdout",
     "output_type": "stream",
     "text": [
      "run 0 finished at t = 2100.0 (21000 timesteps)\n",
      "[mmmmmmmmmmmmmmmmmmmmmmmmmmmmmmmmmmmmmmmmmmmmmmmmmmmmmmmmmmmmmmmmmmmmmmmmmmmmmmmmmmm] 83%-----------\n",
      "Initializing structure...\n",
      "time for choose_chunkdivision = 4.60148e-05 s\n",
      "Working in 1D dimensions.\n",
      "Computational cell is 0 x 0 x 16 with resolution 10\n",
      "time for set_epsilon = 4.60148e-05 s\n",
      "-----------\n"
     ]
    },
    {
     "data": {
      "application/vnd.jupyter.widget-view+json": {
       "model_id": "6e06db5497894055892e22467039bee8",
       "version_major": 2,
       "version_minor": 0
      },
      "text/plain": [
       "FloatProgress(value=0.0, description='0% done ', max=2100.0)"
      ]
     },
     "metadata": {},
     "output_type": "display_data"
    },
    {
     "name": "stdout",
     "output_type": "stream",
     "text": [
      "run 0 finished at t = 2100.0 (21000 timesteps)\n",
      "[mmmmmmmmmmmmmmmmmmmmmmmmmmmmmmmmmmmmmmmmmmmmmmmmmmmmmmmmmmmmmmmmmmmmmmmmmmmmmmmmmmmm] 84%-----------\n",
      "Initializing structure...\n",
      "time for choose_chunkdivision = 2.40803e-05 s\n",
      "Working in 1D dimensions.\n",
      "Computational cell is 0 x 0 x 16 with resolution 10\n",
      "time for set_epsilon = 4.69685e-05 s\n",
      "-----------\n"
     ]
    },
    {
     "data": {
      "application/vnd.jupyter.widget-view+json": {
       "model_id": "10f31a86697741148c8c7d08c6d9cec3",
       "version_major": 2,
       "version_minor": 0
      },
      "text/plain": [
       "FloatProgress(value=0.0, description='0% done ', max=2100.0)"
      ]
     },
     "metadata": {},
     "output_type": "display_data"
    },
    {
     "name": "stdout",
     "output_type": "stream",
     "text": [
      "run 0 finished at t = 2100.0 (21000 timesteps)\n",
      "[mmmmmmmmmmmmmmmmmmmmmmmmmmmmmmmmmmmmmmmmmmmmmmmmmmmmmmmmmmmmmmmmmmmmmmmmmmmmmmmmmmmmm] 85%-----------\n",
      "Initializing structure...\n",
      "time for choose_chunkdivision = 2.40803e-05 s\n",
      "Working in 1D dimensions.\n",
      "Computational cell is 0 x 0 x 16 with resolution 10\n",
      "time for set_epsilon = 6.60419e-05 s\n",
      "-----------\n"
     ]
    },
    {
     "data": {
      "application/vnd.jupyter.widget-view+json": {
       "model_id": "a0d36ba4ecff482594441afdfc211b50",
       "version_major": 2,
       "version_minor": 0
      },
      "text/plain": [
       "FloatProgress(value=0.0, description='0% done ', max=2100.0)"
      ]
     },
     "metadata": {},
     "output_type": "display_data"
    },
    {
     "name": "stdout",
     "output_type": "stream",
     "text": [
      "run 0 finished at t = 2100.0 (21000 timesteps)\n",
      "[mmmmmmmmmmmmmmmmmmmmmmmmmmmmmmmmmmmmmmmmmmmmmmmmmmmmmmmmmmmmmmmmmmmmmmmmmmmmmmmmmmmmmm] 86%-----------\n",
      "Initializing structure...\n",
      "time for choose_chunkdivision = 2.81334e-05 s\n",
      "Working in 1D dimensions.\n",
      "Computational cell is 0 x 0 x 16 with resolution 10\n",
      "time for set_epsilon = 4.57764e-05 s\n",
      "-----------\n"
     ]
    },
    {
     "data": {
      "application/vnd.jupyter.widget-view+json": {
       "model_id": "1d8ce41540ce410e826d9a576391af26",
       "version_major": 2,
       "version_minor": 0
      },
      "text/plain": [
       "FloatProgress(value=0.0, description='0% done ', max=2100.0)"
      ]
     },
     "metadata": {},
     "output_type": "display_data"
    },
    {
     "name": "stdout",
     "output_type": "stream",
     "text": [
      "run 0 finished at t = 2100.0 (21000 timesteps)\n",
      "[mmmmmmmmmmmmmmmmmmmmmmmmmmmmmmmmmmmmmmmmmmmmmmmmmmmmmmmmmmmmmmmmmmmmmmmmmmmmmmmmmmmmmmm] 87%-----------\n",
      "Initializing structure...\n",
      "time for choose_chunkdivision = 2.59876e-05 s\n",
      "Working in 1D dimensions.\n",
      "Computational cell is 0 x 0 x 16 with resolution 10\n",
      "time for set_epsilon = 4.60148e-05 s\n",
      "-----------\n"
     ]
    },
    {
     "data": {
      "application/vnd.jupyter.widget-view+json": {
       "model_id": "26c2a28e96c344efb2db6c4d47133a2c",
       "version_major": 2,
       "version_minor": 0
      },
      "text/plain": [
       "FloatProgress(value=0.0, description='0% done ', max=2100.0)"
      ]
     },
     "metadata": {},
     "output_type": "display_data"
    },
    {
     "name": "stdout",
     "output_type": "stream",
     "text": [
      "run 0 finished at t = 2100.0 (21000 timesteps)\n",
      "[mmmmmmmmmmmmmmmmmmmmmmmmmmmmmmmmmmmmmmmmmmmmmmmmmmmmmmmmmmmmmmmmmmmmmmmmmmmmmmmmmmmmmmmm] 88%-----------\n",
      "Initializing structure...\n",
      "time for choose_chunkdivision = 2.81334e-05 s\n",
      "Working in 1D dimensions.\n",
      "Computational cell is 0 x 0 x 16 with resolution 10\n",
      "time for set_epsilon = 7.98702e-05 s\n",
      "-----------\n"
     ]
    },
    {
     "data": {
      "application/vnd.jupyter.widget-view+json": {
       "model_id": "d91e24e111414a15a4785e44de0554af",
       "version_major": 2,
       "version_minor": 0
      },
      "text/plain": [
       "FloatProgress(value=0.0, description='0% done ', max=2100.0)"
      ]
     },
     "metadata": {},
     "output_type": "display_data"
    },
    {
     "name": "stdout",
     "output_type": "stream",
     "text": [
      "run 0 finished at t = 2100.0 (21000 timesteps)\n",
      "[mmmmmmmmmmmmmmmmmmmmmmmmmmmmmmmmmmmmmmmmmmmmmmmmmmmmmmmmmmmmmmmmmmmmmmmmmmmmmmmmmmmmmmmmm] 89%-----------\n",
      "Initializing structure...\n",
      "time for choose_chunkdivision = 2.69413e-05 s\n",
      "Working in 1D dimensions.\n",
      "Computational cell is 0 x 0 x 16 with resolution 10\n",
      "time for set_epsilon = 8.79765e-05 s\n",
      "-----------\n"
     ]
    },
    {
     "data": {
      "application/vnd.jupyter.widget-view+json": {
       "model_id": "0a3c5598313247e4949ab6fa4965cf01",
       "version_major": 2,
       "version_minor": 0
      },
      "text/plain": [
       "FloatProgress(value=0.0, description='0% done ', max=2100.0)"
      ]
     },
     "metadata": {},
     "output_type": "display_data"
    },
    {
     "name": "stdout",
     "output_type": "stream",
     "text": [
      "run 0 finished at t = 2100.0 (21000 timesteps)\n",
      "[mmmmmmmmmmmmmmmmmmmmmmmmmmmmmmmmmmmmmmmmmmmmmmmmmmmmmmmmmmmmmmmmmmmmmmmmmmmmmmmmmmmmmmmmmm] 90%-----------\n",
      "Initializing structure...\n",
      "time for choose_chunkdivision = 2.38419e-05 s\n",
      "Working in 1D dimensions.\n",
      "Computational cell is 0 x 0 x 16 with resolution 10\n",
      "time for set_epsilon = 4.81606e-05 s\n",
      "-----------\n"
     ]
    },
    {
     "data": {
      "application/vnd.jupyter.widget-view+json": {
       "model_id": "207e0dacb53742f191c29017edf67499",
       "version_major": 2,
       "version_minor": 0
      },
      "text/plain": [
       "FloatProgress(value=0.0, description='0% done ', max=2100.0)"
      ]
     },
     "metadata": {},
     "output_type": "display_data"
    },
    {
     "name": "stdout",
     "output_type": "stream",
     "text": [
      "run 0 finished at t = 2100.0 (21000 timesteps)\n",
      "[mmmmmmmmmmmmmmmmmmmmmmmmmmmmmmmmmmmmmmmmmmmmmmmmmmmmmmmmmmmmmmmmmmmmmmmmmmmmmmmmmmmmmmmmmmm] 91%-----------\n",
      "Initializing structure...\n",
      "time for choose_chunkdivision = 2.81334e-05 s\n",
      "Working in 1D dimensions.\n",
      "Computational cell is 0 x 0 x 16 with resolution 10\n",
      "time for set_epsilon = 5.50747e-05 s\n",
      "-----------\n"
     ]
    },
    {
     "data": {
      "application/vnd.jupyter.widget-view+json": {
       "model_id": "47ddbee6197842c99fe22b229973d69f",
       "version_major": 2,
       "version_minor": 0
      },
      "text/plain": [
       "FloatProgress(value=0.0, description='0% done ', max=2100.0)"
      ]
     },
     "metadata": {},
     "output_type": "display_data"
    },
    {
     "name": "stdout",
     "output_type": "stream",
     "text": [
      "run 0 finished at t = 2100.0 (21000 timesteps)\n",
      "[mmmmmmmmmmmmmmmmmmmmmmmmmmmmmmmmmmmmmmmmmmmmmmmmmmmmmmmmmmmmmmmmmmmmmmmmmmmmmmmmmmmmmmmmmmmm] 92%-----------\n",
      "Initializing structure...\n",
      "time for choose_chunkdivision = 2.5034e-05 s\n",
      "Working in 1D dimensions.\n",
      "Computational cell is 0 x 0 x 16 with resolution 10\n",
      "time for set_epsilon = 4.91142e-05 s\n",
      "-----------\n"
     ]
    },
    {
     "data": {
      "application/vnd.jupyter.widget-view+json": {
       "model_id": "f9ff6d2bfb8143528d08c7daccd4024e",
       "version_major": 2,
       "version_minor": 0
      },
      "text/plain": [
       "FloatProgress(value=0.0, description='0% done ', max=2100.0)"
      ]
     },
     "metadata": {},
     "output_type": "display_data"
    },
    {
     "name": "stdout",
     "output_type": "stream",
     "text": [
      "run 0 finished at t = 2100.0 (21000 timesteps)\n",
      "[mmmmmmmmmmmmmmmmmmmmmmmmmmmmmmmmmmmmmmmmmmmmmmmmmmmmmmmmmmmmmmmmmmmmmmmmmmmmmmmmmmmmmmmmmmmmm] 93%-----------\n",
      "Initializing structure...\n",
      "time for choose_chunkdivision = 2.5034e-05 s\n",
      "Working in 1D dimensions.\n",
      "Computational cell is 0 x 0 x 16 with resolution 10\n",
      "time for set_epsilon = 4.41074e-05 s\n",
      "-----------\n"
     ]
    },
    {
     "data": {
      "application/vnd.jupyter.widget-view+json": {
       "model_id": "585945b3d53e43b88c857c93badc2746",
       "version_major": 2,
       "version_minor": 0
      },
      "text/plain": [
       "FloatProgress(value=0.0, description='0% done ', max=2100.0)"
      ]
     },
     "metadata": {},
     "output_type": "display_data"
    },
    {
     "name": "stdout",
     "output_type": "stream",
     "text": [
      "run 0 finished at t = 2100.0 (21000 timesteps)\n",
      "[mmmmmmmmmmmmmmmmmmmmmmmmmmmmmmmmmmmmmmmmmmmmmmmmmmmmmmmmmmmmmmmmmmmmmmmmmmmmmmmmmmmmmmmmmmmmmm] 94%-----------\n",
      "Initializing structure...\n",
      "time for choose_chunkdivision = 2.5034e-05 s\n",
      "Working in 1D dimensions.\n",
      "Computational cell is 0 x 0 x 16 with resolution 10\n",
      "time for set_epsilon = 4.3869e-05 s\n",
      "-----------\n"
     ]
    },
    {
     "data": {
      "application/vnd.jupyter.widget-view+json": {
       "model_id": "021fa8c53a8143a2a6ac6f30bf162015",
       "version_major": 2,
       "version_minor": 0
      },
      "text/plain": [
       "FloatProgress(value=0.0, description='0% done ', max=2100.0)"
      ]
     },
     "metadata": {},
     "output_type": "display_data"
    },
    {
     "name": "stdout",
     "output_type": "stream",
     "text": [
      "run 0 finished at t = 2100.0 (21000 timesteps)\n",
      "[mmmmmmmmmmmmmmmmmmmmmmmmmmmmmmmmmmmmmmmmmmmmmmmmmmmmmmmmmmmmmmmmmmmmmmmmmmmmmmmmmmmmmmmmmmmmmmm] 95%-----------\n",
      "Initializing structure...\n",
      "time for choose_chunkdivision = 2.38419e-05 s\n",
      "Working in 1D dimensions.\n",
      "Computational cell is 0 x 0 x 16 with resolution 10\n",
      "time for set_epsilon = 4.50611e-05 s\n",
      "-----------\n"
     ]
    },
    {
     "data": {
      "application/vnd.jupyter.widget-view+json": {
       "model_id": "db65b3e766314c3faa05f0ef35a593d6",
       "version_major": 2,
       "version_minor": 0
      },
      "text/plain": [
       "FloatProgress(value=0.0, description='0% done ', max=2100.0)"
      ]
     },
     "metadata": {},
     "output_type": "display_data"
    },
    {
     "name": "stdout",
     "output_type": "stream",
     "text": [
      "run 0 finished at t = 2100.0 (21000 timesteps)\n",
      "[mmmmmmmmmmmmmmmmmmmmmmmmmmmmmmmmmmmmmmmmmmmmmmmmmmmmmmmmmmmmmmmmmmmmmmmmmmmmmmmmmmmmmmmmmmmmmmmm] 96%-----------\n",
      "Initializing structure...\n",
      "time for choose_chunkdivision = 2.38419e-05 s\n",
      "Working in 1D dimensions.\n",
      "Computational cell is 0 x 0 x 16 with resolution 10\n",
      "time for set_epsilon = 4.41074e-05 s\n",
      "-----------\n"
     ]
    },
    {
     "data": {
      "application/vnd.jupyter.widget-view+json": {
       "model_id": "eace6cc8e32349599cdd0d76795f3c7a",
       "version_major": 2,
       "version_minor": 0
      },
      "text/plain": [
       "FloatProgress(value=0.0, description='0% done ', max=2100.0)"
      ]
     },
     "metadata": {},
     "output_type": "display_data"
    },
    {
     "name": "stdout",
     "output_type": "stream",
     "text": [
      "run 0 finished at t = 2100.0 (21000 timesteps)\n",
      "[mmmmmmmmmmmmmmmmmmmmmmmmmmmmmmmmmmmmmmmmmmmmmmmmmmmmmmmmmmmmmmmmmmmmmmmmmmmmmmmmmmmmmmmmmmmmmmmmm] 97%-----------\n",
      "Initializing structure...\n",
      "time for choose_chunkdivision = 2.69413e-05 s\n",
      "Working in 1D dimensions.\n",
      "Computational cell is 0 x 0 x 16 with resolution 10\n",
      "time for set_epsilon = 4.48227e-05 s\n",
      "-----------\n"
     ]
    },
    {
     "data": {
      "application/vnd.jupyter.widget-view+json": {
       "model_id": "e5c6f8a0d8574517b56b78f5f56cb415",
       "version_major": 2,
       "version_minor": 0
      },
      "text/plain": [
       "FloatProgress(value=0.0, description='0% done ', max=2100.0)"
      ]
     },
     "metadata": {},
     "output_type": "display_data"
    },
    {
     "name": "stdout",
     "output_type": "stream",
     "text": [
      "run 0 finished at t = 2100.0 (21000 timesteps)\n",
      "[mmmmmmmmmmmmmmmmmmmmmmmmmmmmmmmmmmmmmmmmmmmmmmmmmmmmmmmmmmmmmmmmmmmmmmmmmmmmmmmmmmmmmmmmmmmmmmmmmm] 98%-----------\n",
      "Initializing structure...\n",
      "time for choose_chunkdivision = 2.5034e-05 s\n",
      "Working in 1D dimensions.\n",
      "Computational cell is 0 x 0 x 16 with resolution 10\n",
      "time for set_epsilon = 4.41074e-05 s\n",
      "-----------\n"
     ]
    },
    {
     "data": {
      "application/vnd.jupyter.widget-view+json": {
       "model_id": "2359af9b00e64a5cbb113e1a357804f7",
       "version_major": 2,
       "version_minor": 0
      },
      "text/plain": [
       "FloatProgress(value=0.0, description='0% done ', max=2100.0)"
      ]
     },
     "metadata": {},
     "output_type": "display_data"
    },
    {
     "name": "stdout",
     "output_type": "stream",
     "text": [
      "run 0 finished at t = 2100.0 (21000 timesteps)\n",
      "[mmmmmmmmmmmmmmmmmmmmmmmmmmmmmmmmmmmmmmmmmmmmmmmmmmmmmmmmmmmmmmmmmmmmmmmmmmmmmmmmmmmmmmmmmmmmmmmmmmm] 99%-----------\n",
      "Initializing structure...\n",
      "time for choose_chunkdivision = 2.59876e-05 s\n",
      "Working in 1D dimensions.\n",
      "Computational cell is 0 x 0 x 16 with resolution 10\n",
      "time for set_epsilon = 4.88758e-05 s\n",
      "-----------\n"
     ]
    },
    {
     "data": {
      "application/vnd.jupyter.widget-view+json": {
       "model_id": "7fe5353ccfca4dacbe5e54ec52c1c7bd",
       "version_major": 2,
       "version_minor": 0
      },
      "text/plain": [
       "FloatProgress(value=0.0, description='0% done ', max=2100.0)"
      ]
     },
     "metadata": {},
     "output_type": "display_data"
    },
    {
     "name": "stdout",
     "output_type": "stream",
     "text": [
      "run 0 finished at t = 2100.0 (21000 timesteps)\n"
     ]
    }
   ],
   "source": [
    "##########################################################複製區塊\n",
    "# import numpy as np\n",
    "import matplotlib.pyplot as plt\n",
    "import time\n",
    "from scipy import signal\n",
    "from time import sleep\n",
    "import sys\n",
    "import meep as mp\n",
    "import numpy as np\n",
    "\n",
    "#setup some constants and parameters\n",
    "M=2**21\n",
    "tsim=7e-12\n",
    "eps0 = 8.854187e-12\n",
    "hbar = 1.05457182e-34\n",
    "c = 2.99792458e8\n",
    "kb = 1.380649e-23\n",
    "hdk=7.63823258e-12\n",
    "deltap = np.sqrt(1/3/eps0/hbar/c)*kb\n",
    "T=30000\n",
    "frq_min = 0\n",
    "frq_max = 1.25*25/(6*np.pi)\n",
    "nfreq = 1000\n",
    "fcen = (frq_min + frq_max)/2\n",
    "df = frq_max - frq_min\n",
    "dfp = 1/2\n",
    "#define square root of Dn function\n",
    "def Dnsqt(wla,T):\n",
    "    return np.sqrt(6*hdk**2*wla/(np.exp(hdk*wla/T)-1)/T**2/np.pi)\n",
    "\n",
    "#generate an array of the square root of Dn function\n",
    "Dsqt = []\n",
    "for n in range(1,M):\n",
    "    Dsqt.append(Dnsqt(2*np.pi*n/tsim,T))\n",
    "\n",
    "#define how many times to run to average the results\n",
    "Ncomp=100\n",
    "nfreq =  1000\n",
    "#define the starting sum of the result\n",
    "Efsum = np.zeros(nfreq)\n",
    "Ens = np.zeros(2*22)\n",
    "resolution = 10\n",
    "sz = 16  \n",
    "cell = mp.Vector3(0, 0, sz)\n",
    "dpml = 1.0\n",
    "pml_layers = [mp.PML(dpml)]\n",
    "nq = 0\n",
    "\n",
    "\n",
    "for i in range(Ncomp):\n",
    "    \n",
    "    #generate random numbers\n",
    "    M0 = np.random.normal(0,1)\n",
    "    Mlp = np.random.normal(0,1,M-1)\n",
    "    Nlp = np.random.normal(0,1,M-1)\n",
    "    MM = np.random.normal(0,1)\n",
    "    \n",
    "    #generate the array of the fourier transform of E field, we generate l=0 and l=-M separately. \n",
    "    #for l=1 to M-1 and l=-1 to -(M-1) are conjutated to each other. \n",
    "    #we contruct the whole array by gluing them together by the order from l=0 -> l=M-1 -> l=-M -> l=-(m-1) -> l=-1\n",
    "    Ef0 = np.array([M0*np.sqrt(6*hdk/np.pi/T)])\n",
    "    Eflp = np.multiply((Mlp + 1j*Nlp), Dsqt)\n",
    "    Eflm = np.flip(np.conjugate(Eflp))\n",
    "    EfM = np.array([MM*Dnsqt(2*np.pi*M/tsim,T)])\n",
    "    Ef = np.hstack((Ef0,Eflp,EfM,Eflm))\n",
    "    \n",
    "    #we normalize Ef and compute its inverse fast fourier transform\n",
    "    Efn = deltap*T/np.sqrt(tsim)*Ef\n",
    "    En = np.fft.ifft(Efn)\n",
    "    \n",
    "    \n",
    "    #generate some feedback to check the progress of the loop\n",
    "    x = i/Ncomp*100\n",
    "    sys.stdout.write('\\r')\n",
    "    sys.stdout.write(\"[%-20s] %d%%\" % ('m'*int(x), int(x)))\n",
    "    sys.stdout.flush()\n",
    "    sleep(0.0001)\n",
    "    def source(t):\n",
    "        f = int(t*200)\n",
    "        #print(t)\n",
    "        #print(f)\n",
    "        return En[f]\n",
    "\n",
    "    sources = [mp.Source(mp.CustomSource(src_func=source),\n",
    "                     component=mp.Ex,\n",
    "                     center=mp.Vector3(0,0,-0.5*sz+dpml),\n",
    "                     #amplitude=2e-9\n",
    "                     )]\n",
    "    \n",
    "    sim = mp.Simulation(cell_size=cell,\n",
    "                    boundary_layers=pml_layers,\n",
    "                    sources=sources,\n",
    "                    dimensions = 1,\n",
    "                    Courant = 1,\n",
    "                    resolution=resolution)\n",
    "    \n",
    "\n",
    "    # transmitted flux\n",
    "    tran_fr = mp.FluxRegion(center=mp.Vector3(0,0,-0.5*sz+dpml+0.5))#, size=mp.Vector3(0,2,0))\n",
    "    tran = sim.add_flux(fcen, df*dfp, nfreq, tran_fr)\n",
    "    \n",
    "    \n",
    "    sim.run(until=2100)\n",
    "\n",
    "    tran_flux = mp.get_fluxes(tran)\n",
    "    flux_freqs = mp.get_flux_freqs(tran)\n",
    "    Ts = []\n",
    "    fs = []\n",
    "    for i in range(nfreq):\n",
    "        fs = np.append(fs,flux_freqs[i])\n",
    "        Ts = np.append(Ts,tran_flux[i])    \n",
    "    Efsum += Ts\n",
    "    \n",
    "    \n",
    "    \n",
    "\n",
    "#average the final result\n",
    "Efavg = Efsum*tsim/Ncomp\n",
    "\n",
    "#save data to some file or reload file to write more data on it\n",
    "######################################################複製區塊\n"
   ]
  },
  {
   "cell_type": "code",
   "execution_count": 6,
   "id": "dd7cad2d-5c56-41d3-863d-e0fc7e546693",
   "metadata": {
    "tags": []
   },
   "outputs": [
    {
     "data": {
      "image/png": "[encoded data removed]",
      "text/plain": [
       "<Figure size 900x600 with 1 Axes>"
      ]
     },
     "metadata": {
      "needs_background": "light"
     },
     "output_type": "display_data"
    }
   ],
   "source": [
    "plt.figure(dpi=150)\n",
    "freqs = np.linspace(0,30e15,1000)\n",
    "plt.plot(freqs,Efavg,'.')\n",
    "plt.xlim(0,25e15)\n",
    "plt.ylim(0,7.5e-24)\n",
    "#plt.savefig('detector_vacuum_300001.png')\n",
    "plt.show()\n",
    "\n",
    "#np.savez(\"custom_source_vacuum_30000.npz\", Efavg_30000 = Efavg)"
   ]
  },
  {
   "cell_type": "code",
   "execution_count": 37,
   "id": "275c7747-754c-4fbc-b18e-a3da9dde9c07",
   "metadata": {
    "tags": []
   },
   "outputs": [],
   "source": [
    "from PIL import Image\n",
    "\n",
    "def transPNG(srcImageName, dstImageName):\n",
    "    img = Image.open(srcImageName)\n",
    "    img = img.convert(\"RGBA\")\n",
    "    datas = img.getdata()\n",
    "    newData = list()\n",
    "    for item in datas:\n",
    "        if item[0] > 225 and item[1] > 225 and item[2] > 225:\n",
    "            newData.append((255, 255, 255, 0))\n",
    "        else:\n",
    "            newData.append(item)\n",
    "    img.putdata(newData)\n",
    "    img.save(dstImageName, \"PNG\")\n",
    "transPNG('detector_vacuum_300001.png','trans_detector_vacuum_300001.png')"
   ]
  },
  {
   "cell_type": "code",
   "execution_count": null,
   "id": "ab5c0ded-127a-448e-8a1a-b2401049b1ea",
   "metadata": {},
   "outputs": [],
   "source": []
  }
 ],
 "metadata": {
  "kernelspec": {
   "display_name": "Python 3 (ipykernel)",
   "language": "python",
   "name": "python3"
  },
  "language_info": {
   "codemirror_mode": {
    "name": "ipython",
    "version": 3
   },
   "file_extension": ".py",
   "mimetype": "text/x-python",
   "name": "python",
   "nbconvert_exporter": "python",
   "pygments_lexer": "ipython3",
   "version": "3.10.5"
  }
 },
 "nbformat": 4,
 "nbformat_minor": 5
}

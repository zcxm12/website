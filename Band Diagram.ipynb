{
 "cells": [
  {
   "cell_type": "markdown",
   "id": "7c6cfb98-62c6-4248-b52e-a2d071682204",
   "metadata": {},
   "source": [
    "# Band Diagram\n",
    "將通過考慮一個更小、更抽象的計算來構建holey-wvg-cavity  \n",
    "我們計算了無限週期 no defects 波導的band gap  \n",
    "與 MPB 執行的計算類型非常相似但使用不同的方法  \n",
    "分析哪些解可以在周期性結構中傳播  \n",
    "\n",
    "在這種週期系統中 週期 Bloch 包絡乘以平面波$exp[i(k⋅x−\\omega t)]$  \n",
    "我們希望找到band 𝜔(𝑘) 只有一個週期方向，所以我們只有一個波矢量分量𝑘𝑥  \n",
    "只需要在從𝑘𝑥=0到𝑘𝑥=𝜋的irreducible Brillouin zone尋找解\n",
    "\n",
    "求解這些 eigenmodes 與求解resonant modes of a cavity非常相似  \n",
    "輸入一個脈衝並通過 Harminv 分析響應，只是我們的計算單元和邊界條件不同  \n",
    "𝜖 函數服從周期性邊界條件  \n",
    "Bloch 週期性邊界條件  右側的場是 𝑒𝑥𝑝(𝑖𝑘𝑥⋅1) 乘以左側的場  \n",
    "每個 𝑘𝑥 單獨的計算以獲取該 𝑘𝑥 處的頻率"
   ]
  },
  {
   "cell_type": "code",
   "execution_count": 1,
   "id": "a3358bdc-6d11-4e2e-9124-2b6332da43c3",
   "metadata": {},
   "outputs": [],
   "source": [
    "import meep as mp\n",
    "import numpy as np\n",
    "from matplotlib import pyplot as plt\n",
    "from IPython.display import Video\n",
    "#%matplotlib notebook"
   ]
  },
  {
   "cell_type": "code",
   "execution_count": 2,
   "id": "9a0a0195-dbee-4add-a0b0-b67e1eefe052",
   "metadata": {},
   "outputs": [],
   "source": [
    "# Some parameters to describe the geometry:\n",
    "eps = 13    # dielectric constant of waveguide\n",
    "w = 1.2     # width of waveguide\n",
    "r = 0.36    # radius of holes\n",
    "\n",
    "# The cell dimensions\n",
    "sy = 12     # size of cell in y direction (perpendicular to wvg.)\n",
    "dpml = 1    # PML thickness (y direction only!)\n",
    "cell = mp.Vector3(1, sy)\n",
    "\n",
    "b = mp.Block(size=mp.Vector3(1e20, w, 1e20), material=mp.Medium(epsilon=eps))\n",
    "c = mp.Cylinder(radius=r)\n",
    "\n",
    "geometry = [b,c]\n",
    "\n",
    "resolution=20"
   ]
  },
  {
   "cell_type": "markdown",
   "id": "90ec51bf-904c-446e-b103-6863bbc1ec50",
   "metadata": {},
   "source": [
    "單元格現在在 x 方向上的大小為 1，並且不需要任何循環來複製幾何圖形  \n",
    "PML 吸收邊界有一些新的東西"
   ]
  },
  {
   "cell_type": "code",
   "execution_count": 3,
   "id": "ab4e059f-02c6-49bf-a2aa-3e750fe3cacc",
   "metadata": {},
   "outputs": [],
   "source": [
    "pml_layers = [mp.PML(dpml, direction=mp.Y)]"
   ]
  },
  {
   "cell_type": "markdown",
   "id": "97bba718-e248-44a6-bd9a-4b5bc5fd8e58",
   "metadata": {},
   "source": [
    "不希望在 𝑥 方向上有任何吸收層  \n",
    "添加 direction=mp.Y 只是在 𝑦 邊界上指定 PML 層\n",
    "\n",
    "source將是來自 𝐻𝑧 point source的Gaussian puls"
   ]
  },
  {
   "cell_type": "code",
   "execution_count": 4,
   "id": "fef391cf-8183-4f95-ba21-023f3cfca7ad",
   "metadata": {},
   "outputs": [],
   "source": [
    "fcen = 0.25  # pulse center frequency\n",
    "df = 1.5     # pulse freq. width: large df = short impulse\n",
    "\n",
    "s = [mp.Source(src=mp.GaussianSource(fcen, fwidth=df), component=mp.Hz,\n",
    "              center=mp.Vector3(0.1234,0))]"
   ]
  },
  {
   "cell_type": "markdown",
   "id": "1622eb99-2c31-41f1-acbe-80c2ba1c2f15",
   "metadata": {},
   "source": [
    "source放在 (0.1234,0) 處  \n",
    "𝑥 坐標是隨機的 確保源將耦合到任意模式 𝑦 坐標為 0  \n",
    "意味著我們將只關注 𝐻𝑧 偏振奇對稱模式  "
   ]
  },
  {
   "cell_type": "code",
   "execution_count": 5,
   "id": "9196ecd2-55e8-463b-bbb4-c610724a5464",
   "metadata": {},
   "outputs": [],
   "source": [
    "sym = [mp.Mirror(direction=mp.Y, phase=-1)]"
   ]
  },
  {
   "cell_type": "markdown",
   "id": "581226ed-261d-4738-bebc-7ca783b3de1d",
   "metadata": {},
   "source": [
    "無論來源如何，我們都沒有 𝑋 對稱平面，因為這種對稱性被 0<𝑘𝑥<𝜋 的邊界條件破壞了"
   ]
  },
  {
   "cell_type": "code",
   "execution_count": 6,
   "id": "04f51b3f-9231-4f87-a0da-6fae09c1606a",
   "metadata": {},
   "outputs": [
    {
     "name": "stdout",
     "output_type": "stream",
     "text": [
      "     block, center = (0,0,0)\n",
      "          size (1e+20,1.2,1e+20)\n",
      "          axes (1,0,0), (0,1,0), (0,0,1)\n",
      "          dielectric constant epsilon diagonal = (13,13,13)\n",
      "     cylinder, center = (0,0,0)\n",
      "          radius 0.36, height 1e+20, axis (0, 0, 1)\n",
      "          dielectric constant epsilon diagonal = (1,1,1)\n"
     ]
    },
    {
     "name": "stderr",
     "output_type": "stream",
     "text": [
      "/home/mark/anaconda3/envs/mp/lib/python3.10/site-packages/numpy/core/getlimits.py:499: UserWarning: The value of the smallest subnormal for <class 'numpy.float64'> type is zero.\n",
      "  setattr(self, word, getattr(machar, word).flat[0])\n",
      "/home/mark/anaconda3/envs/mp/lib/python3.10/site-packages/numpy/core/getlimits.py:89: UserWarning: The value of the smallest subnormal for <class 'numpy.float64'> type is zero.\n",
      "  return self._float_to_str(self.smallest_subnormal)\n"
     ]
    },
    {
     "data": {
      "image/png": "[encoded data removed]",
      "text/plain": [
       "<Figure size 900x600 with 1 Axes>"
      ]
     },
     "metadata": {
      "needs_background": "light"
     },
     "output_type": "display_data"
    }
   ],
   "source": [
    "sim = mp.Simulation(cell_size=cell,\n",
    "                    geometry=geometry,\n",
    "                    boundary_layers=pml_layers,\n",
    "                    sources=s,\n",
    "                    symmetries=sym,\n",
    "                    resolution=resolution)\n",
    "f = plt.figure(dpi=150)\n",
    "sim.plot2D(ax=f.gca())\n",
    "plt.show()"
   ]
  },
  {
   "cell_type": "markdown",
   "id": "bb30a554-0c21-4f75-a5a2-7a6159fc3ef2",
   "metadata": {},
   "source": [
    "通過 k_point 變量設置 𝑘 的值，然後將 until_after_sources 與 Harminv 一起使用"
   ]
  },
  {
   "cell_type": "code",
   "execution_count": 7,
   "id": "7736120e-851d-4c72-b311-4d9f31667208",
   "metadata": {},
   "outputs": [
    {
     "name": "stdout",
     "output_type": "stream",
     "text": [
      "-----------\n",
      "Initializing structure...\n",
      "Halving computational cell along direction y\n",
      "time for choose_chunkdivision = 0.000385046 s\n",
      "Working in 2D dimensions.\n",
      "Computational cell is 1 x 12 x 0 with resolution 20\n",
      "     block, center = (0,0,0)\n",
      "          size (1e+20,1.2,1e+20)\n",
      "          axes (1,0,0), (0,1,0), (0,0,1)\n",
      "          dielectric constant epsilon diagonal = (13,13,13)\n",
      "     cylinder, center = (0,0,0)\n",
      "          radius 0.36, height 1e+20, axis (0, 0, 1)\n",
      "          dielectric constant epsilon diagonal = (1,1,1)\n",
      "time for set_epsilon = 0.00566101 s\n",
      "-----------\n",
      "Meep: using complex fields.\n"
     ]
    },
    {
     "data": {
      "application/vnd.jupyter.widget-view+json": {
       "model_id": "2c5f646b105d4ea3841b604a45c52e8f",
       "version_major": 2,
       "version_minor": 0
      },
      "text/plain": [
       "FloatProgress(value=0.0, description='0% done ', max=306.66666650772095)"
      ]
     },
     "metadata": {},
     "output_type": "display_data"
    },
    {
     "name": "stdout",
     "output_type": "stream",
     "text": [
      "harminv0:, frequency, imag. freq., Q, |amp|, amplitude, error\n",
      "harminv0:, 0.1889817702712737, -3.218623094657481e-09, 29357548.97567227, 0.9173628219234794, 0.6215560187213979-0.6747019065028753i, 2.349158537413511e-09+0.0i\n",
      "harminv0:, 0.3139771683284259, -4.607660678161704e-08, 3407121.2081278074, 0.1681313249224799, -0.160186254001579+0.051073539618183145i, 8.561734369858962e-09+0.0i\n",
      "harminv0:, 0.39531353194030816, 0.0001231747463819234, -1604.6857962044187, 0.03947034109218081, 0.013611923046040773+0.03704893219678215i, 1.4827892230365341e-08+0.0i\n",
      "harminv0:, 0.5829248393897741, -0.001412499404486212, 206.34516288585957, 0.03141667035120538, -0.030763086691828284+0.006374925344454181i, 1.754662774985616e-08+0.0i\n",
      "harminv0:, 0.7249956125507073, -0.002032970106791279, 178.309462133459, 0.07900563017901421, 0.06973686329598451+0.03713030430282425i, 4.664119617463905e-08+0.0i\n",
      "harminv0:, 0.7767057476818011, -0.005004962007989345, 77.59357078454916, 0.048909310399164185, 0.03731786345296979-0.031614833718166084i, 2.4343016086363723e-07+0.0i\n",
      "harminv0:, 0.7981755599463685, -0.00013432635610158237, 2971.031088428989, 0.04592126123268278, 0.021634137056753905-0.04050588040037992i, 1.4952779339982168e-08+0.0i\n",
      "harminv0:, 0.8574047821747662, -0.003268281421829853, 131.17058654250167, 0.03045827718539745, -0.013804601142225712-0.0271503155857637i, 1.875025593779443e-07+0.0i\n",
      "harminv0:, 0.9466701010076919, -0.005634566242622639, 84.00558802970602, 0.01224445385396989, -0.00444789867397486+0.011408016811350287i, 1.3725678843720179e-06+0.0i\n",
      "harminv0:, 0.9641999428082555, -0.004561642967764596, 105.68559942348529, 0.001074256722138037, 0.0007328452983002311-0.0007854713704636249i, 1.251762281454245e-05+0.0i\n",
      "harminv0:, 0.9934222175239651, -0.004020951534538556, 123.53073756184557, 0.001850813283034468, 0.00019459922533584105+0.0018405545224620531i, 3.6726056610089475e-06+0.0i\n",
      "run 0 finished at t = 306.675 (12267 timesteps)\n"
     ]
    }
   ],
   "source": [
    "kx = 0.4\n",
    "sim.k_point = mp.Vector3(kx)\n",
    "\n",
    "sim.run(mp.after_sources(mp.Harminv(mp.Hz, mp.Vector3(0.1234), fcen, df)),\n",
    "        until_after_sources=300)"
   ]
  },
  {
   "cell_type": "markdown",
   "id": "14f30df6-6d08-4ff6-b637-5cad3fe53a72",
   "metadata": {},
   "source": [
    "給了我們單個 𝑘=0.4⋅2𝜋𝑥̂ 的頻率  \n",
    "在 Meep 中，𝑘 被指定為坐標中的向量，單位為 2𝜋 /distance  \n",
    "與 MPB 不同，後者使用倒數格向量的基礎  \n",
    "有一個內置函數將在源完成後運行一段時間作為輸入，如上面的 300，以及 𝑘 點列表"
   ]
  },
  {
   "cell_type": "code",
   "execution_count": 8,
   "id": "9a0b5713-ae8a-48e8-91ef-9cc18f8dca85",
   "metadata": {},
   "outputs": [],
   "source": [
    "%%capture\n",
    "sim.restart_fields()\n",
    "k_interp = 19\n",
    "kpts = mp.interpolate(k_interp, [mp.Vector3(0), mp.Vector3(0.5)])\n",
    "all_freqs = sim.run_k_points(300, kpts)"
   ]
  },
  {
   "cell_type": "markdown",
   "id": "2df68f8a-73ba-4d4b-b713-6e973f779de6",
   "metadata": {},
   "source": [
    "𝑘=0 和 𝑘=0.5⋅2𝜋𝑥̂ 之間插入一組 19 個𝑘點，以覆蓋irreducible Brillouin zone  \n",
    "此函數使用從源列表中的高斯源獲取的頻率範圍和位置自動運行 Harminv  \n",
    "\n",
    "繪製 𝜔 的實部，其中light cone 𝜔>𝑐𝑘 為灰色陰影，我們發現"
   ]
  },
  {
   "cell_type": "code",
   "execution_count": 9,
   "id": "93471ac8-4386-41bb-ba5b-abe26418e8ad",
   "metadata": {},
   "outputs": [
    {
     "data": {
      "image/png": "[encoded data removed]",
      "text/plain": [
       "<Figure size 500x500 with 1 Axes>"
      ]
     },
     "metadata": {
      "needs_background": "light"
     },
     "output_type": "display_data"
    }
   ],
   "source": [
    "kx = [k.x for k in kpts]\n",
    "fig = plt.figure(dpi=100,figsize=(5,5))\n",
    "ax = plt.subplot(111)\n",
    "for i in range(len(all_freqs)):\n",
    "    for ii in range(len(all_freqs[i])):\n",
    "        plt.scatter(kx[i],np.real(all_freqs[i][ii]),color='b')\n",
    "\n",
    "ax.fill_between(kx, kx, 1.0, interpolate=True, color='gray', alpha = 0.3)\n",
    "plt.xlim(0,0.5)\n",
    "plt.ylim(0,1)\n",
    "plt.grid(True)\n",
    "plt.xlabel('$k_x(2\\pi)$')\n",
    "plt.ylabel('$\\omega(2\\pi c)$')\n",
    "plt.tight_layout()\n",
    "plt.show()"
   ]
  },
  {
   "cell_type": "markdown",
   "id": "94804890-3bf0-450f-8f70-326e46272f15",
   "metadata": {},
   "source": [
    "灰色陰影區域是light cone 𝜔>𝑐𝑘𝑥 它是對應於在波導周圍的空氣中擴展的模式的區域  \n",
    "在light cone下方，我們看到了幾個離散的guided bands，它們必須具有位於波導附近的場模式  \n",
    "由於數值誤差或有限的計算單元大小，light cone以下波段的 𝜔 的虛部非常小  \n",
    "guided mode的一小部分與 PML 重疊  一和第二導模之間的guided mode，從大約 0.2 到 0.3  \n",
    "\n",
    "light cone內我們還看到了幾個離散的波段 這些是洩漏模式或共振，它們具有一些固定的lifetime  \n",
    "因為它們與光錐內的輻射狀態耦合，這反映在它們的虛部 𝜔 中  \n",
    "對於波導，報告每單位距離的損耗更為常規  \n",
    "為了得到這個，你可以將單位時間的損失除以群速度|𝑑𝜔/𝑑𝑘𝑥|=|𝑠𝑙𝑜𝑝𝑒|  \n",
    "Harminv 僅識別具有相當長壽命的洩漏模式 (默認閾值是 50 個週期的生命週期或 𝑄)  \n",
    "\n",
    "使用像 Meep 這樣的時域程序計算能帶圖，特別是對於洩漏模式，涉及到一些微妙之處。  \n",
    "如果我們指定太大的 df（太窄的源），Harminv 的準確度將會下降，因為增加的模式數量會使信號處理更加病態  \n",
    "有時，Harminv 會報告一個虛假的mode 將在圖上顯示為一個孤立的點  \n",
    "有時必須小心模式，尤其是虛部，以確保它們不是由於單元太小或信號處理錯誤太大（因為運行時間太短或因為搜索的帶寬太大）  \n",
    "前 Meep 並未嘗試為頻段“連接點”——頻率按遞增順序打印，但由於模式在其損失變得太大時消失，這意味著單個頻段可能會被分成幾列  \n",
    "\n",
    "似乎有一些band正好沿著光錐的邊緣延伸  \n",
    "這些不是洩漏模式，而是 PML 邊界不能很好地吸收平行於邊界傳播的光這一事實的偽影  \n",
    "下面，我們將看到這些模式並不局限於波導。  \n",
    "\n",
    "使用窄帶寬源以您想要的特定 ω 和 k 重新運行模擬，並輸出場模式 就像我們對諧振腔模式所做的那樣\n",
    "以下幾種模式執行此操作：\n",
    "\n",
    "* $k_x=0.4, \\omega=0.1896$ guided mode\n",
    "* $k_x=0.4, \\omega=0.3175$ guided mode\n",
    "* $k_x=0.1, \\omega=0.4811−0.0017i$ leaky mode\n",
    "* $k_x=0.3, \\omega=0.8838−0.0018i$ leaky mode\n",
    "* $k_x=0.25, \\omega=0.2506$ light-cone (extended) mode\n"
   ]
  },
  {
   "cell_type": "code",
   "execution_count": 10,
   "id": "17a83a25-d612-4133-88ef-6a42ad5baf43",
   "metadata": {},
   "outputs": [],
   "source": [
    "def run_sim(kx, omega, filename):\n",
    "    s = [mp.Source(src=mp.GaussianSource(omega, fwidth=0.01), component=mp.Hz,\n",
    "              center=mp.Vector3(0.1234,0))]\n",
    "    sim = mp.Simulation(cell_size=cell,\n",
    "                    geometry=geometry,\n",
    "                    boundary_layers=pml_layers,\n",
    "                    sources=s,\n",
    "                    symmetries=sym,\n",
    "                    k_point = mp.Vector3(kx),\n",
    "                    resolution=resolution)\n",
    "    f = plt.figure(dpi=100)\n",
    "    animate = mp.Animate2D(sim,fields=mp.Hz,f=f,normalize=True,realtime=False)\n",
    "    sim.run(mp.at_every(5,animate),until_after_sources=1)\n",
    "    animate.to_mp4(10,filename)\n",
    "    plt.close()"
   ]
  },
  {
   "cell_type": "code",
   "execution_count": 11,
   "id": "abcc3ac2-f672-4453-9cb9-a0662fff6b76",
   "metadata": {},
   "outputs": [
    {
     "name": "stdout",
     "output_type": "stream",
     "text": [
      "-----------\n",
      "Initializing structure...\n",
      "Halving computational cell along direction y\n",
      "time for choose_chunkdivision = 0.00145507 s\n",
      "Working in 2D dimensions.\n",
      "Computational cell is 1 x 12 x 0 with resolution 20\n",
      "     block, center = (0,0,0)\n",
      "          size (1e+20,1.2,1e+20)\n",
      "          axes (1,0,0), (0,1,0), (0,0,1)\n",
      "          dielectric constant epsilon diagonal = (13,13,13)\n",
      "     cylinder, center = (0,0,0)\n",
      "          radius 0.36, height 1e+20, axis (0, 0, 1)\n",
      "          dielectric constant epsilon diagonal = (1,1,1)\n",
      "time for set_epsilon = 0.0063622 s\n",
      "-----------\n",
      "Meep: using complex fields.\n"
     ]
    },
    {
     "data": {
      "application/vnd.jupyter.widget-view+json": {
       "model_id": "7d3341d14c8d4c35946fb959b899c7cb",
       "version_major": 2,
       "version_minor": 0
      },
      "text/plain": [
       "FloatProgress(value=0.0, description='0% done ', max=1001.0)"
      ]
     },
     "metadata": {},
     "output_type": "display_data"
    },
    {
     "name": "stdout",
     "output_type": "stream",
     "text": [
      "     block, center = (0,0,0)\n",
      "          size (1e+20,1.2,1e+20)\n",
      "          axes (1,0,0), (0,1,0), (0,0,1)\n",
      "          dielectric constant epsilon diagonal = (13,13,13)\n",
      "     cylinder, center = (0,0,0)\n",
      "          radius 0.36, height 1e+20, axis (0, 0, 1)\n",
      "          dielectric constant epsilon diagonal = (1,1,1)\n",
      "Normalizing field data...\n",
      "run 0 finished at t = 1001.0 (40040 timesteps)\n",
      "Generating MP4...\n",
      "-----------\n",
      "Initializing structure...\n",
      "Halving computational cell along direction y\n",
      "time for choose_chunkdivision = 0.000666857 s\n",
      "Working in 2D dimensions.\n",
      "Computational cell is 1 x 12 x 0 with resolution 20\n",
      "     block, center = (0,0,0)\n",
      "          size (1e+20,1.2,1e+20)\n",
      "          axes (1,0,0), (0,1,0), (0,0,1)\n",
      "          dielectric constant epsilon diagonal = (13,13,13)\n",
      "     cylinder, center = (0,0,0)\n",
      "          radius 0.36, height 1e+20, axis (0, 0, 1)\n",
      "          dielectric constant epsilon diagonal = (1,1,1)\n",
      "time for set_epsilon = 0.00580716 s\n",
      "-----------\n",
      "Meep: using complex fields.\n"
     ]
    },
    {
     "data": {
      "application/vnd.jupyter.widget-view+json": {
       "model_id": "aa12f079639343efbca525f3035fe5b6",
       "version_major": 2,
       "version_minor": 0
      },
      "text/plain": [
       "FloatProgress(value=0.0, description='0% done ', max=1001.0)"
      ]
     },
     "metadata": {},
     "output_type": "display_data"
    },
    {
     "name": "stdout",
     "output_type": "stream",
     "text": [
      "     block, center = (0,0,0)\n",
      "          size (1e+20,1.2,1e+20)\n",
      "          axes (1,0,0), (0,1,0), (0,0,1)\n",
      "          dielectric constant epsilon diagonal = (13,13,13)\n",
      "     cylinder, center = (0,0,0)\n",
      "          radius 0.36, height 1e+20, axis (0, 0, 1)\n",
      "          dielectric constant epsilon diagonal = (1,1,1)\n",
      "Normalizing field data...\n",
      "run 0 finished at t = 1001.0 (40040 timesteps)\n",
      "Generating MP4...\n",
      "-----------\n",
      "Initializing structure...\n",
      "Halving computational cell along direction y\n",
      "time for choose_chunkdivision = 0.000838995 s\n",
      "Working in 2D dimensions.\n",
      "Computational cell is 1 x 12 x 0 with resolution 20\n",
      "     block, center = (0,0,0)\n",
      "          size (1e+20,1.2,1e+20)\n",
      "          axes (1,0,0), (0,1,0), (0,0,1)\n",
      "          dielectric constant epsilon diagonal = (13,13,13)\n",
      "     cylinder, center = (0,0,0)\n",
      "          radius 0.36, height 1e+20, axis (0, 0, 1)\n",
      "          dielectric constant epsilon diagonal = (1,1,1)\n",
      "time for set_epsilon = 0.00550699 s\n",
      "-----------\n",
      "Meep: using complex fields.\n"
     ]
    },
    {
     "data": {
      "application/vnd.jupyter.widget-view+json": {
       "model_id": "34fe6e1ce89544d49dc5fc629695ecdf",
       "version_major": 2,
       "version_minor": 0
      },
      "text/plain": [
       "FloatProgress(value=0.0, description='0% done ', max=1001.0)"
      ]
     },
     "metadata": {},
     "output_type": "display_data"
    },
    {
     "name": "stdout",
     "output_type": "stream",
     "text": [
      "     block, center = (0,0,0)\n",
      "          size (1e+20,1.2,1e+20)\n",
      "          axes (1,0,0), (0,1,0), (0,0,1)\n",
      "          dielectric constant epsilon diagonal = (13,13,13)\n",
      "     cylinder, center = (0,0,0)\n",
      "          radius 0.36, height 1e+20, axis (0, 0, 1)\n",
      "          dielectric constant epsilon diagonal = (1,1,1)\n",
      "Normalizing field data...\n",
      "run 0 finished at t = 1001.0 (40040 timesteps)\n",
      "Generating MP4...\n",
      "-----------\n",
      "Initializing structure...\n",
      "Halving computational cell along direction y\n",
      "time for choose_chunkdivision = 0.000528097 s\n",
      "Working in 2D dimensions.\n",
      "Computational cell is 1 x 12 x 0 with resolution 20\n",
      "     block, center = (0,0,0)\n",
      "          size (1e+20,1.2,1e+20)\n",
      "          axes (1,0,0), (0,1,0), (0,0,1)\n",
      "          dielectric constant epsilon diagonal = (13,13,13)\n",
      "     cylinder, center = (0,0,0)\n",
      "          radius 0.36, height 1e+20, axis (0, 0, 1)\n",
      "          dielectric constant epsilon diagonal = (1,1,1)\n",
      "time for set_epsilon = 0.00569701 s\n",
      "-----------\n",
      "Meep: using complex fields.\n"
     ]
    },
    {
     "data": {
      "application/vnd.jupyter.widget-view+json": {
       "model_id": "53ebe714bef6464c820b01a8872fbd1b",
       "version_major": 2,
       "version_minor": 0
      },
      "text/plain": [
       "FloatProgress(value=0.0, description='0% done ', max=1001.0)"
      ]
     },
     "metadata": {},
     "output_type": "display_data"
    },
    {
     "name": "stdout",
     "output_type": "stream",
     "text": [
      "     block, center = (0,0,0)\n",
      "          size (1e+20,1.2,1e+20)\n",
      "          axes (1,0,0), (0,1,0), (0,0,1)\n",
      "          dielectric constant epsilon diagonal = (13,13,13)\n",
      "     cylinder, center = (0,0,0)\n",
      "          radius 0.36, height 1e+20, axis (0, 0, 1)\n",
      "          dielectric constant epsilon diagonal = (1,1,1)\n",
      "Normalizing field data...\n",
      "run 0 finished at t = 1001.0 (40040 timesteps)\n",
      "Generating MP4...\n",
      "-----------\n",
      "Initializing structure...\n",
      "Halving computational cell along direction y\n",
      "time for choose_chunkdivision = 0.000443935 s\n",
      "Working in 2D dimensions.\n",
      "Computational cell is 1 x 12 x 0 with resolution 20\n",
      "     block, center = (0,0,0)\n",
      "          size (1e+20,1.2,1e+20)\n",
      "          axes (1,0,0), (0,1,0), (0,0,1)\n",
      "          dielectric constant epsilon diagonal = (13,13,13)\n",
      "     cylinder, center = (0,0,0)\n",
      "          radius 0.36, height 1e+20, axis (0, 0, 1)\n",
      "          dielectric constant epsilon diagonal = (1,1,1)\n",
      "time for set_epsilon = 0.00599885 s\n",
      "-----------\n",
      "Meep: using complex fields.\n"
     ]
    },
    {
     "data": {
      "application/vnd.jupyter.widget-view+json": {
       "model_id": "2e430b0fcf5148a3b702f398e9f002c8",
       "version_major": 2,
       "version_minor": 0
      },
      "text/plain": [
       "FloatProgress(value=0.0, description='0% done ', max=1001.0)"
      ]
     },
     "metadata": {},
     "output_type": "display_data"
    },
    {
     "name": "stdout",
     "output_type": "stream",
     "text": [
      "     block, center = (0,0,0)\n",
      "          size (1e+20,1.2,1e+20)\n",
      "          axes (1,0,0), (0,1,0), (0,0,1)\n",
      "          dielectric constant epsilon diagonal = (13,13,13)\n",
      "     cylinder, center = (0,0,0)\n",
      "          radius 0.36, height 1e+20, axis (0, 0, 1)\n",
      "          dielectric constant epsilon diagonal = (1,1,1)\n",
      "Normalizing field data...\n",
      "run 0 finished at t = 1001.0 (40040 timesteps)\n",
      "Generating MP4...\n"
     ]
    }
   ],
   "source": [
    "kx = [0.4,0.4,0.1,0.3,0.25]\n",
    "omega = [0.1896,0.3175,0.4811,0.8838,0.2506]\n",
    "filename = ['holey-wvg-bands-{}-{}.mp4'.format(k,om) for (k,om) in zip (kx,omega)]\n",
    "for (k,om,fn) in zip(kx,omega,filename):\n",
    "    run_sim(*[k,om,fn])"
   ]
  },
  {
   "cell_type": "code",
   "execution_count": 12,
   "id": "445b790a-fb86-419e-b6d3-6b194e118cc2",
   "metadata": {},
   "outputs": [
    {
     "data": {
      "text/html": [
       "<video src=\"holey-wvg-bands-0.4-0.1896.mp4\" controls  >\n",
       "      Your browser does not support the <code>video</code> element.\n",
       "    </video>"
      ],
      "text/plain": [
       "<IPython.core.display.Video object>"
      ]
     },
     "metadata": {},
     "output_type": "display_data"
    },
    {
     "data": {
      "text/html": [
       "<video src=\"holey-wvg-bands-0.4-0.3175.mp4\" controls  >\n",
       "      Your browser does not support the <code>video</code> element.\n",
       "    </video>"
      ],
      "text/plain": [
       "<IPython.core.display.Video object>"
      ]
     },
     "metadata": {},
     "output_type": "display_data"
    },
    {
     "data": {
      "text/html": [
       "<video src=\"holey-wvg-bands-0.1-0.4811.mp4\" controls  >\n",
       "      Your browser does not support the <code>video</code> element.\n",
       "    </video>"
      ],
      "text/plain": [
       "<IPython.core.display.Video object>"
      ]
     },
     "metadata": {},
     "output_type": "display_data"
    },
    {
     "data": {
      "text/html": [
       "<video src=\"holey-wvg-bands-0.3-0.8838.mp4\" controls  >\n",
       "      Your browser does not support the <code>video</code> element.\n",
       "    </video>"
      ],
      "text/plain": [
       "<IPython.core.display.Video object>"
      ]
     },
     "metadata": {},
     "output_type": "display_data"
    },
    {
     "data": {
      "text/html": [
       "<video src=\"holey-wvg-bands-0.25-0.2506.mp4\" controls  >\n",
       "      Your browser does not support the <code>video</code> element.\n",
       "    </video>"
      ],
      "text/plain": [
       "<IPython.core.display.Video object>"
      ]
     },
     "metadata": {},
     "output_type": "display_data"
    }
   ],
   "source": [
    "import IPython\n",
    "for i in range(len(filename)):\n",
    "    IPython.display.display(IPython.display.Video(filename[i]))"
   ]
  },
  {
   "cell_type": "markdown",
   "id": "58bd2f25-3c38-4e2b-b378-3c90656812b3",
   "metadata": {},
   "source": [
    "從頂部開始，前兩張圖片顯示了在 𝑘𝑥=0.4 處 light cone下方的前兩個guided bands  \n",
    "第二個guided bands 向左傳播，這是由於其負斜率（但請注意，在𝑘𝑥=−0.4 處存在相應的右傳播模式）  \n",
    "\n",
    "下一個模式是 𝑘𝑥=0.1 處的第一個洩漏模式  \n",
    "隨著𝑘𝑥 變為零，這種模式實際上變得無損，這是一種與 Phys 中展示的效果相關的對稱特性  \n",
    "然而，在這個非零 𝑘𝑥 處，輻射損失清晰可見  \n",
    "\n",
    "下一個模式是能帶圖中可見的許多高階洩漏模式之一  \n",
    "在 𝑘𝑥=0.3 ，𝜔=0.8838−0.0018𝑖 處任意選擇反向傳播模式進行繪圖  \n",
    "從場圖可以看出，這種模式在材料中具有非常短的波長  \n",
    "這足夠短，值得檢查有限分辨率引入的誤差有多大  \n",
    "通過將分辨率翻倍至 40 像素/單位，我們發現此模式已轉變為 𝜔ω=0.8996−0.0021𝑖 ，或者在較低分辨率下大約有 2% 的誤差  \n",
    "\n",
    "最後，我們展示了沿著light cone邊緣的一種模式，在𝑘𝑥=0.25，𝜔=0.2506  \n",
    "這種模式顯然不局限於波導，只是在平行於波導的空氣中傳播——也就是說，它實際上是擴展模式連續體的一部分，它的離散性是有限單元和不完美邊界條件的產物  \n",
    "對於完全平行於邊界傳播的光，PML 不是很有效，所以對於這個場，ω 的虛部只有 -0.0008"
   ]
  }
 ],
 "metadata": {
  "kernelspec": {
   "display_name": "Python 3 (ipykernel)",
   "language": "python",
   "name": "python3"
  },
  "language_info": {
   "codemirror_mode": {
    "name": "ipython",
    "version": 3
   },
   "file_extension": ".py",
   "mimetype": "text/x-python",
   "name": "python",
   "nbconvert_exporter": "python",
   "pygments_lexer": "ipython3",
   "version": "3.10.5"
  }
 },
 "nbformat": 4,
 "nbformat_minor": 5
}

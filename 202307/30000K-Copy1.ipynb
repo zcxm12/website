{
 "cells": [
  {
   "cell_type": "markdown",
   "id": "163f6d34-fb97-41b5-a54e-fb40b7fc6c81",
   "metadata": {},
   "source": [
    "## 設定檔"
   ]
  },
  {
   "cell_type": "code",
   "execution_count": 2,
   "id": "5a455cf0-6829-4712-a34c-75d9861b1f20",
   "metadata": {
    "tags": []
   },
   "outputs": [],
   "source": [
    "import numpy as np\n",
    "import matplotlib.pyplot as plt\n",
    "import time\n",
    "from scipy import signal\n",
    "from time import sleep\n",
    "import sys"
   ]
  },
  {
   "cell_type": "markdown",
   "id": "219b7003-8da6-4b06-8310-97485cbaa957",
   "metadata": {},
   "source": [
    "## 變數設定  \n",
    "total timestep $M = 2^{21}$  \n",
    "total simulation time $ \\tau_{sim} = 7 ps $  \n",
    "#### $\\delta = \\sqrt{\\frac{1}{\\epsilon_0  \\hbar }} k T$"
   ]
  },
  {
   "cell_type": "code",
   "execution_count": 3,
   "id": "8316bf1d-adeb-4aa3-b665-c0ebb9a90a29",
   "metadata": {
    "tags": []
   },
   "outputs": [],
   "source": [
    "#setup some constants and parameters\n",
    "M=2**21 #模擬步數\n",
    "tsim=7e-12 #模擬長度\n",
    "eps0 = 8.854187e-12 \n",
    "hbar = 1.05457182e-34\n",
    "c = 2.99792458e8\n",
    "kb = 1.380649e-23\n",
    "hdk=7.63823258e-12 # hbar/kb\n",
    "T=30000\n",
    "deltap = np.sqrt(1/3/eps0/hbar/c)*kb*T #小delta\n",
    "frequency = np.linspace(0, 25, 2*M)*10**15\n",
    "omega = frequency*2*np.pi"
   ]
  },
  {
   "cell_type": "markdown",
   "id": "88ce4343-db3f-4678-be28-3e3ec636365f",
   "metadata": {},
   "source": [
    "## D\n",
    "$$D (\\omega,T) = \\frac{\\hbar}{\\pi c}\\left(\\frac{\\omega}{\\exp\\frac{\\hbar\\omega}{k T}-1}\\right)$$"
   ]
  },
  {
   "cell_type": "code",
   "execution_count": 4,
   "id": "74991c11-217a-4c22-b390-fcf5862013ab",
   "metadata": {
    "tags": []
   },
   "outputs": [],
   "source": [
    "def D(omega,T):\n",
    "    return(hbar*omega/np.pi/c/(np.exp(hdk*omega/T)-1))"
   ]
  },
  {
   "cell_type": "markdown",
   "id": "7d9807e5-e312-427e-9ca6-317a56d584d1",
   "metadata": {},
   "source": [
    "## D繪圖"
   ]
  },
  {
   "cell_type": "code",
   "execution_count": 5,
   "id": "9a415cd5-7079-4ba6-b670-aa29665c3ec2",
   "metadata": {},
   "outputs": [
    {
     "name": "stderr",
     "output_type": "stream",
     "text": [
      "/tmp/ipykernel_672/2430332773.py:2: RuntimeWarning: invalid value encountered in true_divide\n",
      "  return(hbar*omega/np.pi/c/(np.exp(hdk*omega/T)-1))\n"
     ]
    },
    {
     "data": {
      "text/plain": [
       "Text(0, 0.5, 'Magnitude')"
      ]
     },
     "execution_count": 5,
     "metadata": {},
     "output_type": "execute_result"
    },
    {
     "data": {
      "image/png": "[encoded data removed]",
      "text/plain": [
       "<Figure size 432x288 with 1 Axes>"
      ]
     },
     "metadata": {
      "needs_background": "light"
     },
     "output_type": "display_data"
    }
   ],
   "source": [
    "plt.plot(omega,D(omega,50000),'.',label='50000K')\n",
    "plt.plot(omega,D(omega,T),'.',label='30000K')\n",
    "plt.xlim(0,25e15)\n",
    "plt.ylim(0,7.5e-28)\n",
    "plt.legend()\n",
    "plt.xlabel('Frequency (Hz)')\n",
    "plt.ylabel('Magnitude')"
   ]
  },
  {
   "cell_type": "markdown",
   "id": "ed5d818a-3c8c-436b-8195-1fbc4791f73f",
   "metadata": {},
   "source": [
    "## $D_n^{\\frac{1}{2}}$\n",
    "$$D_n (\\omega,T) = \\frac{6\\hbar^2}{\\pi k_B^2  T^2}\\left(\\frac{\\omega}{\\exp\\frac{\\hbar\\omega}{k T}-1}\\right)$$"
   ]
  },
  {
   "cell_type": "code",
   "execution_count": 6,
   "id": "32fb4936-597f-47e5-a397-c87ba01ea4ba",
   "metadata": {
    "tags": []
   },
   "outputs": [],
   "source": [
    "#define square root of Dn function\n",
    "def Dnsqt(wla,T):\n",
    "    return np.sqrt(6*hdk**2*wla/(np.exp(hdk*wla/T)-1)/T**2/np.pi)\n",
    "wla = np.linspace(0,2*np.pi*2*M/tsim, 2*M)"
   ]
  },
  {
   "cell_type": "markdown",
   "id": "3dd1b2c9-c214-4719-949f-c35958924713",
   "metadata": {},
   "source": [
    "## 繪圖\n",
    "#### $\\frac{\\delta}{\\sqrt{\\tau_{sim}}} D_n^{\\frac{1}{2}}$\n",
    "#### ($D_n^{\\frac{1}{2}}$)"
   ]
  },
  {
   "cell_type": "code",
   "execution_count": 7,
   "id": "f5d82f1f-bfd6-43e5-8560-5e62d458358f",
   "metadata": {},
   "outputs": [
    {
     "name": "stderr",
     "output_type": "stream",
     "text": [
      "/tmp/ipykernel_672/31513160.py:3: RuntimeWarning: invalid value encountered in true_divide\n",
      "  return np.sqrt(6*hdk**2*wla/(np.exp(hdk*wla/T)-1)/T**2/np.pi)\n",
      "/tmp/ipykernel_672/31513160.py:3: RuntimeWarning: overflow encountered in exp\n",
      "  return np.sqrt(6*hdk**2*wla/(np.exp(hdk*wla/T)-1)/T**2/np.pi)\n"
     ]
    },
    {
     "data": {
      "text/plain": [
       "Text(0, 0.5, 'Magnitude')"
      ]
     },
     "execution_count": 7,
     "metadata": {},
     "output_type": "execute_result"
    },
    {
     "data": {
      "image/png": "[encoded data removed]",
      "text/plain": [
       "<Figure size 432x288 with 1 Axes>"
      ]
     },
     "metadata": {
      "needs_background": "light"
     },
     "output_type": "display_data"
    }
   ],
   "source": [
    "plt.plot(wla,deltap*Dnsqt(abs(wla),50000)*5/3/np.sqrt(tsim),'.',label='50000K')\n",
    "plt.plot(wla,deltap*Dnsqt(abs(wla),T)/np.sqrt(tsim),'.',label='30000K')\n",
    "plt.ylim(0,0.005)\n",
    "#plt.plot(wla,Dnsqt(abs(wla),50000),'.',label='50000K')\n",
    "#plt.plot(wla,Dnsqt(abs(wla),T),'.',label='30000K')\n",
    "#plt.ylim(0,2.5e-8)\n",
    "plt.xlim(0,5e16)\n",
    "plt.legend()\n",
    "plt.xlabel('Frequency (Hz)')\n",
    "plt.ylabel('Magnitude')"
   ]
  },
  {
   "cell_type": "markdown",
   "id": "efd81bfc-f1d2-4f9b-98c3-de5496f990b5",
   "metadata": {},
   "source": [
    "## 設定空Dn數列\n",
    "因為$ 1 \\sim M = -1 \\sim -M $conjutated to each other  "
   ]
  },
  {
   "cell_type": "code",
   "execution_count": 8,
   "id": "cabfdafc-1b2f-40f5-b25e-83b1d9256ad7",
   "metadata": {
    "tags": []
   },
   "outputs": [],
   "source": [
    "#generate an array of the square root of Dn function\n",
    "Dsqt = []\n",
    "for n in range(1,M):\n",
    "    Dsqt.append(Dnsqt(2*np.pi*n/tsim,T))"
   ]
  },
  {
   "cell_type": "markdown",
   "id": "dcccbb6d-f3cc-4cec-be36-ce9db2ea2dd6",
   "metadata": {},
   "source": [
    "## 設定重複計算頻均次數"
   ]
  },
  {
   "cell_type": "code",
   "execution_count": 9,
   "id": "759ea313-b6c3-4c24-8e0a-65f58b1d4900",
   "metadata": {
    "tags": []
   },
   "outputs": [],
   "source": [
    "#define how many times to run to average the results\n",
    "Ncomp=10\n",
    "#define the starting sum of the result\n",
    "Efsum = np.zeros(2*M)"
   ]
  },
  {
   "attachments": {
    "6ffce05e-4b2c-4589-986a-bbb9c3a4154c.png": {
     "image/png": "[encoded data removed]"
    }
   },
   "cell_type": "markdown",
   "id": "31887279-aa2c-424f-ad56-bca21101af39",
   "metadata": {},
   "source": [
    "## FFT 過程 包含數列擺正\n",
    "![image.png](attachment:6ffce05e-4b2c-4589-986a-bbb9c3a4154c.png)  \n",
    "When $\\omega = 0$ causes the numerical problem. The remedy is to use Taylor expansion as $x\\ll 1$.\n",
    "\n",
    "$$\\frac{1}{\\exp{x}-1} = 1 - \\frac{x}{2} + \\frac{x^2}{12}-\\frac{x^4}{720}+O(x^6)$$  \n",
    "so $ M = 0 $ calculate separately  \n",
    "and calculate separately $ M = 1 $ to make FFT complete\n",
    "\n",
    "$E_{f0} \\Rightarrow M = 0$  \n",
    "$E_{flp} \\Rightarrow M = 1 \\sim M-1$  \n",
    "$E_{flm} \\Rightarrow M = -1 \\sim -M$  \n",
    "$E_{fM} \\Rightarrow M = M$  \n",
    "$E_f \\Rightarrow E_{f0} \\to E_{flp} \\to E_{flm} \\to E_{fM}$  \n",
    "\n",
    "\n",
    "$E_{fn} = \\frac{\\delta E_f}{\\tau_{sim}} $\n",
    "\n",
    "E_n = FFT"
   ]
  },
  {
   "cell_type": "code",
   "execution_count": 10,
   "id": "38662fc2-a174-45e9-bcc6-9baf4e3bb94c",
   "metadata": {},
   "outputs": [
    {
     "name": "stdout",
     "output_type": "stream",
     "text": [
      "[mmmmmmmmmmmmmmmmmmmmmmmmmmmmmmmmmmmmmmmmmmmmmmmmmmmmmmmmmmmmmmmmmmmmmmmmmmmmmmmmmmmmmmmmmm] 90%"
     ]
    }
   ],
   "source": [
    "for i in range(Ncomp):\n",
    "    \n",
    "    #generate random numbers\n",
    "    M0 = np.random.normal(0,1)\n",
    "    Mlp = np.random.normal(0,1,M-1)\n",
    "    Nlp = np.random.normal(0,1,M-1)\n",
    "    MM = np.random.normal(0,1)\n",
    "    \n",
    "    #generate the array of the fourier transform of E field, we generate l=0 and l=-M separately. \n",
    "    #for l=1 to M-1 and l=-1 to -(M-1) are conjutated to each other. \n",
    "    #we contruct the whole array by gluing them together by the order from l=0 -> l=M-1 -> l=-M -> l=-(m-1) -> l=-1\n",
    "    Ef0 = np.array([M0*np.sqrt(6*hdk/np.pi/T)])\n",
    "    Eflp = np.multiply((Mlp + 1j*Nlp), Dsqt)\n",
    "    Eflm = np.flip(np.conjugate(Eflp))\n",
    "    EfM = np.array([MM*Dnsqt(2*np.pi*M/tsim,T)])\n",
    "    Ef = np.hstack((Ef0,Eflp,EfM,Eflm))\n",
    "    \n",
    "    #we normalize Ef and compute its inverse fast fourier transform\n",
    "    Efn = deltap/np.sqrt(tsim)*Ef\n",
    "    En = np.fft.ifft(Efn)\n",
    "    \n",
    "    #we compute self correlation of En\n",
    "    Eautoc = signal.correlate(En,En)\n",
    "    Eautocf = np.fft.fft(Eautoc[len(En)-1:])\n",
    "    \n",
    "    #extract the real value and add the value of this loop to the total sum\n",
    "    Eautocf = np.real(Eautocf)\n",
    "    Efsum += Eautocf\n",
    "    \n",
    "    #generate some feedback to check the progress of the loop\n",
    "    x = i/Ncomp*100\n",
    "    sys.stdout.write('\\r')\n",
    "    sys.stdout.write(\"[%-20s] %d%%\" % ('m'*int(x), int(x)))\n",
    "    sys.stdout.flush()\n",
    "    sleep(0.0001)\n",
    "\n",
    "#average the final result\n",
    "Efavg = Efsum/Ncomp\n",
    "\n"
   ]
  },
  {
   "cell_type": "markdown",
   "id": "d976587e-0594-41a5-b3b7-af457ab473c3",
   "metadata": {},
   "source": [
    "## 紀錄 數據"
   ]
  },
  {
   "cell_type": "code",
   "execution_count": 11,
   "id": "89c836dd-5b38-4ead-a057-27581e417602",
   "metadata": {
    "tags": []
   },
   "outputs": [],
   "source": [
    "#save data to some file or reload file to write more data on it\n",
    "#np.savez(\"Efavg_v3.npz\", Efavg_30000 = Efavg)\n",
    "#data = np.load(\"Efavg_v3.npz\")\n",
    "#data = dict(data)\n",
    "#data[\"Efavg_30000\"] = Efavg\n",
    "#np.savez(\"Efavg_v3.npz\",**data)\n"
   ]
  },
  {
   "cell_type": "code",
   "execution_count": 1,
   "id": "fd846119-c59c-4523-9edd-39d32580fd70",
   "metadata": {},
   "outputs": [
    {
     "ename": "NameError",
     "evalue": "name 'plt' is not defined",
     "output_type": "error",
     "traceback": [
      "\u001b[0;31m---------------------------------------------------------------------------\u001b[0m",
      "\u001b[0;31mNameError\u001b[0m                                 Traceback (most recent call last)",
      "Input \u001b[0;32mIn [1]\u001b[0m, in \u001b[0;36m<cell line: 1>\u001b[0;34m()\u001b[0m\n\u001b[0;32m----> 1\u001b[0m \u001b[43mplt\u001b[49m\u001b[38;5;241m.\u001b[39mplot(wla,Efavg\u001b[38;5;241m*\u001b[39mtsim,\u001b[38;5;124m'\u001b[39m\u001b[38;5;124m.\u001b[39m\u001b[38;5;124m'\u001b[39m)\n\u001b[1;32m      2\u001b[0m plt\u001b[38;5;241m.\u001b[39mxlim(\u001b[38;5;241m0\u001b[39m,\u001b[38;5;241m25\u001b[39m\u001b[38;5;241m*\u001b[39m\u001b[38;5;241m1e15\u001b[39m)\n\u001b[1;32m      3\u001b[0m \u001b[38;5;66;03m#plt.ylim(0,8*1e-28)\u001b[39;00m\n",
      "\u001b[0;31mNameError\u001b[0m: name 'plt' is not defined"
     ]
    }
   ],
   "source": [
    "plt.plot(wla,Efavg*tsim,'.')\n",
    "plt.xlim(0,25*1e15)\n",
    "#plt.ylim(0,8*1e-28)\n",
    "plt.xlabel('Frequency (Hz)')\n",
    "plt.ylabel('Magnitude')"
   ]
  },
  {
   "cell_type": "code",
   "execution_count": 13,
   "id": "0eb6e3c4-5da5-454b-bb6c-d05f2d3d2b02",
   "metadata": {},
   "outputs": [
    {
     "name": "stderr",
     "output_type": "stream",
     "text": [
      "/home/mark/anaconda3/envs/mp/lib/python3.10/site-packages/matplotlib/cbook/__init__.py:1298: ComplexWarning: Casting complex values to real discards the imaginary part\n",
      "  return np.asarray(x, float)\n"
     ]
    },
    {
     "data": {
      "text/plain": [
       "Text(0, 0.5, 'Electric field source Es')"
      ]
     },
     "execution_count": 13,
     "metadata": {},
     "output_type": "execute_result"
    },
    {
     "data": {
      "image/png": "[encoded data removed]",
      "text/plain": [
       "<Figure size 432x288 with 1 Axes>"
      ]
     },
     "metadata": {
      "needs_background": "light"
     },
     "output_type": "display_data"
    }
   ],
   "source": [
    "timess = np.linspace(0,7*1e-12,4194304)\n",
    "plt.plot(timess,En)\n",
    "plt.xlim(0,2*1e-15)\n",
    "plt.ylim(-3e-7,3e-7)\n",
    "plt.xlabel('times')\n",
    "plt.ylabel('Electric field source Es')"
   ]
  },
  {
   "cell_type": "code",
   "execution_count": 14,
   "id": "fbd53381-5903-49ae-9c13-ac2fc580776e",
   "metadata": {},
   "outputs": [
    {
     "data": {
      "text/plain": [
       "Text(0, 0.5, 'Correlation function')"
      ]
     },
     "execution_count": 14,
     "metadata": {},
     "output_type": "execute_result"
    },
    {
     "data": {
      "image/png": "[encoded data removed]",
      "text/plain": [
       "<Figure size 432x288 with 1 Axes>"
      ]
     },
     "metadata": {
      "needs_background": "light"
     },
     "output_type": "display_data"
    }
   ],
   "source": [
    "timesss = np.linspace(-7*1e-12,7*1e-12,M*4-1)\n",
    "plt.plot(timesss,Eautoc)\n",
    "plt.xlim(-1e-15,1e-15)\n",
    "plt.ylim(0,1e-7)\n",
    "plt.xlabel('times')\n",
    "plt.ylabel('Correlation function')"
   ]
  },
  {
   "cell_type": "code",
   "execution_count": 15,
   "id": "49c45205-ca20-4ae5-86fc-22fdf623da67",
   "metadata": {},
   "outputs": [
    {
     "name": "stdout",
     "output_type": "stream",
     "text": [
      "[-1.50956037e-008-2.18028952e-008j  4.26029255e-008-2.41598851e-008j\n",
      " -1.29346660e-008+5.29949228e-009j ... -3.17578784e-111+4.12489592e-112j\n",
      "  8.32752041e-113-6.66867035e-111j  2.18551017e-112+7.48835359e-111j]\n"
     ]
    }
   ],
   "source": [
    "print(Eflp)"
   ]
  },
  {
   "cell_type": "code",
   "execution_count": null,
   "id": "9e7d72c2-3852-4758-803a-ca4f40bed420",
   "metadata": {},
   "outputs": [],
   "source": []
  }
 ],
 "metadata": {
  "kernelspec": {
   "display_name": "Python 3 (ipykernel)",
   "language": "python",
   "name": "python3"
  },
  "language_info": {
   "codemirror_mode": {
    "name": "ipython",
    "version": 3
   },
   "file_extension": ".py",
   "mimetype": "text/x-python",
   "name": "python",
   "nbconvert_exporter": "python",
   "pygments_lexer": "ipython3",
   "version": "3.10.5"
  }
 },
 "nbformat": 4,
 "nbformat_minor": 5
}

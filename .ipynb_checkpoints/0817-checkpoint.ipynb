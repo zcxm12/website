{
 "cells": [
  {
   "cell_type": "markdown",
   "id": "1ec4d81c-7e35-4b67-af55-2142f68a6f5f",
   "metadata": {},
   "source": [
    "# 0817"
   ]
  },
  {
   "cell_type": "code",
   "execution_count": null,
   "id": "8e64e7c5-69d1-49c7-a6ff-5eb64074b347",
   "metadata": {},
   "outputs": [],
   "source": []
  }
 ],
 "metadata": {
  "kernelspec": {
   "display_name": "Python 3 (ipykernel)",
   "language": "python",
   "name": "python3"
  },
  "language_info": {
   "codemirror_mode": {
    "name": "ipython",
    "version": 3
   },
   "file_extension": ".py",
   "mimetype": "text/x-python",
   "name": "python",
   "nbconvert_exporter": "python",
   "pygments_lexer": "ipython3",
   "version": "3.10.5"
  }
 },
 "nbformat": 4,
 "nbformat_minor": 5
}

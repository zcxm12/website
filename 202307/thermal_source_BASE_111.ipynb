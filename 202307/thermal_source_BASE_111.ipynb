{
 "cells": [
  {
   "cell_type": "code",
   "execution_count": 30,
   "id": "c31cb617-3332-4b4a-9db7-ec742c6e6be0",
   "metadata": {},
   "outputs": [
    {
     "name": "stdout",
     "output_type": "stream",
     "text": [
      "1.23.0\n"
     ]
    }
   ],
   "source": [
    "import meep as mp\n",
    "import numpy as np\n",
    "import matplotlib\n",
    "import matplotlib.pyplot as plt\n",
    "import time\n",
    "print(mp.__version__)\n",
    "from scipy import signal\n",
    "from time import sleep\n",
    "import sys\n",
    "from numpy.fft import fft, ifft, fftfreq"
   ]
  },
  {
   "cell_type": "markdown",
   "id": "4adf2136-cb5e-4bd5-8056-ea586db0bdc2",
   "metadata": {},
   "source": [
    "[Finite-difference time-domain simulation of thermal noise in open cavities](https://doi.org/10.1103/PhysRevA.77.023810)\n",
    "$$D_n (\\omega,T) = \\frac{6\\hbar^2}{\\pi k_B^2 T^2}\\left(\\frac{\\omega}{\\exp\\frac{\\hbar\\omega}{k_B T}-1}\\right)$$\n",
    "\n",
    "When $\\omega = 0$, the denominator is zero, which causes the numerical problem. The remedy is to use Taylor expansion as $x\\ll 1$.\n",
    "\n",
    "$$\\frac{1}{\\exp{x}-1} = 1 - \\frac{x}{2} + \\frac{x^2}{12}-\\frac{x^4}{720}+O(x^6)$$\n"
   ]
  },
  {
   "cell_type": "code",
   "execution_count": 31,
   "id": "66f2c98f-15a5-4082-b2c6-5291cfd76241",
   "metadata": {},
   "outputs": [
    {
     "name": "stderr",
     "output_type": "stream",
     "text": [
      "/tmp/ipykernel_183/1942646252.py:5: RuntimeWarning: invalid value encountered in true_divide\n",
      "  f1 = x /tmp ## there is a warning since tmp[0] = 0\n"
     ]
    },
    {
     "data": {
      "image/png": "[encoded data removed]",
      "text/plain": [
       "<Figure size 600x400 with 1 Axes>"
      ]
     },
     "metadata": {
      "needs_background": "light"
     },
     "output_type": "display_data"
    }
   ],
   "source": [
    "## Test the equation\n",
    "Nx = 1000\n",
    "x = np.linspace(0,5,Nx)\n",
    "tmp = np.exp(x) -1\n",
    "f1 = x /tmp ## there is a warning since tmp[0] = 0\n",
    "f2 = 1 - x/2 + x **2/12 -x**4/720\n",
    "##\n",
    "fig = plt.figure(dpi=100)\n",
    "plt.plot(x,f1,label='f')\n",
    "plt.plot(x,f2,'--',label='Taylor')\n",
    "plt.grid()\n",
    "plt.legend()\n",
    "plt.show()\n",
    "                "
   ]
  },
  {
   "cell_type": "code",
   "execution_count": 36,
   "id": "a29f53b9-5020-46c1-8a75-ff538ab4fb14",
   "metadata": {},
   "outputs": [],
   "source": [
    "##\n",
    "\n",
    "resolution = 100                # pixels/um\n",
    "dpml = 1.0                      # PML thickness\n",
    "sz = 16 + 2*dpml\n",
    "cell_size = mp.Vector3(z=sz)\n",
    "pml_layers = [mp.PML(dpml)]\n",
    "\n",
    "dimensions = 1\n",
    "tsim = 10000\n",
    "courant = 1 \n",
    "dt = courant  / resolution\n",
    "Nt = int(tsim/dt + 1)\n",
    "tslice = np.linspace(0, tsim, Nt)\n",
    "\n",
    "##\n",
    "omegal = 2 * np.pi / Nt * np.linspace(0,Nt-1,Nt) \n",
    "ml = np.random.normal(0,1,Nt)\n",
    "nl = np.random.normal(0,1,Nt)"
   ]
  },
  {
   "cell_type": "markdown",
   "id": "aa857ef7-2dd1-4a3c-82c2-1bc88abe0d5b",
   "metadata": {},
   "source": [
    "We adopt Eq. (6) from [PHYSICAL REVIEW A 77, 023810 (2008)](https://doi.org/10.1103/PhysRevA.77.023810), but make some changes of the definitions. \n",
    "$$E_s(t) = \\frac{\\delta}{\\sqrt{t_\\mathrm{sim}}}\\sum_{l=0}^{N_t-1} (M_l + i N_l)D_n(\\omega_l,T)e^{i\\omega_l t}$$"
   ]
  },
  {
   "cell_type": "code",
   "execution_count": 37,
   "id": "e71eba2c-98a2-4c52-a67a-8c3f1b7b290a",
   "metadata": {},
   "outputs": [],
   "source": [
    "#setup some constants and parameters\n",
    "M=2**21 #模擬步數\n",
    "tsim=7e-12 #模擬長度\n",
    "eps0 = 8.854187e-12 \n",
    "hbar = 1.05457182e-34\n",
    "c = 2.99792458e8\n",
    "kb = 1.380649e-23\n",
    "hdk=7.63823258e-12 # hbar/kb\n",
    "T=30000\n",
    "deltap = np.sqrt(1/3/eps0/hbar/c)*kb*T #小delta\n",
    "frequency = np.linspace(0, 25, 2*M)*10**15\n",
    "omega = frequency*2*np.pi"
   ]
  },
  {
   "cell_type": "code",
   "execution_count": 40,
   "id": "db713dd8-0e07-4734-92af-2588cfaba061",
   "metadata": {},
   "outputs": [
    {
     "name": "stdout",
     "output_type": "stream",
     "text": [
      "[mmmmmmmmmmmmmmmmmmmmmmmmmmmmmmmmmmmmmmmmmmmmmmmmmmmmmmmmmmmmmmmmmmmmmmmmmmmmmmmmmmmmmmmmmmmmmmmmmm] 98%"
     ]
    }
   ],
   "source": [
    "##\n",
    "\n",
    "def Dnsqr(omega,T):\n",
    "    x = np.abs(omega/T)\n",
    "    if x > 1e-3:\n",
    "        \n",
    "        output = np.sqrt(6*hdk**2*omega/(np.exp(hdk*omega/T)-1)/T**2/np.pi)\n",
    "    else:\n",
    "        output = np.sqrt(6*hdk/np.pi/T) ## Taylor expansion\n",
    "    \n",
    "    output = np.sqrt(output)\n",
    "    return output\n",
    "\n",
    "tempe = 1\n",
    "dlsqr = np.empty(Nt)\n",
    "\n",
    "for i in range(Nt):\n",
    "     dlsqr[i] = Dnsqr(omegal[i],tempe) \n",
    "\n",
    "\n",
    "        ## Fourier component from Eq. 6        \n",
    "    \n",
    "## use fft to generate signal\n",
    "ts1 = time.time()\n",
    "\n",
    "  \n",
    "\n",
    "Ef = ifft(fc)\n",
    "\n",
    "te1 = time.time()\n",
    "Efsum = np.zeros(Nt)\n",
    "Ncomp = 50\n",
    "for i in range(Ncomp):\n",
    "     \n",
    "    ml = np.random.normal(0,1,Nt)\n",
    "    nl = np.random.normal(0,1,Nt)\n",
    "    fc = (ml + 1j * nl) * dlsqr\n",
    "    Ef = ifft(fc)\n",
    "    Eautoc = signal.correlate(Ef,Ef)\n",
    "    Eautocf = np.fft.fft(Eautoc[len(Ef)-1:])\n",
    "    Eautocf = np.real(Eautocf)\n",
    "    Efsum += Eautocf\n",
    "    \n",
    "    #generate some feedback to check the progress of the loop\n",
    "    x = i/Ncomp*100\n",
    "    sys.stdout.write('\\r')\n",
    "    sys.stdout.write(\"[%-20s] %d%%\" % ('m'*int(x), int(x)))\n",
    "    sys.stdout.flush()\n",
    "    sleep(0.0001)\n",
    "\n",
    "#average the final result\n",
    "Efavg = Efsum/Ncomp\n",
    "## use for loop to generate signal\n",
    "\n",
    "#Ef2 =np.empty(Nt) \n",
    "\n",
    "#ts2 = time.time()\n",
    "\n",
    "#Ef2 = np.zeros(Nt,dtype=complex)\n",
    "\n",
    "#for i in range(Nt):\n",
    "       #Ef2[i] = sum( fc * np.exp(1j * omegal * i))/Nt\n",
    "\n",
    "#te2 = time.time()"
   ]
  },
  {
   "cell_type": "code",
   "execution_count": 43,
   "id": "add09cfa-cd22-4595-b1c0-bdcb40e17dbd",
   "metadata": {},
   "outputs": [
    {
     "data": {
      "text/plain": [
       "[<matplotlib.lines.Line2D at 0x7fe18a163520>]"
      ]
     },
     "execution_count": 43,
     "metadata": {},
     "output_type": "execute_result"
    },
    {
     "data": {
      "image/png": "[encoded data removed]",
      "text/plain": [
       "<Figure size 432x288 with 1 Axes>"
      ]
     },
     "metadata": {
      "needs_background": "light"
     },
     "output_type": "display_data"
    }
   ],
   "source": [
    "plt.plot(Ef,'.')"
   ]
  },
  {
   "cell_type": "code",
   "execution_count": null,
   "id": "111a49c0-427c-46ca-b664-7ce923e6351b",
   "metadata": {},
   "outputs": [],
   "source": []
  }
 ],
 "metadata": {
  "kernelspec": {
   "display_name": "Python 3 (ipykernel)",
   "language": "python",
   "name": "python3"
  },
  "language_info": {
   "codemirror_mode": {
    "name": "ipython",
    "version": 3
   },
   "file_extension": ".py",
   "mimetype": "text/x-python",
   "name": "python",
   "nbconvert_exporter": "python",
   "pygments_lexer": "ipython3",
   "version": "3.10.5"
  }
 },
 "nbformat": 4,
 "nbformat_minor": 5
}

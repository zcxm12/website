{
 "cells": [
  {
   "cell_type": "code",
   "execution_count": 3,
   "id": "2f85878d-dbc5-41ad-9a8a-116a638abd8e",
   "metadata": {
    "tags": []
   },
   "outputs": [],
   "source": [
    "import math\n",
    "\n",
    "import meep as mp\n",
    "from meep import mpb\n",
    "\n",
    "r = 0.25  # the rod radius\n",
    "eps = 12  # the rod dielectric constant\n",
    "\n",
    "# triangular lattice:\n",
    "geometry_lattice = mp.Lattice(\n",
    "    size=mp.Vector3(1, 1),\n",
    "    basis1=mp.Vector3(math.sqrt(3) / 2, 0.5),\n",
    "    basis2=mp.Vector3(math.sqrt(3) / 2, -0.5),\n",
    ")\n",
    "\n",
    "# Two rods per unit cell, at the correct positions to form a honeycomb\n",
    "# lattice, and arranged to have inversion symmetry:\n",
    "geometry = [\n",
    "    mp.Cylinder(\n",
    "        r,\n",
    "        center=mp.Vector3(1 / 6, 1 / 6),\n",
    "        height=mp.inf,\n",
    "        material=mp.Medium(epsilon=eps),\n",
    "    ),\n",
    "    mp.Cylinder(\n",
    "        r,\n",
    "        center=mp.Vector3(1 / -6, 1 / -6),\n",
    "        height=mp.inf,\n",
    "        material=mp.Medium(epsilon=eps),\n",
    "    ),\n",
    "]\n",
    "\n",
    "# The k_points list, for the Brillouin zone of a triangular lattice:\n",
    "k_points = [\n",
    "    mp.Vector3(),  # Gamma\n",
    "    mp.Vector3(y=0.5),  # M\n",
    "    mp.Vector3(1 / -3, 1 / 3),  # K\n",
    "    mp.Vector3(),  # Gamma\n",
    "]\n",
    "\n",
    "k_interp = 4  # number of k_points to interpolate\n",
    "k_points = mp.interpolate(k_interp, k_points)\n",
    "\n",
    "resolution = 32\n",
    "num_bands = 8\n",
    "\n",
    "ms = mpb.ModeSolver(\n",
    "    geometry_lattice=geometry_lattice,\n",
    "    geometry=geometry,\n",
    "    k_points=k_points,\n",
    "    resolution=resolution,\n",
    "    num_bands=num_bands,\n",
    ")\n",
    "\n",
    "\n"
   ]
  },
  {
   "cell_type": "code",
   "execution_count": null,
   "id": "fcf3be9e-594d-492f-87d5-fc7166738d79",
   "metadata": {},
   "outputs": [],
   "source": [
    "md = mpb.MPBData(rectify=True, periods=3, resolution=32)\n",
    "eps = ms.get_epsilon()\n",
    "converted_eps = md.convert(eps)"
   ]
  },
  {
   "cell_type": "code",
   "execution_count": null,
   "id": "4039f609-86b3-467c-b6d2-d5cedf9b4f9f",
   "metadata": {
    "tags": []
   },
   "outputs": [
    {
     "ename": "NameError",
     "evalue": "name 'converted_eps' is not defined",
     "output_type": "error",
     "traceback": [
      "\u001b[0;31m---------------------------------------------------------------------------\u001b[0m",
      "\u001b[0;31mNameError\u001b[0m                                 Traceback (most recent call last)",
      "Input \u001b[0;32mIn [3]\u001b[0m, in \u001b[0;36m<cell line: 2>\u001b[0;34m()\u001b[0m\n\u001b[1;32m      1\u001b[0m \u001b[38;5;28;01mimport\u001b[39;00m \u001b[38;5;21;01mmatplotlib\u001b[39;00m\u001b[38;5;21;01m.\u001b[39;00m\u001b[38;5;21;01mpyplot\u001b[39;00m \u001b[38;5;28;01mas\u001b[39;00m \u001b[38;5;21;01mplt\u001b[39;00m\n\u001b[0;32m----> 2\u001b[0m plt\u001b[38;5;241m.\u001b[39mimshow(\u001b[43mconverted_eps\u001b[49m\u001b[38;5;241m.\u001b[39mT, interpolation\u001b[38;5;241m=\u001b[39m\u001b[38;5;124m'\u001b[39m\u001b[38;5;124mspline36\u001b[39m\u001b[38;5;124m'\u001b[39m, cmap\u001b[38;5;241m=\u001b[39m\u001b[38;5;124m'\u001b[39m\u001b[38;5;124mbinary\u001b[39m\u001b[38;5;124m'\u001b[39m)\n\u001b[1;32m      3\u001b[0m plt\u001b[38;5;241m.\u001b[39maxis(\u001b[38;5;124m'\u001b[39m\u001b[38;5;124moff\u001b[39m\u001b[38;5;124m'\u001b[39m)\n\u001b[1;32m      4\u001b[0m plt\u001b[38;5;241m.\u001b[39mshow()\n",
      "\u001b[0;31mNameError\u001b[0m: name 'converted_eps' is not defined"
     ]
    }
   ],
   "source": [
    "import matplotlib.pyplot as plt\n",
    "plt.imshow(converted_eps.T, interpolation='spline36', cmap='binary')\n",
    "plt.axis('off')\n",
    "plt.show()"
   ]
  },
  {
   "cell_type": "code",
   "execution_count": null,
   "id": "13eee233-9a53-47ef-8f61-27ab614568e3",
   "metadata": {},
   "outputs": [],
   "source": []
  }
 ],
 "metadata": {
  "kernelspec": {
   "display_name": "Python 3 (ipykernel)",
   "language": "python",
   "name": "python3"
  },
  "language_info": {
   "codemirror_mode": {
    "name": "ipython",
    "version": 3
   },
   "file_extension": ".py",
   "mimetype": "text/x-python",
   "name": "python",
   "nbconvert_exporter": "python",
   "pygments_lexer": "ipython3",
   "version": "3.10.5"
  }
 },
 "nbformat": 4,
 "nbformat_minor": 5
}

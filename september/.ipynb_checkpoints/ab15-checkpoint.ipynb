{
 "cells": [
  {
   "cell_type": "code",
   "execution_count": 1,
   "id": "0b25817a-6388-4dba-9fb1-ec1c80021fb8",
   "metadata": {},
   "outputs": [],
   "source": [
    "from matplotlib import pyplot as plt\n",
    "import numpy as np\n",
    "Nf = 1000\n",
    "fmin = 1 # 1/micron => 300 THz\n",
    "fmax = 2 # 1/micron => 600 THz\n",
    "fre = np.linspace(fmin, fmax, Nf)\n",
    "d = 0.5 # thickness = 500 nm \n",
    "epsi = 12\n",
    "r = (np.sqrt(epsi) - 1)/( np.sqrt(epsi) + 1 )\n",
    "R = np.abs(r**2)\n",
    "F = 4 * R/(1 - R)**2"
   ]
  },
  {
   "cell_type": "code",
   "execution_count": 2,
   "id": "12e3f88c-ec83-4f16-ad0a-ee094540de8f",
   "metadata": {},
   "outputs": [],
   "source": [
    "omega = 2 * np.pi * fre"
   ]
  },
  {
   "cell_type": "code",
   "execution_count": 3,
   "id": "7faeff4a-b3fa-41e7-ab88-ee61b57edf6b",
   "metadata": {},
   "outputs": [],
   "source": [
    "import meep as mp\n",
    "\n",
    "resolution = 100                # pixels/um\n",
    "dpml = 1.0                      # PML thickness\n",
    "sz = 16 + 2*dpml\n",
    "cell_size = mp.Vector3(z=sz)\n",
    "pml_layers = [mp.PML(dpml)]\n",
    "\n",
    "fcen = (fmin+fmax)/2          # center frequency\n",
    "df = (fmax-fmin)                  # frequency width\n",
    "dimensions = 1"
   ]
  },
  {
   "cell_type": "code",
   "execution_count": 4,
   "id": "9a44b078-6894-44e4-814c-4ad5f58e72a8",
   "metadata": {},
   "outputs": [],
   "source": [
    "sources = [mp.Source(mp.GaussianSource(fcen,fwidth=df), component=mp.Ex, \n",
    "                     center=mp.Vector3(z=-8))]"
   ]
  },
  {
   "cell_type": "code",
   "execution_count": 5,
   "id": "8c9318d7-6f4d-43d7-986c-d02bbc710b2f",
   "metadata": {},
   "outputs": [
    {
     "name": "stdout",
     "output_type": "stream",
     "text": [
      "-----------\n",
      "Initializing structure...\n",
      "time for choose_chunkdivision = 0.00011301 s\n",
      "Working in 1D dimensions.\n",
      "Computational cell is 0 x 0 x 18 with resolution 100\n",
      "time for set_epsilon = 0.000397921 s\n",
      "-----------\n",
      "field decay(t = 50.005): 0.25052168984094575 / 0.25052168984094575 = 1.0\n",
      "field decay(t = 100.01): 9.685451993563134e-16 / 0.25052168984094575 = 3.8661131496088625e-15\n",
      "run 0 finished at t = 100.01 (20002 timesteps)\n"
     ]
    }
   ],
   "source": [
    "sim_vac = mp.Simulation(cell_size=cell_size,\n",
    "                        boundary_layers=pml_layers,\n",
    "                        sources=sources,\n",
    "                        dimensions=dimensions,\n",
    "                        #Courant = 0.1,\n",
    "                        resolution=resolution)\n",
    "\n",
    "refl_fr = mp.FluxRegion(center=mp.Vector3(z=-8))\n",
    "refl = sim_vac.add_flux(fcen, df, Nf, refl_fr)\n",
    "tran_fr = mp.FluxRegion(center=mp.Vector3(z= 8 ))\n",
    "tran = sim_vac.add_flux(fcen, df, Nf, tran_fr)\n",
    "   \n",
    "sim_vac.run(until_after_sources=mp.stop_when_fields_decayed(50, mp.Ex,\n",
    "                                                        mp.Vector3(z=0), 1e-3))\n",
    "\n",
    "empty_flux = mp.get_fluxes(tran)\n",
    "empty_data = sim_vac.get_flux_data(refl)"
   ]
  },
  {
   "cell_type": "code",
   "execution_count": 6,
   "id": "c30462c4-24c2-425e-9ab9-9678f184a901",
   "metadata": {},
   "outputs": [
    {
     "name": "stdout",
     "output_type": "stream",
     "text": [
      "-----------\n",
      "Initializing structure...\n",
      "time for choose_chunkdivision = 9.799e-05 s\n",
      "Working in 1D dimensions.\n",
      "Computational cell is 0 x 0 x 18 with resolution 100\n",
      "     block, center = (0,0,-3)\n",
      "          size (1e+20,1e+20,0.5)\n",
      "          axes (1,0,0), (0,1,0), (0,0,1)\n",
      "          dielectric constant epsilon diagonal = (12,12,12)\n",
      "     block, center = (0,0,-2.4)\n",
      "          size (1e+20,1e+20,0.5)\n",
      "          axes (1,0,0), (0,1,0), (0,0,1)\n",
      "          dielectric constant epsilon diagonal = (12,12,12)\n",
      "     block, center = (0,0,-1.8)\n",
      "          size (1e+20,1e+20,0.5)\n",
      "          axes (1,0,0), (0,1,0), (0,0,1)\n",
      "          dielectric constant epsilon diagonal = (12,12,12)\n",
      "     block, center = (0,0,-1.2)\n",
      "          size (1e+20,1e+20,0.5)\n",
      "          axes (1,0,0), (0,1,0), (0,0,1)\n",
      "          dielectric constant epsilon diagonal = (12,12,12)\n",
      "     block, center = (0,0,-0.6)\n",
      "          size (1e+20,1e+20,0.5)\n",
      "          axes (1,0,0), (0,1,0), (0,0,1)\n",
      "          dielectric constant epsilon diagonal = (12,12,12)\n",
      "time for set_epsilon = 0.000839949 s\n",
      "-----------\n",
      "field decay(t = 50.005): 0.03174422363414019 / 0.03174422363414019 = 1.0\n",
      "field decay(t = 100.01): 0.0005757014806186924 / 0.03174422363414019 = 0.01813562956378428\n",
      "field decay(t = 150.01500000000001): 3.8270100378308446e-05 / 0.03174422363414019 = 0.0012055768261772775\n",
      "field decay(t = 200.02): 4.064350964559259e-06 / 0.03174422363414019 = 0.00012803434764705168\n",
      "run 0 finished at t = 200.02 (40004 timesteps)\n"
     ]
    }
   ],
   "source": [
    "# add a block with n=3.5 for the air-dielectric interface\n",
    "geometry = []\n",
    "Np = 5 ## number of repeating\n",
    "for i in range (Np):\n",
    "    geometry.append(mp.Block(mp.Vector3(mp.inf,mp.inf,d), center=mp.Vector3(z = -3 + 0.6 * i),\n",
    "                     material= mp.Medium(epsilon=epsi)))\n",
    "    \n",
    "sim = mp.Simulation(cell_size=cell_size,\n",
    "                        geometry=geometry,\n",
    "                        boundary_layers=pml_layers,\n",
    "                        sources=sources,\n",
    "                        #Courant = 0.1,\n",
    "                        dimensions=dimensions,\n",
    "                        resolution=resolution)\n",
    "tran = sim.add_flux(fcen, df, Nf, tran_fr)\n",
    "refl = sim.add_flux(fcen, df, Nf, refl_fr)\n",
    "sim.load_minus_flux_data(refl, empty_data)\n",
    "\n",
    "sim.run(until_after_sources=mp.stop_when_fields_decayed(50, mp.Ex, mp.Vector3(z=0), 1e-3))\n",
    "\n",
    "refl_flux = mp.get_fluxes(refl)\n",
    "tran_flux = mp.get_fluxes(tran)\n",
    "freqs = mp.get_flux_freqs(refl)\n",
    "\n",
    "wvls = np.empty(Nf)\n",
    "R = np.empty(Nf)\n",
    "T = np.empty(Nf)\n",
    "for i in range(Nf):\n",
    "        wvls[i] = 1/freqs[i]\n",
    "        R[i] = -refl_flux[i]/empty_flux[i]\n",
    "        T[i] = tran_flux[i]/empty_flux[i]"
   ]
  },
  {
   "cell_type": "code",
   "execution_count": 7,
   "id": "af2b5e03-d5aa-428b-9689-f9ffa06d48d1",
   "metadata": {},
   "outputs": [
    {
     "ename": "NameError",
     "evalue": "name 'plt' is not defined",
     "output_type": "error",
     "traceback": [
      "\u001b[0;31m---------------------------------------------------------------------------\u001b[0m",
      "\u001b[0;31mNameError\u001b[0m                                 Traceback (most recent call last)",
      "Input \u001b[0;32mIn [7]\u001b[0m, in \u001b[0;36m<cell line: 2>\u001b[0;34m()\u001b[0m\n\u001b[1;32m      1\u001b[0m \u001b[38;5;66;03m## compare numerical and analytical\u001b[39;00m\n\u001b[0;32m----> 2\u001b[0m \u001b[43mplt\u001b[49m\u001b[38;5;241m.\u001b[39mfigure(dpi\u001b[38;5;241m=\u001b[39m\u001b[38;5;241m150\u001b[39m)\n\u001b[1;32m      3\u001b[0m plt\u001b[38;5;241m.\u001b[39mplot(omega\u001b[38;5;241m/\u001b[39m\u001b[38;5;241m2\u001b[39m\u001b[38;5;241m/\u001b[39mnp\u001b[38;5;241m.\u001b[39mpi,T,\u001b[38;5;124m'\u001b[39m\u001b[38;5;124mg-\u001b[39m\u001b[38;5;124m'\u001b[39m,label\u001b[38;5;241m=\u001b[39m\u001b[38;5;124m'\u001b[39m\u001b[38;5;124m$T_\u001b[39m\u001b[38;5;132;01m{nur}\u001b[39;00m\u001b[38;5;124m$\u001b[39m\u001b[38;5;124m'\u001b[39m)\n\u001b[1;32m      4\u001b[0m plt\u001b[38;5;241m.\u001b[39mplot(omega\u001b[38;5;241m/\u001b[39m\u001b[38;5;241m2\u001b[39m\u001b[38;5;241m/\u001b[39mnp\u001b[38;5;241m.\u001b[39mpi,T_ana,label\u001b[38;5;241m=\u001b[39m\u001b[38;5;124m'\u001b[39m\u001b[38;5;124m$T_\u001b[39m\u001b[38;5;132;01m{ana}\u001b[39;00m\u001b[38;5;124m$\u001b[39m\u001b[38;5;124m'\u001b[39m)\n",
      "\u001b[0;31mNameError\u001b[0m: name 'plt' is not defined"
     ]
    }
   ],
   "source": [
    "## compare numerical and analytical\n",
    "plt.figure(dpi=150)\n",
    "plt.plot(omega/2/np.pi,T,'g-',label='$T_{nur}$')\n",
    "plt.plot(omega/2/np.pi,T_ana,label='$T_{ana}$')\n",
    "plt.xlabel(\"omega ($2\\pi$/μm)\")\n",
    "plt.ylabel(\"$T$\")\n",
    "#plt.legend(loc=\"upper right\")\n",
    "plt.xlim([fmin,fmax])\n",
    "plt.ylim([0,1])\n",
    "plt.show()"
   ]
  }
 ],
 "metadata": {
  "kernelspec": {
   "display_name": "Python 3 (ipykernel)",
   "language": "python",
   "name": "python3"
  },
  "language_info": {
   "codemirror_mode": {
    "name": "ipython",
    "version": 3
   },
   "file_extension": ".py",
   "mimetype": "text/x-python",
   "name": "python",
   "nbconvert_exporter": "python",
   "pygments_lexer": "ipython3",
   "version": "3.10.5"
  }
 },
 "nbformat": 4,
 "nbformat_minor": 5
}

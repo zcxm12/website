{
 "cells": [
  {
   "cell_type": "markdown",
   "id": "c4426823-701b-4beb-8fc7-3c23e1ed60b3",
   "metadata": {},
   "source": [
    "# Fabey Perot in meep(AB)\n",
    "\n",
    "## first of all load the library"
   ]
  },
  {
   "cell_type": "code",
   "execution_count": 1,
   "id": "e060c5d7-cb67-4300-9e17-c168eb873b51",
   "metadata": {},
   "outputs": [],
   "source": [
    "import meep as mp\n",
    "import numpy as np\n",
    "import matplotlib.pyplot as plt"
   ]
  },
  {
   "cell_type": "markdown",
   "id": "0185447d-d009-4486-ae3d-ae628be311d5",
   "metadata": {},
   "source": [
    "## 定義參數"
   ]
  },
  {
   "cell_type": "code",
   "execution_count": 2,
   "id": "7e3fa575-2afe-42b6-a9cd-218acc92dea4",
   "metadata": {},
   "outputs": [],
   "source": [
    "fmin = 1.4 #300THz\n",
    "fmax = 1.6 #600THz\n",
    "nf = 1000 \n",
    "fcen = (fmin + fmax)/2\n",
    "df = fmax - fmin\n",
    "dfp = 1/2\n",
    "fre = np.linspace(fmin,fmax,nf)\n",
    "omega = 2 * np.pi * fre"
   ]
  },
  {
   "cell_type": "code",
   "execution_count": 3,
   "id": "a357222a-9a0c-4bb9-ad84-a08fa3dfb4c7",
   "metadata": {},
   "outputs": [],
   "source": [
    "dpml = 1\n",
    "\n",
    "dA = 2\n",
    "dB = 3\n",
    "epsilonA = 12\n",
    "epsilonB = 3\n",
    "\n",
    "NAB = 10\n",
    "\n",
    "sz = 2*dpml+(dA+dB)*NAB\n",
    "\n",
    "resolution = 100 # pixels/μm\n",
    "\n",
    "cell_size = mp.Vector3(z=sz)\n",
    "\n",
    "pml_layers = [mp.PML(thickness=dpml)]\n",
    "\n",
    "source_z=-sz/2+dpml\n",
    "flux_reg_z=sz/2-dpml"
   ]
  },
  {
   "cell_type": "markdown",
   "id": "ef33b7d3-6cab-4464-af14-24be6cb1cf03",
   "metadata": {},
   "source": [
    "## geometry AB and BA"
   ]
  },
  {
   "cell_type": "code",
   "execution_count": 4,
   "id": "b3583a40-8065-4e8c-ba9f-ad9dab78c116",
   "metadata": {},
   "outputs": [],
   "source": [
    "def BlockAB(N, center):\n",
    "    geometry = []\n",
    "    for i in range(N):\n",
    "        geometry = np.append(geometry, mp.Block(mp.Vector3(mp.inf,mp.inf,dA),\n",
    "                     center=mp.Vector3(z=center-(dA+dB)*N/2 + (dA+dB)*i + dA/2),\n",
    "                     material=mp.Medium(epsilon=epsilonA)))\n",
    "        geometry = np.append(geometry, mp.Block(mp.Vector3(mp.inf,mp.inf,dB),\n",
    "                     center=mp.Vector3(z=center-(dA+dB)*N/2 + (dA+dB)*i + dA + dB/2),\n",
    "                     material=mp.Medium(epsilon=epsilonB)))\n",
    "    geometry = geometry.tolist()\n",
    "    return geometry"
   ]
  },
  {
   "cell_type": "markdown",
   "id": "a1298255-9ef2-4d1c-8aad-69850a4e10d8",
   "metadata": {},
   "source": [
    "## Sources set up"
   ]
  },
  {
   "cell_type": "code",
   "execution_count": 5,
   "id": "aeffad7d-fa88-4b80-8cb8-800228c4f5d1",
   "metadata": {},
   "outputs": [],
   "source": [
    "sources = [mp.Source(mp.GaussianSource(fcen,fwidth=df),\n",
    "                     component=mp.Ex,\n",
    "                     center=mp.Vector3(z=source_z),\n",
    "                     size=mp.Vector3())]"
   ]
  },
  {
   "cell_type": "markdown",
   "id": "ba6ac0ec-b459-45c7-8852-b37864e4c8d1",
   "metadata": {},
   "source": [
    "## Simulation 真空"
   ]
  },
  {
   "cell_type": "code",
   "execution_count": 6,
   "id": "d56b8849-f062-4395-9253-0e7f3348f80e",
   "metadata": {},
   "outputs": [
    {
     "name": "stdout",
     "output_type": "stream",
     "text": [
      "-----------\n",
      "Initializing structure...\n",
      "time for choose_chunkdivision = 0.000178814 s\n",
      "Working in 1D dimensions.\n",
      "Computational cell is 0 x 0 x 52 with resolution 100\n",
      "time for set_epsilon = 0.00119495 s\n",
      "-----------\n",
      "field decay(t = 50.005): 0.2505023851304923 / 0.2505023851304923 = 1.0\n",
      "field decay(t = 100.01): 0.24982745675538218 / 0.2505023851304923 = 0.9973057008029743\n",
      "field decay(t = 150.01500000000001): 2.6644299288701625e-15 / 0.2505023851304923 = 1.0636345548096085e-14\n",
      "run 0 finished at t = 150.01500000000001 (30003 timesteps)\n"
     ]
    }
   ],
   "source": [
    "sim_vac = mp.Simulation(cell_size=cell_size,\n",
    "                    resolution=resolution,\n",
    "                    boundary_layers=pml_layers,\n",
    "                    dimensions=1,\n",
    "                    sources=sources)\n",
    "refl_fr = mp.FluxRegion(center=mp.Vector3(z=-flux_reg_z))\n",
    "refl = sim_vac.add_flux(fcen, df*dfp,nf, refl_fr)\n",
    "tran_fr = mp.FluxRegion(center=mp.Vector3(z=flux_reg_z))\n",
    "tran = sim_vac.add_flux(fcen, df*dfp, nf, tran_fr)\n",
    "sim_vac.run(until_after_sources=mp.stop_when_fields_decayed(50,mp.Ex,\n",
    "                                                            mp.Vector3(z=0),1e-3))\n",
    "vac_flux = mp.get_fluxes(tran)\n",
    "flux_freqs = mp.get_flux_freqs(tran)\n"
   ]
  },
  {
   "cell_type": "markdown",
   "id": "340051ae-b0c2-42ab-b6d9-b26b62eeb67e",
   "metadata": {},
   "source": [
    "## Simulation 介質AB"
   ]
  },
  {
   "cell_type": "code",
   "execution_count": 7,
   "id": "e357d81d-2e63-4fa2-85a8-962239854b1b",
   "metadata": {},
   "outputs": [
    {
     "name": "stdout",
     "output_type": "stream",
     "text": [
      "-----------\n",
      "Initializing structure...\n",
      "time for choose_chunkdivision = 0.000207901 s\n",
      "Working in 1D dimensions.\n",
      "Computational cell is 0 x 0 x 52 with resolution 100\n",
      "     block, center = (0,0,-24)\n",
      "          size (1e+20,1e+20,2)\n",
      "          axes (1,0,0), (0,1,0), (0,0,1)\n",
      "          dielectric constant epsilon diagonal = (12,12,12)\n",
      "     block, center = (0,0,-21.5)\n",
      "          size (1e+20,1e+20,3)\n",
      "          axes (1,0,0), (0,1,0), (0,0,1)\n",
      "          dielectric constant epsilon diagonal = (3,3,3)\n",
      "     block, center = (0,0,-19)\n",
      "          size (1e+20,1e+20,2)\n",
      "          axes (1,0,0), (0,1,0), (0,0,1)\n",
      "          dielectric constant epsilon diagonal = (12,12,12)\n",
      "     block, center = (0,0,-16.5)\n",
      "          size (1e+20,1e+20,3)\n",
      "          axes (1,0,0), (0,1,0), (0,0,1)\n",
      "          dielectric constant epsilon diagonal = (3,3,3)\n",
      "     block, center = (0,0,-14)\n",
      "          size (1e+20,1e+20,2)\n",
      "          axes (1,0,0), (0,1,0), (0,0,1)\n",
      "          dielectric constant epsilon diagonal = (12,12,12)\n",
      "     block, center = (0,0,-11.5)\n",
      "          size (1e+20,1e+20,3)\n",
      "          axes (1,0,0), (0,1,0), (0,0,1)\n",
      "          dielectric constant epsilon diagonal = (3,3,3)\n",
      "     block, center = (0,0,-9)\n",
      "          size (1e+20,1e+20,2)\n",
      "          axes (1,0,0), (0,1,0), (0,0,1)\n",
      "          dielectric constant epsilon diagonal = (12,12,12)\n",
      "     block, center = (0,0,-6.5)\n",
      "          size (1e+20,1e+20,3)\n",
      "          axes (1,0,0), (0,1,0), (0,0,1)\n",
      "          dielectric constant epsilon diagonal = (3,3,3)\n",
      "     block, center = (0,0,-4)\n",
      "          size (1e+20,1e+20,2)\n",
      "          axes (1,0,0), (0,1,0), (0,0,1)\n",
      "          dielectric constant epsilon diagonal = (12,12,12)\n",
      "     block, center = (0,0,-1.5)\n",
      "          size (1e+20,1e+20,3)\n",
      "          axes (1,0,0), (0,1,0), (0,0,1)\n",
      "          dielectric constant epsilon diagonal = (3,3,3)\n",
      "     ...(+ 10 objects not shown)...\n",
      "time for set_epsilon = 0.00286007 s\n",
      "-----------\n",
      "run 0 finished at t = 50.005 (10001 timesteps)\n"
     ]
    }
   ],
   "source": [
    "sim = mp.Simulation(cell_size=cell_size,\n",
    "                    resolution=resolution,\n",
    "                    boundary_layers=pml_layers,\n",
    "                    sources=sources,\n",
    "                    dimensions=1,\n",
    "                    geometry=BlockAB(NAB,0))\n",
    "refl_fr = mp.FluxRegion(center=mp.Vector3(z=-flux_reg_z))\n",
    "refl = sim_vac.add_flux(fcen, df*dfp,nf, refl_fr)\n",
    "tran_fr = mp.FluxRegion(center=mp.Vector3(z=flux_reg_z))\n",
    "tran = sim.add_flux(fcen, df*dfp, nf, tran_fr)\n",
    "sim.run(until_after_sources=mp.stop_when_fields_decayed(50,mp.Ex,\n",
    "                                                        mp.Vector3(z=0),1e-3))\n",
    "tran_flux = mp.get_fluxes(tran)\n",
    "refl_flux = mp.get_fluxes(refl)"
   ]
  },
  {
   "cell_type": "code",
   "execution_count": 8,
   "id": "d18b165f-a6d5-43b1-b032-5f4b4c3ca086",
   "metadata": {},
   "outputs": [],
   "source": [
    "wvls = np.empty(nf)\n",
    "R = np.empty(nf)\n",
    "T = np.empty(nf)\n",
    "for i in range(nf):\n",
    "        wvls[i] = 1/flux_freqs[i]\n",
    "        R[i] = -refl_flux[i]/vac_flux[i]\n",
    "        T[i] = tran_flux[i]/vac_flux[i]"
   ]
  },
  {
   "cell_type": "code",
   "execution_count": 9,
   "id": "ad3f2650-e75b-4046-b5a1-772b915370c1",
   "metadata": {},
   "outputs": [
    {
     "name": "stderr",
     "output_type": "stream",
     "text": [
      "/home/mark/anaconda3/envs/mp/lib/python3.10/site-packages/numpy/core/getlimits.py:499: UserWarning: The value of the smallest subnormal for <class 'numpy.float64'> type is zero.\n",
      "  setattr(self, word, getattr(machar, word).flat[0])\n",
      "/home/mark/anaconda3/envs/mp/lib/python3.10/site-packages/numpy/core/getlimits.py:89: UserWarning: The value of the smallest subnormal for <class 'numpy.float64'> type is zero.\n",
      "  return self._float_to_str(self.smallest_subnormal)\n"
     ]
    },
    {
     "data": {
      "image/png": "[encoded data removed]",
      "text/plain": [
       "<Figure size 900x600 with 1 Axes>"
      ]
     },
     "metadata": {
      "needs_background": "light"
     },
     "output_type": "display_data"
    }
   ],
   "source": [
    "plt.figure(dpi=150)#解析度\n",
    "plt.plot(omega/2/np.pi,T,'-',label='$T_{nur}$')#x軸omega y軸T \n",
    "plt.xlabel(\"omega ($2\\pi$/μm)\")\n",
    "plt.ylabel(\"$T$\")\n",
    "plt.xlim([fmin,fmax])\n",
    "plt.ylim([0,1])\n",
    "plt.savefig('AB10.png')\n",
    "plt.show()"
   ]
  }
 ],
 "metadata": {
  "kernelspec": {
   "display_name": "Python 3 (ipykernel)",
   "language": "python",
   "name": "python3"
  },
  "language_info": {
   "codemirror_mode": {
    "name": "ipython",
    "version": 3
   },
   "file_extension": ".py",
   "mimetype": "text/x-python",
   "name": "python",
   "nbconvert_exporter": "python",
   "pygments_lexer": "ipython3",
   "version": "3.10.5"
  }
 },
 "nbformat": 4,
 "nbformat_minor": 5
}

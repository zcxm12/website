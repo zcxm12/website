{
 "cells": [
  {
   "cell_type": "code",
   "execution_count": 7,
   "id": "d92eabad-dfb0-443a-9562-a52e548a6480",
   "metadata": {},
   "outputs": [
    {
     "name": "stdin",
     "output_type": "stream",
     "text": [
      "X =  8.3986\n",
      "Y =  15.3529\n",
      "Z =  12.3963\n",
      "L1 =  40.3\n",
      "a1 =  -42.4\n",
      "b1 =  -11.2\n"
     ]
    },
    {
     "name": "stdout",
     "output_type": "stream",
     "text": [
      "L =  46.1138043309818\n",
      "a =  -46.09176979834773\n",
      "b =  0.7741366302756125\n",
      "E =  13.813378771446304\n"
     ]
    }
   ],
   "source": [
    "import math\n",
    "import meep as mp\n",
    "import numpy as np\n",
    "from meep import mpb\n",
    "X2 = 96.421\n",
    "Y2 = 100\n",
    "Z2 = 82.519\n",
    "X = float(input('X = '))\n",
    "Y = float(input('Y = '))\n",
    "Z = float(input('Z = '))\n",
    "L1 = float(input('L1 = '))\n",
    "a1 = float(input('a1 = '))\n",
    "b1 = float(input('b1 = '))\n",
    "def f():\n",
    "    t = X/X2\n",
    "    if t > (6/29)**3:\n",
    "        return t**(1/3)\n",
    "    else:\n",
    "        return (((29/6)**3)*t)/3+16/116\n",
    "def g():\n",
    "    t = Y/Y2\n",
    "    if t > (6/29)**3:\n",
    "        return t**(1/3)\n",
    "    else:\n",
    "        return (((29/6)**3)*t)/3+16/116\n",
    "def h():\n",
    "    t = Z/Z2\n",
    "    if t > (6/29)**3:\n",
    "        return t**(1/3)\n",
    "    else:\n",
    "        return (((29/6)**3)*t)/3+16/116\n",
    "L = 116*g()-16\n",
    "a = 500*(f()-g())\n",
    "b = 200*(g()-h())\n",
    "E = ((L1-L)**2+(a1-a)**2+(b1-b)**2)**0.5\n",
    "print('L = ',L)\n",
    "print('a = ',a)\n",
    "print('b = ',b)\n",
    "print('E = ',E)"
   ]
  },
  {
   "cell_type": "code",
   "execution_count": null,
   "id": "f8d69ca5-95ae-4e5e-9a56-8a3ca5ec8c22",
   "metadata": {},
   "outputs": [],
   "source": []
  }
 ],
 "metadata": {
  "kernelspec": {
   "display_name": "Python 3 (ipykernel)",
   "language": "python",
   "name": "python3"
  },
  "language_info": {
   "codemirror_mode": {
    "name": "ipython",
    "version": 3
   },
   "file_extension": ".py",
   "mimetype": "text/x-python",
   "name": "python",
   "nbconvert_exporter": "python",
   "pygments_lexer": "ipython3",
   "version": "3.10.5"
  }
 },
 "nbformat": 4,
 "nbformat_minor": 5
}

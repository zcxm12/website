{
 "cells": [
  {
   "cell_type": "code",
   "execution_count": 173,
   "id": "03e03fc5-ede4-409a-a9b1-340814ed7082",
   "metadata": {},
   "outputs": [
    {
     "name": "stderr",
     "output_type": "stream",
     "text": [
      "/tmp/ipykernel_964/1862390954.py:13: RuntimeWarning: invalid value encountered in true_divide\n",
      "  return ((hb/(np.pi*c))*(omega/(np.e**(hb*omega/(k*temperature))-1)))\n"
     ]
    },
    {
     "data": {
      "image/png": "[encoded data removed]",
      "text/plain": [
       "<Figure size 432x288 with 1 Axes>"
      ]
     },
     "metadata": {
      "needs_background": "light"
     },
     "output_type": "display_data"
    }
   ],
   "source": [
    "import numpy as op \n",
    "import matplotlib.pyplot as plt\n",
    "\n",
    "frequency_limit = np.linspace(0, 25, 10000)\n",
    "frequency = frequency_limit*10**15\n",
    "hb=1.05459*10**(-34)\n",
    "c=3*10**8\n",
    "omega = frequency*2*np.pi\n",
    "k= 1.38*10**(-23)\n",
    "epsilon = 8.854*10**(-12)\n",
    "def planck_formula(frequency,\n",
    "                   temperature,\n",
    "                  ):\n",
    "    return ((hb/(np.pi*c))*(omega/(np.e**(hb*omega/(k*temperature))-1)))\n",
    "out_30000 = planck_formula(frequency,30000)\n",
    "out_50000 = planck_formula(frequency,50000)\n",
    "plot_30000 = plt.plot(frequency_limit*2*np.pi,out_30000,label='30000K')\n",
    "plot_50000 = plt.plot(frequency_limit*2*np.pi,out_50000,label='50000K')\n",
    "plt.xlim(0,25)\n",
    "plt.xlabel ('Frequency (PHz)')\n",
    "plt.ylabel('Energy density (10^-28 J/m)')\n",
    "plt.legend()\n",
    "plt.show()"
   ]
  },
  {
   "cell_type": "code",
   "execution_count": 182,
   "id": "87266ba1-6dd8-4a10-b48e-00101d0062db",
   "metadata": {},
   "outputs": [
    {
     "name": "stdout",
     "output_type": "stream",
     "text": [
      "0.4516141108328581 0.7526901847214301\n"
     ]
    },
    {
     "name": "stderr",
     "output_type": "stream",
     "text": [
      "/tmp/ipykernel_964/113950317.py:4: RuntimeWarning: invalid value encountered in true_divide\n",
      "  return ((6*hb**2/(np.pi*(temperature**2)*k**2))*(abs(omega)/(np.e**(hb*abs(omega)/(k*temperature))-1)))\n"
     ]
    }
   ],
   "source": [
    "def planck_formula_n(frequency,\n",
    "                   temperature,\n",
    "                  ):\n",
    "    return ((6*hb**2/(np.pi*(temperature**2)*k**2))*(abs(omega)/(np.e**(hb*abs(omega)/(k*temperature))-1)))\n",
    "def rms(temperature):\n",
    "    return((((2/(epsilon*6*hb*c))**0.5)*k*temperature))\n",
    "out_30000_n = planck_formula_n(frequency,30000)\n",
    "out_50000_n = planck_formula_n(frequency,50000)\n",
    "rms_30000 = rms(30000)\n",
    "rms_50000 = rms(50000)\n",
    "print(rms_30000,rms_50000)"
   ]
  },
  {
   "cell_type": "code",
   "execution_count": 214,
   "id": "67378960-f251-4407-a518-6555cd200901",
   "metadata": {},
   "outputs": [
    {
     "ename": "TypeError",
     "evalue": "'numpy.ndarray' object is not callable",
     "output_type": "error",
     "traceback": [
      "\u001b[0;31m---------------------------------------------------------------------------\u001b[0m",
      "\u001b[0;31mTypeError\u001b[0m                                 Traceback (most recent call last)",
      "Input \u001b[0;32mIn [214]\u001b[0m, in \u001b[0;36m<cell line: 18>\u001b[0;34m()\u001b[0m\n\u001b[1;32m     16\u001b[0m \u001b[38;5;66;03m# 5. Calculate x and y from r and theta\u001b[39;00m\n\u001b[1;32m     17\u001b[0m Ml, Nl \u001b[38;5;241m=\u001b[39m r\u001b[38;5;241m*\u001b[39mnp\u001b[38;5;241m.\u001b[39mcos(thetas), r\u001b[38;5;241m*\u001b[39mnp\u001b[38;5;241m.\u001b[39msin(thetas)\n\u001b[0;32m---> 18\u001b[0m \u001b[38;5;28mprint\u001b[39m(\u001b[43mMl\u001b[49m\u001b[43m(\u001b[49m\u001b[38;5;241;43m0\u001b[39;49m\u001b[43m,\u001b[49m\u001b[38;5;241;43m2\u001b[39;49m\u001b[43m)\u001b[49m)\n\u001b[1;32m     19\u001b[0m plt\u001b[38;5;241m.\u001b[39mplot(Ml,Nl)\n",
      "\u001b[0;31mTypeError\u001b[0m: 'numpy.ndarray' object is not callable"
     ]
    }
   ],
   "source": [
    "#產生隨機亂數產生器\n",
    "rng = np.random.RandomState(seed=1)\n",
    "\n",
    "#從seed=1的亂數產生器生成兩個方向1000個亂數\n",
    "u1, u2 = rng.uniform(size=100), rng.uniform(size=100)\n",
    "\n",
    "# 2. Tranform U1 to s\n",
    "s = -np.log(u1)\n",
    "\n",
    "# 3. Transform U2 to theta\n",
    "thetas = 2*np.pi*u2\n",
    "\n",
    "# 4. Convert s to r\n",
    "r = np.sqrt(2*s)\n",
    "\n",
    "# 5. Calculate x and y from r and theta\n",
    "Ml, Nl = r*np.cos(thetas), r*np.sin(thetas)\n",
    "print(Ml(0,2))\n",
    "plt.plot(Ml,Nl)"
   ]
  },
  {
   "cell_type": "code",
   "execution_count": 197,
   "id": "e7f3ecd4-853a-4ae8-b745-c1e4e825f3ae",
   "metadata": {},
   "outputs": [
    {
     "ename": "SyntaxError",
     "evalue": "expected ':' (2943048401.py, line 2)",
     "output_type": "error",
     "traceback": [
      "\u001b[0;36m  Input \u001b[0;32mIn [197]\u001b[0;36m\u001b[0m\n\u001b[0;31m    )\u001b[0m\n\u001b[0m     ^\u001b[0m\n\u001b[0;31mSyntaxError\u001b[0m\u001b[0;31m:\u001b[0m expected ':'\n"
     ]
    }
   ],
   "source": [
    "def Es(delta,\n",
    "      )"
   ]
  },
  {
   "cell_type": "code",
   "execution_count": null,
   "id": "76f3d737-b32b-4785-a384-79622bba142f",
   "metadata": {},
   "outputs": [],
   "source": []
  }
 ],
 "metadata": {
  "kernelspec": {
   "display_name": "Python 3 (ipykernel)",
   "language": "python",
   "name": "python3"
  },
  "language_info": {
   "codemirror_mode": {
    "name": "ipython",
    "version": 3
   },
   "file_extension": ".py",
   "mimetype": "text/x-python",
   "name": "python",
   "nbconvert_exporter": "python",
   "pygments_lexer": "ipython3",
   "version": "3.10.5"
  }
 },
 "nbformat": 4,
 "nbformat_minor": 5
}

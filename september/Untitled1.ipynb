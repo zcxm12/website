{
 "cells": [
  {
   "cell_type": "code",
   "execution_count": 18,
   "id": "7959d19b-3db6-442c-8e3b-4931839ba486",
   "metadata": {},
   "outputs": [
    {
     "name": "stdout",
     "output_type": "stream",
     "text": [
      "1.23.0\n"
     ]
    },
    {
     "ename": "ModuleNotFoundError",
     "evalue": "No module named 'mycmapls'",
     "output_type": "error",
     "traceback": [
      "\u001b[0;31m---------------------------------------------------------------------------\u001b[0m",
      "\u001b[0;31mModuleNotFoundError\u001b[0m                       Traceback (most recent call last)",
      "Input \u001b[0;32mIn [18]\u001b[0m, in \u001b[0;36m<cell line: 8>\u001b[0;34m()\u001b[0m\n\u001b[1;32m      5\u001b[0m \u001b[38;5;28;01mimport\u001b[39;00m \u001b[38;5;21;01mmatplotlib\u001b[39;00m\u001b[38;5;21;01m.\u001b[39;00m\u001b[38;5;21;01mpyplot\u001b[39;00m \u001b[38;5;28;01mas\u001b[39;00m \u001b[38;5;21;01mplt\u001b[39;00m\n\u001b[1;32m      6\u001b[0m \u001b[38;5;28mprint\u001b[39m(mp\u001b[38;5;241m.\u001b[39m__version__)\n\u001b[0;32m----> 8\u001b[0m \u001b[38;5;28;01mimport\u001b[39;00m \u001b[38;5;21;01mmycmapls\u001b[39;00m \u001b[38;5;28;01mas\u001b[39;00m \u001b[38;5;21;01mms\u001b[39;00m\n\u001b[1;32m      9\u001b[0m mycmap \u001b[38;5;241m=\u001b[39m ms\u001b[38;5;241m.\u001b[39mmycmap\n\u001b[1;32m     10\u001b[0m mycmap1 \u001b[38;5;241m=\u001b[39m ms\u001b[38;5;241m.\u001b[39mmycmap1\n",
      "\u001b[0;31mModuleNotFoundError\u001b[0m: No module named 'mycmapls'"
     ]
    }
   ],
   "source": [
    "import meep as mp\n",
    "from meep.materials import Al, Ag, Au, SiO2\n",
    "import numpy as np\n",
    "import matplotlib\n",
    "import matplotlib.pyplot as plt\n",
    "print(mp.__version__)\n",
    "\n",
    "import mycmapls as ms\n",
    "mycmap = ms.mycmap\n",
    "mycmap1 = ms.mycmap1\n",
    "mycmap2 = ms.mycmap2"
   ]
  },
  {
   "cell_type": "code",
   "execution_count": 19,
   "id": "1d0d8e1d-241e-4585-a3b0-b0756e8f83f1",
   "metadata": {},
   "outputs": [],
   "source": [
    "cell = mp.Vector3(3,3,0)\n",
    "geometry = []"
   ]
  },
  {
   "cell_type": "code",
   "execution_count": 20,
   "id": "d8d5d9e1-fb86-48fe-b16a-f4e5ddb23060",
   "metadata": {},
   "outputs": [
    {
     "data": {
      "image/png": "[encoded data removed]",
      "text/plain": [
       "<Figure size 600x400 with 1 Axes>"
      ]
     },
     "metadata": {
      "needs_background": "light"
     },
     "output_type": "display_data"
    }
   ],
   "source": [
    "sources = [mp.Source(mp.ContinuousSource(frequency=0.5),\n",
    "                     component=mp.Ey,\n",
    "                     center=mp.Vector3(-0.15,0.08),\n",
    "                    size=mp.Vector3(0,0)),\n",
    "         mp.Source(mp.ContinuousSource(frequency=0.5),\n",
    "                     component=mp.Ex,\n",
    "                     center=mp.Vector3(-0.15,0.08),\n",
    "                    size=mp.Vector3(0,0),\n",
    "                    amplitude=0-1j),\n",
    "          mp.Source(mp.ContinuousSource(frequency=0.5),\n",
    "                     component=mp.Ey,\n",
    "                     center=mp.Vector3(-0.45,0.250),\n",
    "                    size=mp.Vector3(0,0)),\n",
    "           mp.Source(mp.ContinuousSource(frequency=0.5),\n",
    "                     component=mp.Ex,\n",
    "                     center=mp.Vector3(-0.45,0.250),\n",
    "                    size=mp.Vector3(0,0),\n",
    "                    amplitude=0+1j),\n",
    "          mp.Source(mp.ContinuousSource(frequency=0.5),\n",
    "                     component=mp.Ey,\n",
    "                     center=mp.Vector3(0.5,-0.25),\n",
    "                    size=mp.Vector3(0,0)),\n",
    "           mp.Source(mp.ContinuousSource(frequency=0.5),\n",
    "                     component=mp.Ex,\n",
    "                     center=mp.Vector3(0.5,-0.25),\n",
    "                    size=mp.Vector3(0,0),\n",
    "                    amplitude=0-1j),\n",
    "          mp.Source(mp.ContinuousSource(frequency=0.5),\n",
    "                     component=mp.Ey,\n",
    "                     center=mp.Vector3(-0.15,-0.250),\n",
    "                    size=mp.Vector3(0,0)),\n",
    "           mp.Source(mp.ContinuousSource(frequency=0.5),\n",
    "                     component=mp.Ex,\n",
    "                     center=mp.Vector3(-0.15,-0.250),\n",
    "                    size=mp.Vector3(0,0),\n",
    "                    amplitude=0+1j),\n",
    "          mp.Source(mp.ContinuousSource(frequency=0.5),\n",
    "                     component=mp.Ey,\n",
    "                     center=mp.Vector3(0.25,-0.25),\n",
    "                    size=mp.Vector3(0,0)),\n",
    "           mp.Source(mp.ContinuousSource(frequency=0.5),\n",
    "                     component=mp.Ex,\n",
    "                     center=mp.Vector3(0.25,-0.25),\n",
    "                    size=mp.Vector3(0,0),\n",
    "                    amplitude=0+1j),\n",
    "          mp.Source(mp.ContinuousSource(frequency=0.5),\n",
    "                     component=mp.Ey,\n",
    "                     center=mp.Vector3(-0.65,-0.25),\n",
    "                    size=mp.Vector3(0,0)),\n",
    "           mp.Source(mp.ContinuousSource(frequency=0.5),\n",
    "                     component=mp.Ex,\n",
    "                     center=mp.Vector3(-0.65,-0.25),\n",
    "                    size=mp.Vector3(0,0),\n",
    "                    amplitude=0-1j),\n",
    "          mp.Source(mp.ContinuousSource(frequency=0.5),\n",
    "                     component=mp.Ey,\n",
    "                     center=mp.Vector3(0.95,-0.45),\n",
    "                    size=mp.Vector3(0,0)),\n",
    "           mp.Source(mp.ContinuousSource(frequency=0.5),\n",
    "                     component=mp.Ex,\n",
    "                     center=mp.Vector3(0.95,-0.45),\n",
    "                    size=mp.Vector3(0,0),\n",
    "                    amplitude=0+1j)]\n",
    "pml_layers = [mp.PML(0.2)]\n",
    "resolution = 100\n",
    "sim = mp.Simulation(cell_size=cell,\n",
    "                    boundary_layers=pml_layers,\n",
    "                    geometry=geometry,\n",
    "                    sources=sources,\n",
    "                    resolution=resolution)\n",
    "from matplotlib import pyplot as plt\n",
    "%matplotlib inline\n",
    "plt.figure(dpi=100)\n",
    "sim.plot2D()\n",
    "plt.show()"
   ]
  },
  {
   "cell_type": "code",
   "execution_count": 21,
   "id": "2ea527c9-4348-4c3a-8c44-dceb84eb8793",
   "metadata": {},
   "outputs": [
    {
     "name": "stdout",
     "output_type": "stream",
     "text": [
      "-----------\n",
      "Initializing structure...\n",
      "time for choose_chunkdivision = 0.000251055 s\n",
      "Working in 2D dimensions.\n",
      "Computational cell is 3 x 3 x 0 with resolution 100\n",
      "time for set_epsilon = 0.0913701 s\n",
      "-----------\n"
     ]
    },
    {
     "data": {
      "application/vnd.jupyter.widget-view+json": {
       "model_id": "dfc56983b20541cd92eef93ff3247e9d",
       "version_major": 2,
       "version_minor": 0
      },
      "text/plain": [
       "FloatProgress(value=0.0, description='0% done ', max=6.0)"
      ]
     },
     "metadata": {},
     "output_type": "display_data"
    },
    {
     "name": "stdout",
     "output_type": "stream",
     "text": [
      "run 0 finished at t = 6.0 (1200 timesteps)\n"
     ]
    },
    {
     "ename": "NameError",
     "evalue": "name 'mycmap1' is not defined",
     "output_type": "error",
     "traceback": [
      "\u001b[0;31m---------------------------------------------------------------------------\u001b[0m",
      "\u001b[0;31mNameError\u001b[0m                                 Traceback (most recent call last)",
      "Input \u001b[0;32mIn [21]\u001b[0m, in \u001b[0;36m<cell line: 11>\u001b[0;34m()\u001b[0m\n\u001b[1;32m      9\u001b[0m fig\u001b[38;5;241m.\u001b[39madd_axes(ax)\n\u001b[1;32m     10\u001b[0m \u001b[38;5;66;03m#plt.figure(dpi=300)\u001b[39;00m\n\u001b[1;32m     11\u001b[0m sim\u001b[38;5;241m.\u001b[39mplot2D(ax\u001b[38;5;241m=\u001b[39max,fields\u001b[38;5;241m=\u001b[39mmp\u001b[38;5;241m.\u001b[39mEy,plot_boundaries_flag\u001b[38;5;241m=\u001b[39m\u001b[38;5;28;01mFalse\u001b[39;00m,labels\u001b[38;5;241m=\u001b[39m\u001b[38;5;28;01mFalse\u001b[39;00m,\n\u001b[0;32m---> 12\u001b[0m            field_parameters\u001b[38;5;241m=\u001b[39m{\u001b[38;5;124m'\u001b[39m\u001b[38;5;124malpha\u001b[39m\u001b[38;5;124m'\u001b[39m:\u001b[38;5;241m1\u001b[39m, \u001b[38;5;124m'\u001b[39m\u001b[38;5;124mcmap\u001b[39m\u001b[38;5;124m'\u001b[39m:\u001b[43mmycmap1\u001b[49m,\u001b[38;5;124m'\u001b[39m\u001b[38;5;124mpost_process\u001b[39m\u001b[38;5;124m'\u001b[39m:modu_f}\n\u001b[1;32m     13\u001b[0m            ,source_parameters\u001b[38;5;241m=\u001b[39m{\u001b[38;5;124m'\u001b[39m\u001b[38;5;124malpha\u001b[39m\u001b[38;5;124m'\u001b[39m:\u001b[38;5;241m1\u001b[39m,\u001b[38;5;124m'\u001b[39m\u001b[38;5;124mcolor\u001b[39m\u001b[38;5;124m'\u001b[39m:\u001b[38;5;124m'\u001b[39m\u001b[38;5;124mwhite\u001b[39m\u001b[38;5;124m'\u001b[39m,\u001b[38;5;124m'\u001b[39m\u001b[38;5;124mlinewidth\u001b[39m\u001b[38;5;124m'\u001b[39m:\u001b[38;5;241m1.5\u001b[39m,\u001b[38;5;124m'\u001b[39m\u001b[38;5;124mhatch\u001b[39m\u001b[38;5;124m'\u001b[39m:\u001b[38;5;124m'\u001b[39m\u001b[38;5;124mo\u001b[39m\u001b[38;5;124m'\u001b[39m})\n\u001b[1;32m     14\u001b[0m plt\u001b[38;5;241m.\u001b[39mshow()\n",
      "\u001b[0;31mNameError\u001b[0m: name 'mycmap1' is not defined"
     ]
    },
    {
     "data": {
      "image/png": "[encoded data removed]",
      "text/plain": [
       "<Figure size 480x320 with 1 Axes>"
      ]
     },
     "metadata": {
      "needs_background": "light"
     },
     "output_type": "display_data"
    }
   ],
   "source": [
    "def modu_f(fd):\n",
    "    output = np.sign(fd) * np.abs(fd) ** 1.5\n",
    "    return output\n",
    "sim.run(until=6)\n",
    "fig = plt.figure(dpi=80)\n",
    "#fig, ax = plt.subplots(dpi=300)\n",
    "ax = plt.Axes(fig, [0.0, 0.0, 1, 1])\n",
    "ax.set_axis_off()\n",
    "fig.add_axes(ax)\n",
    "#plt.figure(dpi=300)\n",
    "sim.plot2D(ax=ax,fields=mp.Ey,plot_boundaries_flag=False,labels=False,\n",
    "           field_parameters={'alpha':1, 'cmap':mycmap1,'post_process':modu_f}\n",
    "           ,source_parameters={'alpha':1,'color':'white','linewidth':1.5,'hatch':'o'})\n",
    "plt.show()"
   ]
  },
  {
   "cell_type": "code",
   "execution_count": null,
   "id": "60469fe4-6918-4425-a726-b6be7319217f",
   "metadata": {},
   "outputs": [],
   "source": []
  }
 ],
 "metadata": {
  "kernelspec": {
   "display_name": "Python 3 (ipykernel)",
   "language": "python",
   "name": "python3"
  },
  "language_info": {
   "codemirror_mode": {
    "name": "ipython",
    "version": 3
   },
   "file_extension": ".py",
   "mimetype": "text/x-python",
   "name": "python",
   "nbconvert_exporter": "python",
   "pygments_lexer": "ipython3",
   "version": "3.10.5"
  }
 },
 "nbformat": 4,
 "nbformat_minor": 5
}
